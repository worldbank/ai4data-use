{
 "cells": [
  {
   "cell_type": "markdown",
   "metadata": {},
   "source": [
    "# Autonomous Reasoning Agent (PART 3)\n",
    "## Objective\n",
    "\n",
    "This notebook demonstrates how to leverage structured outputs from OpenAI's GPT-4o-mini model for data labeling of climate related research papers. The task involves analyzing academic texts to identify and classify mentions of datasets while ensuring consistency in context across pages.\n",
    "\n",
    "\n",
    "## Workflow\n",
    "\n",
    "**PDF Text Extraction:**\n",
    "   * Use PyMuPDF to extract pages from PDF documents.\n",
    "   * Prefiltering document pages using an HF-trained model.\n",
    "\n",
    "**Weakly Supervised Data Labeling**\n",
    "   * Use the GPT-4o-mini model with a customized prompt for structured data extraction.\n",
    "\n",
    "**LLM as a Judge (Validation & Error Correction):**\n",
    "   * Use an LLM to validate extracted dataset mentions.\n",
    "   * Correct or remove errors in dataset identification.\n",
    "   * Filter only **valid dataset mentions (`valid: true`)**, discarding invalid entries.\n",
    "**Autonomous Reasoning Agent**\n",
    "   * Use a reasoning pipeline to validate the LLM as a judge output\n",
    "**Next Steps**\n",
    "   * Scale this into a batch processing of multiple files / directory of research papers.\n"
   ]
  },
  {
   "cell_type": "markdown",
   "metadata": {},
   "source": [
    "Install Required Packages"
   ]
  },
  {
   "cell_type": "code",
   "execution_count": 1,
   "metadata": {
    "execution": {
     "iopub.execute_input": "2025-02-18T08:15:25.704532Z",
     "iopub.status.busy": "2025-02-18T08:15:25.704134Z",
     "iopub.status.idle": "2025-02-18T08:15:33.311397Z",
     "shell.execute_reply": "2025-02-18T08:15:33.310191Z",
     "shell.execute_reply.started": "2025-02-18T08:15:25.704501Z"
    },
    "trusted": true
   },
   "outputs": [],
   "source": [
    "%%capture\n",
    "!pip install pymupdf openai nltk scikit-learn python-dotenv"
   ]
  },
  {
   "cell_type": "markdown",
   "metadata": {},
   "source": [
    "## Autonomous Reasoning for Filtering Validated Dataset Mentions\n",
    "\n",
    "Even after LLM-as-a-Judge validation, many non-dataset references mistakenly classified as datasets. To improve classification accuracy, we will implement a reasoning agent that autonomously develops and executes a structured self-evaluation strategy"
   ]
  },
  {
   "cell_type": "code",
   "execution_count": 2,
   "metadata": {},
   "outputs": [],
   "source": [
    "from openai import OpenAI\n",
    "\n",
    "# Load environment variables from .env file\n",
    "# load_dotenv()\n",
    "\n",
    "API_KEY = \"YOUR_API_KEY\"\n",
    "MODEL = \"gpt-4o-mini\"\n",
    "client = OpenAI(api_key=API_KEY)  # initialize the client"
   ]
  },
  {
   "cell_type": "code",
   "execution_count": 3,
   "metadata": {
    "execution": {
     "iopub.execute_input": "2025-02-18T08:23:05.400050Z",
     "iopub.status.busy": "2025-02-18T08:23:05.399746Z",
     "iopub.status.idle": "2025-02-18T08:23:05.420725Z",
     "shell.execute_reply": "2025-02-18T08:23:05.419507Z",
     "shell.execute_reply.started": "2025-02-18T08:23:05.400014Z"
    },
    "trusted": true
   },
   "outputs": [],
   "source": [
    "THINKING_PROMPT = \"\"\"Your task is to review a structured user input that may mention a dataset in a text. Please take your time.\n",
    "\n",
    "Carefully analyze what the text in the `mentioned_in` field explicitly means and in what context the `raw_name` is discussed. Never infer, imply, or assume, so you must exclusively rely on the text as facts. If there are multiple datasets, do the assessment individually.\n",
    "\n",
    "Plan a strategy to ensure you can maximize the chances of correctly judging and classifying whether the provided input:\n",
    "- Clearly, the `raw_name` falls under the concept of a data/dataset and not by extension or implicitly.\n",
    "- Whether the raw_name is actually in the `mentioned_in`.\n",
    "- Whether the harmonized_name (if present) is actually in the `mentioned_in`. If not found, remove it from the output.\n",
    "- The `raw_name` is `properly_named` (e.g., DHS, LSMS, etc.), `descriptive_but_unnamed` (administrative school records in Ghana for 2020) , or `vague_generic` (a survey data). Any of these are valid data mentions. To be sure, elaborate how you interpret these classes and use that for classifying.\n",
    "- The context concerning usage of the dataset is mentioned: is it `primary`, `supporting`, or `background`.\n",
    "\n",
    "Then, write down your strategy.\n",
    "\n",
    "After you write down your strategy, synthesize it to develop a rubric of what qualifies as a dataset, which you must use to base your judgment.\n",
    "\n",
    "Incorporate a devil's advocate review as part of your strategy. If the review shows inconsistency, update accordingly. Do not reason based on assumption, inference, or implicit thinking.  Relationships do not count as a dataset; for example, the producer is not a dataset.\n",
    "\n",
    "Execute the strategy, **step by step**, and write an analysis of how you interpret the `raw_name` in the context of the `mentioned_in`.\n",
    "\n",
    "If your analysis results in the `raw_name` being a dataset, set the `valid` field to `true`, otherwise, set it to `false`. In both cases, return the result of your analysis focusing on the `raw_name` in the `reason` field. If it is invalid, set the `specificity` and `context` to null.\n",
    "\n",
    "ALWAYS WRITE A DEVIL'S ADVOCATE REVIEW AFTER THE ANALYSIS BEFORE CONCLUDING.\n",
    "\n",
    "After you write your analysis, your output must repeat the input with the `specificity`, `context`, `valid` and `invalid_reason` values replaced accordingly in the same level as the corresponding `raw_name`. IMPORTANT: the final output must be between these tags <OUTPUTDATA>```json<the output must be here>```</OUTPUTDATA>\"\"\""
   ]
  },
  {
   "cell_type": "code",
   "execution_count": 4,
   "metadata": {
    "execution": {
     "iopub.execute_input": "2025-02-18T08:23:05.422122Z",
     "iopub.status.busy": "2025-02-18T08:23:05.421757Z",
     "iopub.status.idle": "2025-02-18T08:23:05.444475Z",
     "shell.execute_reply": "2025-02-18T08:23:05.443399Z",
     "shell.execute_reply.started": "2025-02-18T08:23:05.422081Z"
    },
    "trusted": true
   },
   "outputs": [],
   "source": [
    "import json\n",
    "from tqdm.auto import tqdm\n",
    "\n",
    "# Output of the LLM as a Judge Critic\n",
    "llm_validated_path = \"output/llm_judge_validation/The-local-socioeconomic-effects-of-gold-mining-evidence-from-Ghana.json\"\n",
    "with open(llm_validated_path, \"r\") as infile:\n",
    "    validated_input = json.load(infile)"
   ]
  },
  {
   "cell_type": "code",
   "execution_count": 5,
   "metadata": {
    "execution": {
     "iopub.execute_input": "2025-02-18T08:23:05.445679Z",
     "iopub.status.busy": "2025-02-18T08:23:05.445420Z",
     "iopub.status.idle": "2025-02-18T08:23:05.463345Z",
     "shell.execute_reply": "2025-02-18T08:23:05.462162Z",
     "shell.execute_reply.started": "2025-02-18T08:23:05.445657Z"
    },
    "trusted": true
   },
   "outputs": [],
   "source": [
    "def filter_valid_mentions(validated_input):\n",
    "    # Filter out invalid datasets before passing to LLM\n",
    "    filtered_mentions = []\n",
    "    for page in validated_input[\"pages\"]:\n",
    "        for mention in page.get(\"data_mentions\", []):\n",
    "            valid_datasets = [\n",
    "                dataset\n",
    "                for dataset in mention[\"datasets\"]\n",
    "                if dataset.get(\"valid\", False)\n",
    "            ]\n",
    "\n",
    "            if valid_datasets:  # Only keep mentions with at least one valid dataset\n",
    "                filtered_mentions.append(\n",
    "                    {\n",
    "                        \"mentioned_in\": mention[\"mentioned_in\"],\n",
    "                        \"datasets\": valid_datasets,\n",
    "                        \"page\": page[\"page\"],\n",
    "                        \"dataset_used\": page[\"dataset_used\"],\n",
    "                    }\n",
    "                )\n",
    "\n",
    "    input_data = {\n",
    "        \"source\": validated_input.get(\"source\"),\n",
    "        \"data_mentions\": filtered_mentions,\n",
    "    }\n",
    "\n",
    "    return input_data"
   ]
  },
  {
   "cell_type": "code",
   "execution_count": 6,
   "metadata": {
    "execution": {
     "iopub.execute_input": "2025-02-18T08:23:05.464644Z",
     "iopub.status.busy": "2025-02-18T08:23:05.464335Z",
     "iopub.status.idle": "2025-02-18T08:23:05.482489Z",
     "shell.execute_reply": "2025-02-18T08:23:05.481255Z",
     "shell.execute_reply.started": "2025-02-18T08:23:05.464617Z"
    },
    "trusted": true
   },
   "outputs": [],
   "source": [
    "input_data = filter_valid_mentions(validated_input)"
   ]
  },
  {
   "cell_type": "code",
   "execution_count": 7,
   "metadata": {
    "execution": {
     "iopub.execute_input": "2025-02-18T08:23:05.483846Z",
     "iopub.status.busy": "2025-02-18T08:23:05.483532Z",
     "iopub.status.idle": "2025-02-18T08:23:05.503755Z",
     "shell.execute_reply": "2025-02-18T08:23:05.502713Z",
     "shell.execute_reply.started": "2025-02-18T08:23:05.483820Z"
    },
    "trusted": true
   },
   "outputs": [],
   "source": [
    "def prepare_input_data(data):\n",
    "    for mention in data.get(\"data_mentions\", []):\n",
    "        for ds in mention.get(\"datasets\", []):\n",
    "            # Replace string \"None\" with actual None\n",
    "            if ds.get(\"producer\") == \"None\":\n",
    "                ds[\"producer\"] = None\n",
    "\n",
    "            # Remove unwanted keys\n",
    "            keys_to_remove = [\n",
    "                \"sent\",\n",
    "                \"specificity\",\n",
    "                \"context\",\n",
    "                \"relevance\",\n",
    "                \"data_type\",\n",
    "                \"valid\",\n",
    "                \"invalid_reason\",\n",
    "            ]\n",
    "            for key in keys_to_remove:\n",
    "                ds.pop(key, None)  # `None` as default to avoid KeyError\n",
    "    return data"
   ]
  },
  {
   "cell_type": "code",
   "execution_count": 8,
   "metadata": {
    "execution": {
     "iopub.execute_input": "2025-02-18T08:23:05.505099Z",
     "iopub.status.busy": "2025-02-18T08:23:05.504767Z",
     "iopub.status.idle": "2025-02-18T08:23:05.524543Z",
     "shell.execute_reply": "2025-02-18T08:23:05.523435Z",
     "shell.execute_reply.started": "2025-02-18T08:23:05.505064Z"
    },
    "trusted": true
   },
   "outputs": [],
   "source": [
    "input_data = prepare_input_data(input_data)"
   ]
  },
  {
   "cell_type": "code",
   "execution_count": 9,
   "metadata": {
    "execution": {
     "iopub.execute_input": "2025-02-18T08:23:05.525984Z",
     "iopub.status.busy": "2025-02-18T08:23:05.525644Z",
     "iopub.status.idle": "2025-02-18T08:23:05.544909Z",
     "shell.execute_reply": "2025-02-18T08:23:05.543768Z",
     "shell.execute_reply.started": "2025-02-18T08:23:05.525956Z"
    },
    "trusted": true
   },
   "outputs": [
    {
     "data": {
      "text/plain": [
       "{'mentioned_in': 'We also allow for spillovers across \\ndistricts, in a district-level analysis. We use two complementary geocoded household data sets \\nto analyze outcomes in Ghana: the Demographic and Health Survey (DHS) and the Ghana \\nLiving Standard Survey (GLSS), which provide information on a wide range of welfare \\noutcomes. The paper contributes to the growing literature on the local effects of mining.',\n",
       " 'datasets': [{'raw_name': 'Demographic and Health Survey (DHS)',\n",
       "   'harmonized_name': 'Demographic and Health Survey (DHS)',\n",
       "   'acronym': 'DHS',\n",
       "   'producer': None,\n",
       "   'year': None},\n",
       "  {'raw_name': 'Ghana Living Standard Survey (GLSS)',\n",
       "   'harmonized_name': 'Ghana Living Standard Survey (GLSS)',\n",
       "   'acronym': 'GLSS',\n",
       "   'producer': None,\n",
       "   'year': None}],\n",
       " 'page': 4,\n",
       " 'dataset_used': True}"
      ]
     },
     "execution_count": 9,
     "metadata": {},
     "output_type": "execute_result"
    }
   ],
   "source": [
    "# inspect our prepared input data\n",
    "\n",
    "input_data.get(\"data_mentions\")[0]"
   ]
  },
  {
   "cell_type": "code",
   "execution_count": 10,
   "metadata": {
    "execution": {
     "iopub.execute_input": "2025-02-18T08:23:05.546341Z",
     "iopub.status.busy": "2025-02-18T08:23:05.546081Z",
     "iopub.status.idle": "2025-02-18T08:23:05.566182Z",
     "shell.execute_reply": "2025-02-18T08:23:05.565140Z",
     "shell.execute_reply.started": "2025-02-18T08:23:05.546318Z"
    },
    "trusted": true
   },
   "outputs": [],
   "source": [
    "def process_reasoning(input_data):\n",
    "    all_outputs = []\n",
    "    for idx, mention in tqdm(\n",
    "        enumerate(input_data.get(\"data_mentions\")),\n",
    "        desc=\"processing autonomous reasoning\",\n",
    "    ):\n",
    "        if not mention:\n",
    "            continue\n",
    "\n",
    "        messages = [\n",
    "            {\"role\": \"system\", \"content\": THINKING_PROMPT},\n",
    "            {\"role\": \"user\", \"content\": f\"{json.dumps(mention, indent=2)}\"},\n",
    "        ]\n",
    "\n",
    "        completion = client.chat.completions.create(\n",
    "            model=MODEL,\n",
    "            messages=messages,\n",
    "            temperature=0.2,\n",
    "        )\n",
    "\n",
    "        response = completion.choices[0].message.content\n",
    "\n",
    "        all_outputs.append(response)\n",
    "\n",
    "    base_source = input_data[\"source\"]\n",
    "    output_path = f\"output/reasoning/{base_source}.json\"\n",
    "    with open(output_path, \"w\") as outfile:\n",
    "        json.dump(all_outputs, outfile, indent=2)\n",
    "\n",
    "    return None"
   ]
  },
  {
   "cell_type": "code",
   "execution_count": 11,
   "metadata": {
    "execution": {
     "iopub.execute_input": "2025-02-18T08:23:05.567520Z",
     "iopub.status.busy": "2025-02-18T08:23:05.567236Z",
     "iopub.status.idle": "2025-02-18T08:31:32.117297Z",
     "shell.execute_reply": "2025-02-18T08:31:32.116132Z",
     "shell.execute_reply.started": "2025-02-18T08:23:05.567494Z"
    },
    "trusted": true
   },
   "outputs": [],
   "source": [
    "# get the output\n",
    "# process_reasoning(input_data)"
   ]
  },
  {
   "cell_type": "code",
   "execution_count": 12,
   "metadata": {},
   "outputs": [],
   "source": [
    "reasoning_fpath = \"output/reasoning/The-local-socioeconomic-effects-of-gold-mining-evidence-from-Ghana.json\"\n",
    "\n",
    "with open(reasoning_fpath) as f:\n",
    "    reasoning_payload = json.load(f)"
   ]
  },
  {
   "cell_type": "code",
   "execution_count": 13,
   "metadata": {},
   "outputs": [
    {
     "data": {
      "text/plain": [
       "'### Strategy\\n\\n1. **Identify the Context**: Analyze the `mentioned_in` text to determine if it explicitly mentions the `raw_name` datasets and their context of use.\\n  \\n2. **Check for Explicit Mentions**: Ensure that the `raw_name` is clearly stated in the `mentioned_in` text without any ambiguity.\\n\\n3. **Classify the Dataset Type**: Determine if the `raw_name` is `properly_named`, `descriptive_but_unnamed`, or `vague_generic` based on the definitions:\\n   - **Properly Named**: Clearly defined datasets with specific titles (e.g., DHS).\\n   - **Descriptive but Unnamed**: Descriptions of datasets without specific titles (e.g., administrative records).\\n   - **Vague Generic**: General terms that do not specify a dataset (e.g., survey data).\\n\\n4. **Assess the Context of Usage**: Identify if the dataset is used as `primary`, `supporting`, or `background` based on how it is referenced in the text.\\n\\n5. **Devil\\'s Advocate Review**: Critically evaluate the findings to ensure no assumptions are made and that the analysis aligns strictly with the provided text.\\n\\n### Rubric for Dataset Qualification\\n- **Dataset Identification**: The `raw_name` must be explicitly mentioned in the `mentioned_in` text.\\n- **Type Classification**: Must fit into one of the three categories: `properly_named`, `descriptive_but_unnamed`, or `vague_generic`.\\n- **Context of Use**: Must clearly indicate how the dataset is utilized in the analysis.\\n- **Validity**: If the above criteria are met, the dataset is considered valid.\\n\\n### Analysis\\n\\n1. **Demographic and Health Survey (DHS)**:\\n   - **Mentioned in Text**: The text explicitly states \"Demographic and Health Survey (DHS)\".\\n   - **Type Classification**: This is a `properly_named` dataset as it has a specific title.\\n   - **Context of Use**: The DHS is used in a district-level analysis, indicating it is a `primary` dataset for the analysis.\\n\\n2. **Ghana Living Standard Survey (GLSS)**:\\n   - **Mentioned in Text**: The text explicitly states \"Ghana Living Standard Survey (GLSS)\".\\n   - **Type Classification**: This is also a `properly_named` dataset.\\n   - **Context of Use**: Similar to the DHS, the GLSS is used in a district-level analysis, indicating it is a `primary` dataset.\\n\\nBoth datasets are clearly mentioned, properly named, and used as primary datasets in the analysis.\\n\\n### Devil\\'s Advocate Review\\nUpon reviewing the analysis, both datasets are explicitly mentioned and classified correctly. There are no inconsistencies or assumptions made. The context of their usage is clear and aligns with the definitions provided.\\n\\n### Final Output\\n```json\\n{\\n  \"mentioned_in\": \"We also allow for spillovers across \\\\ndistricts, in a district-level analysis. We use two complementary geocoded household data sets \\\\nto analyze outcomes in Ghana: the Demographic and Health Survey (DHS) and the Ghana \\\\nLiving Standard Survey (GLSS), which provide information on a wide range of welfare \\\\noutcomes. The paper contributes to the growing literature on the local effects of mining.\",\\n  \"datasets\": [\\n    {\\n      \"raw_name\": \"Demographic and Health Survey (DHS)\",\\n      \"harmonized_name\": \"Demographic and Health Survey (DHS)\",\\n      \"acronym\": \"DHS\",\\n      \"producer\": null,\\n      \"year\": null,\\n      \"specificity\": \"properly_named\",\\n      \"context\": \"primary\",\\n      \"valid\": true,\\n      \"invalid_reason\": null\\n    },\\n    {\\n      \"raw_name\": \"Ghana Living Standard Survey (GLSS)\",\\n      \"harmonized_name\": \"Ghana Living Standard Survey (GLSS)\",\\n      \"acronym\": \"GLSS\",\\n      \"producer\": null,\\n      \"year\": null,\\n      \"specificity\": \"properly_named\",\\n      \"context\": \"primary\",\\n      \"valid\": true,\\n      \"invalid_reason\": null\\n    }\\n  ],\\n  \"page\": 4,\\n  \"dataset_used\": true\\n}\\n```'"
      ]
     },
     "execution_count": 13,
     "metadata": {},
     "output_type": "execute_result"
    }
   ],
   "source": [
    "reasoning_payload[0]"
   ]
  },
  {
   "cell_type": "code",
   "execution_count": 14,
   "metadata": {
    "execution": {
     "iopub.execute_input": "2025-02-18T08:45:32.758765Z",
     "iopub.status.busy": "2025-02-18T08:45:32.758354Z",
     "iopub.status.idle": "2025-02-18T08:45:32.766025Z",
     "shell.execute_reply": "2025-02-18T08:45:32.764664Z",
     "shell.execute_reply.started": "2025-02-18T08:45:32.758736Z"
    },
    "trusted": true
   },
   "outputs": [],
   "source": [
    "from bs4 import BeautifulSoup\n",
    "\n",
    "validated_datasets = []\n",
    "for content in reasoning_payload:\n",
    "    try:\n",
    "        content = content[content.index(\"```json\") + len(\"```json\") :]\n",
    "        content = content[: content.index(\"```\")]\n",
    "\n",
    "        if \"<outputdata>\" in content.lower() and \"</outputdata>\" in content.lower():\n",
    "            soup = BeautifulSoup(content, \"html.parser\")\n",
    "            content = soup.find(\"outputdata\").text\n",
    "\n",
    "        content = json.loads(content)\n",
    "        validated_datasets.append(content)\n",
    "    except Exception:\n",
    "        pass"
   ]
  },
  {
   "cell_type": "code",
   "execution_count": 15,
   "metadata": {
    "execution": {
     "iopub.execute_input": "2025-02-18T08:46:20.383173Z",
     "iopub.status.busy": "2025-02-18T08:46:20.382720Z",
     "iopub.status.idle": "2025-02-18T08:46:20.391084Z",
     "shell.execute_reply": "2025-02-18T08:46:20.389786Z",
     "shell.execute_reply.started": "2025-02-18T08:46:20.383141Z"
    },
    "trusted": true
   },
   "outputs": [
    {
     "data": {
      "text/plain": [
       "{'mentioned_in': 'We also allow for spillovers across \\ndistricts, in a district-level analysis. We use two complementary geocoded household data sets \\nto analyze outcomes in Ghana: the Demographic and Health Survey (DHS) and the Ghana \\nLiving Standard Survey (GLSS), which provide information on a wide range of welfare \\noutcomes. The paper contributes to the growing literature on the local effects of mining.',\n",
       " 'datasets': [{'raw_name': 'Demographic and Health Survey (DHS)',\n",
       "   'harmonized_name': 'Demographic and Health Survey (DHS)',\n",
       "   'acronym': 'DHS',\n",
       "   'producer': None,\n",
       "   'year': None,\n",
       "   'specificity': 'properly_named',\n",
       "   'context': 'primary',\n",
       "   'valid': True,\n",
       "   'invalid_reason': None},\n",
       "  {'raw_name': 'Ghana Living Standard Survey (GLSS)',\n",
       "   'harmonized_name': 'Ghana Living Standard Survey (GLSS)',\n",
       "   'acronym': 'GLSS',\n",
       "   'producer': None,\n",
       "   'year': None,\n",
       "   'specificity': 'properly_named',\n",
       "   'context': 'primary',\n",
       "   'valid': True,\n",
       "   'invalid_reason': None}],\n",
       " 'page': 4,\n",
       " 'dataset_used': True}"
      ]
     },
     "execution_count": 15,
     "metadata": {},
     "output_type": "execute_result"
    }
   ],
   "source": [
    "validated_datasets[0]"
   ]
  },
  {
   "cell_type": "markdown",
   "metadata": {},
   "source": [
    "## Next Steps\n",
    "\n",
    "You can scale this process to process multiple pdfs in a directory via openai batch processing. You can learn more from [this notebook](batch-processing-example.ipynb)\n",
    "\n",
    "Upon scaling, from there you can create a fine tuning dataset for dataset mentions, you can check [this notebook](generate-finetuning-simpleschema.ipynb) for reference on how to do it."
   ]
  }
 ],
 "metadata": {
  "kaggle": {
   "accelerator": "none",
   "dataSources": [],
   "dockerImageVersionId": 30886,
   "isGpuEnabled": false,
   "isInternetEnabled": true,
   "language": "python",
   "sourceType": "notebook"
  },
  "kernelspec": {
   "display_name": "ai4data",
   "language": "python",
   "name": "python3"
  },
  "language_info": {
   "codemirror_mode": {
    "name": "ipython",
    "version": 3
   },
   "file_extension": ".py",
   "mimetype": "text/x-python",
   "name": "python",
   "nbconvert_exporter": "python",
   "pygments_lexer": "ipython3",
   "version": "3.10.16"
  }
 },
 "nbformat": 4,
 "nbformat_minor": 4
}
