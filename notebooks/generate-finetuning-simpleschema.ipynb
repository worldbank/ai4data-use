{
 "cells": [
  {
   "cell_type": "markdown",
   "metadata": {},
   "source": [
    "### Generate Synthetic Fine Tuning Dataset (PART 4)\n",
    "\n",
    "This notebook assumes that you have processed the papers via using the pipeline\n",
    "and your `extraction_outputs/reasoning` folder contains the output, which will be the input in this task."
   ]
  },
  {
   "cell_type": "code",
   "execution_count": 37,
   "metadata": {},
   "outputs": [],
   "source": [
    "import os\n",
    "import json\n",
    "\n",
    "# Define paths\n",
    "reasoning_folder = \"./extraction_outputs/reasoning\"\n",
    "text_folder = \"./output/text\"\n",
    "output_folder = \"./extraction_outputs/simpleschema\"\n",
    "\n",
    "# Ensure output folder exists\n",
    "os.makedirs(output_folder, exist_ok=True)"
   ]
  },
  {
   "cell_type": "code",
   "execution_count": 38,
   "metadata": {},
   "outputs": [],
   "source": [
    "def load_json_files(folder):\n",
    "    \"\"\"Load all JSON files from a given folder into a dictionary {paper_id: content}.\"\"\"\n",
    "    json_data = {}\n",
    "    for filename in os.listdir(folder):\n",
    "        if filename.endswith(\".json\"):\n",
    "            filepath = os.path.join(folder, filename)\n",
    "            with open(filepath, \"r\", encoding=\"utf-8\") as f:\n",
    "                data = json.load(f)\n",
    "                paper_id = filename.replace(\".json\", \"\")\n",
    "                json_data[paper_id] = data\n",
    "    return json_data\n",
    "\n",
    "\n",
    "# Load JSON files\n",
    "payload_data = load_json_files(reasoning_folder)\n",
    "text_data = load_json_files(text_folder)"
   ]
  },
  {
   "cell_type": "code",
   "execution_count": 39,
   "metadata": {},
   "outputs": [],
   "source": [
    "for paper_id, text_json in text_data.items():\n",
    "    # Get pages from the text JSON\n",
    "    text_pages = text_json.get(\"pages\", {})\n",
    "\n",
    "    # Retrieve the corresponding payload JSON\n",
    "    payload_json = payload_data.get(paper_id, {})\n",
    "    payload_pages_list = payload_json.get(\"pages\", [])\n",
    "\n",
    "    # Build a mapping from page number to a list of data_mentions\n",
    "    payload_pages_mapping = {}\n",
    "    for page_obj in payload_pages_list:\n",
    "        data_mentions = page_obj.get(\"data_mentions\", [])\n",
    "        for mention in data_mentions:\n",
    "            page_no = mention.get(\"page\")\n",
    "            if page_no is not None:\n",
    "                payload_pages_mapping.setdefault(page_no, []).append(mention)\n",
    "\n",
    "    merged_pages = []\n",
    "    # Iterate over each page in the text JSON and create a merged object per page\n",
    "    for page_key, text in text_pages.items():\n",
    "        try:\n",
    "            page_number = int(page_key)\n",
    "        except ValueError:\n",
    "            continue  # Skip keys that cannot be converted to int\n",
    "\n",
    "        # Set payload: if no data_mentions exist, set data_used to False and data_mentions to an empty list.\n",
    "        data_mentions = payload_pages_mapping.get(page_number, [])\n",
    "        if not data_mentions:\n",
    "            payload_field = {\"data_used\": False, \"data_mentions\": []}\n",
    "        else:\n",
    "            payload_field = {\"data_used\": True, \"data_mentions\": data_mentions}\n",
    "\n",
    "        merged_page = {\n",
    "            \"paper_id\": text_json.get(\"source\", paper_id),\n",
    "            \"page\": page_number,\n",
    "            \"text\": text,\n",
    "            \"payload\": payload_field,\n",
    "        }\n",
    "        merged_pages.append(merged_page)\n",
    "\n",
    "    # Consolidate pages for this paper_id into one JSON object\n",
    "    merged_output = {\n",
    "        \"paper_id\": text_json.get(\"source\", paper_id),\n",
    "        \"pages\": merged_pages,\n",
    "    }\n",
    "\n",
    "    # Save the merged output per paper_id / source\n",
    "    output_filename = f\"{paper_id}.json\"\n",
    "    output_filepath = os.path.join(output_folder, output_filename)\n",
    "    with open(output_filepath, \"w\", encoding=\"utf-8\") as outfile:\n",
    "        json.dump(merged_output, outfile, indent=2, ensure_ascii=False)"
   ]
  },
  {
   "cell_type": "code",
   "execution_count": 40,
   "metadata": {},
   "outputs": [
    {
     "name": "stdout",
     "output_type": "stream",
     "text": [
      "Total individual items: 80\n"
     ]
    }
   ],
   "source": [
    "import os\n",
    "import json\n",
    "\n",
    "folder = \"extraction_outputs/simpleschema\"\n",
    "\n",
    "# init\n",
    "all_items = []\n",
    "\n",
    "# Iterate through each file in the folder.\n",
    "for filename in os.listdir(folder):\n",
    "    if filename.endswith(\".json\"):\n",
    "        filepath = os.path.join(folder, filename)\n",
    "        with open(filepath, \"r\", encoding=\"utf-8\") as f:\n",
    "            data = json.load(f)\n",
    "\n",
    "        # If the JSON data is a dictionary with a key \"pages\", iterate over its list.\n",
    "        if isinstance(data, dict):\n",
    "            if \"pages\" in data and isinstance(data[\"pages\"], list):\n",
    "                for item in data[\"pages\"]:\n",
    "                    all_items.append(item)\n",
    "            else:\n",
    "                # Otherwise, iterate over all values in the dictionary.\n",
    "                for key, value in data.items():\n",
    "                    if isinstance(value, list):\n",
    "                        all_items.extend(value)\n",
    "                    else:\n",
    "                        all_items.append(value)\n",
    "        # If the JSON data is already a list, extend the master list.\n",
    "        elif isinstance(data, list):\n",
    "            all_items.extend(data)\n",
    "        else:\n",
    "            all_items.append(data)\n",
    "\n",
    "print(f\"Total individual items: {len(all_items)}\")"
   ]
  },
  {
   "cell_type": "code",
   "execution_count": 41,
   "metadata": {},
   "outputs": [
    {
     "data": {
      "text/plain": [
       "{'paper_id': '06c998e896785ab8b6d6caa4a8beb2f505c375a5',\n",
       " 'page': 9,\n",
       " 'text': '7\\n3. \\nEmpirical Results \\n3.1. \\nHeadcount index of poverty \\nTable 2 presents results regarding the impact on poverty of the increases in prices for the \\ngoods listed in table 1 by country, together with data on the share of total consumption \\nrepresented by these goods. These shares of total consumption range from 6.5 percent in Togo to \\n28.3 percent in the Democratic Republic of Congo and even 41.0 percent in Niger. Yet for two \\nthirds of the countries, the food items included in the simulations account for less than 15 percent \\nof total consumption. The summary data on the impact on the headcount index of poverty (i.e., \\nthe share of the population in poverty) of the higher food prices is given for two levels of price \\nincrease: 25 percent and 50 percent. As mentioned earlier, the lower bound impact on poverty is \\nobtained by combining the consumer and producer impact, while the upper bound impact factors \\nin gains for net sellers of food. In two countries (Burkina Faso and Senegal), due to lack of \\nappropriate data on agricultural production in the surveys, we compute only the upper bound \\nestimates. \\nConsider the increase in poverty stemming from a 50 percent increase in prices. At the \\nnational level the upper bound estimates suggest that the increase in the headcount index of \\npoverty varies from 1.8 percentage point in Ghana to 9.6 points in Senegal. The differences in \\nimpacts are due in part to the fact that the sets of goods considered for the simulations in the \\nvarious countries represent different shares of total consumption. In Ghana the goods account \\nfor 7.7 percent of total consumption versus 20.5 percent in Senegal. If we look at the impact on \\npoverty per percentage point of consumption accounted for by the food items included in the \\nanalysis, the poverty impact varies from 0.17 point in the DRC to 0.47 point in Senegal. If we \\nwere looking at the poverty gap measure of poverty, we would probably have a smaller range of \\nimpacts per percentage point of consumption included in the food items used for the simulations. \\n \\nThe impacts vary between countries, and between urban and rural areas within countries. \\nIn many countries, the poverty impacts are larger in percentage points in urban than in rural \\nareas, but this is not always the case. In Ghana, Senegal, and Liberia, the poverty impact is \\nactually larger in rural areas than in urban areas. In Ghana, this is essentially because poverty is \\nlow in urban areas in comparison to other countries. As Ghana’s urban population is better off, \\nonly a small percentage of urban dwellers fall into poverty with the price shock. In Senegal and \\nLiberia, this is in part because a large share of food consumption in the country is imported. This',\n",
       " 'payload': {'data_used': True,\n",
       "  'data_mentions': [{'mentioned_in': 'As mentioned earlier, the lower bound impact on poverty is \\nobtained by combining the consumer and producer impact, while the upper bound impact factors \\nin gains for net sellers of food. In two countries (Burkina Faso and Senegal), due to lack of \\nappropriate data on agricultural production in the surveys, we compute only the upper bound \\nestimates.',\n",
       "    'page': 9,\n",
       "    'dataset_used': True,\n",
       "    'datasets': [{'raw_name': 'data on agricultural production in the surveys',\n",
       "      'harmonized_name': None,\n",
       "      'acronym': None,\n",
       "      'producer': None,\n",
       "      'year': None,\n",
       "      'specificity': 'descriptive_but_unnamed',\n",
       "      'context': 'supporting',\n",
       "      'valid': True,\n",
       "      'invalid_reason': None}]}]}}"
      ]
     },
     "execution_count": 41,
     "metadata": {},
     "output_type": "execute_result"
    }
   ],
   "source": [
    "all_items[8]"
   ]
  },
  {
   "cell_type": "code",
   "execution_count": 42,
   "metadata": {},
   "outputs": [],
   "source": [
    "import random\n",
    "from copy import deepcopy\n",
    "\n",
    "dataset_consolidated = deepcopy(all_items)\n",
    "random.seed(123)\n",
    "random.shuffle(dataset_consolidated)"
   ]
  },
  {
   "cell_type": "code",
   "execution_count": 43,
   "metadata": {},
   "outputs": [],
   "source": [
    "# ideally you will split the entire reasoning output directory into train, valid and test.\n",
    "# You can use the code below to split the data into train, valid and test\n",
    "\n",
    "test_data = random.sample(dataset_consolidated, int(len(dataset_consolidated) * 0.1))\n",
    "valid_data = [i for i in dataset_consolidated if i not in test_data]\n",
    "valid_data = random.sample(valid_data, int(len(dataset_consolidated) * 0.1))\n",
    "train_data = [\n",
    "    i for i in dataset_consolidated if i not in test_data and i not in valid_data\n",
    "]"
   ]
  },
  {
   "cell_type": "code",
   "execution_count": 44,
   "metadata": {},
   "outputs": [
    {
     "data": {
      "text/plain": [
       "(8, 8, 64)"
      ]
     },
     "execution_count": 44,
     "metadata": {},
     "output_type": "execute_result"
    }
   ],
   "source": [
    "len(test_data), len(valid_data), len(train_data)"
   ]
  },
  {
   "cell_type": "code",
   "execution_count": 45,
   "metadata": {},
   "outputs": [],
   "source": [
    "def build_finetuning_dataset(dataset, split_name, out_dir, data_id):\n",
    "    assert split_name in [\"train\", \"valid\", \"test\"]\n",
    "\n",
    "    with open(os.path.join(out_dir, f\"{data_id}-{split_name}.json\"), \"w\") as f:\n",
    "        json.dump(dataset, f)\n",
    "\n",
    "    fine_tune_dataset = dataset  # [o for o in data_detected_dataset if not o[\"skip\"]]\n",
    "\n",
    "    \"\"\"[{'from': 'human',\n",
    "    'value': 'What is the typical wattage of bulb in a lightbox?'},\n",
    "    {'from': 'gpt',\n",
    "    'value': 'The typical wattage of a bulb in a lightbox is 60 watts, although domestic LED bulbs are normally much lower than 60 watts, as they produce the same or greater lumens for less wattage than alternatives. A 60-watt Equivalent LED bulb can be calculated using the 7:1 ratio, which divides 60 watts by 7 to get roughly 9 watts.'}]\"\"\"\n",
    "\n",
    "    # Create the dataset\n",
    "    conversation_data = []\n",
    "\n",
    "    for fd in fine_tune_dataset:\n",
    "        conv = []\n",
    "        conv.append(\n",
    "            {\n",
    "                \"from\": \"human\",\n",
    "                \"value\": fd[\"text\"],\n",
    "            }\n",
    "        )\n",
    "\n",
    "        fd = fd.copy()\n",
    "\n",
    "        payload = deepcopy(fd[\"payload\"])\n",
    "\n",
    "        for dm in payload[\"data_mentions\"]:\n",
    "            for d in dm[\"datasets\"]:\n",
    "                d.pop(\"valid\", None)\n",
    "                d.pop(\"invalid_reason\", None)\n",
    "                d.pop(\"sent\", None)\n",
    "\n",
    "        conv.append(\n",
    "            {\n",
    "                \"from\": \"gpt\",\n",
    "                \"value\": json.dumps(payload, indent=2),\n",
    "            }\n",
    "        )\n",
    "\n",
    "        conversation_data.append(conv)\n",
    "\n",
    "    print(len(conversation_data))\n",
    "\n",
    "    with open(\n",
    "        os.path.join(out_dir, f\"conversation_data_{data_id}-{split_name}.json\"), \"w\"\n",
    "    ) as f:\n",
    "        json.dump(conversation_data, f)"
   ]
  },
  {
   "cell_type": "code",
   "execution_count": 46,
   "metadata": {},
   "outputs": [
    {
     "name": "stdout",
     "output_type": "stream",
     "text": [
      "64\n",
      "8\n",
      "8\n"
     ]
    }
   ],
   "source": [
    "data_id = \"finetune-simpleschema\"\n",
    "out_dir = os.path.join(\"extraction_outputs\", \"simpleschema\", \"finetune\")\n",
    "os.makedirs(out_dir, exist_ok=True)\n",
    "\n",
    "build_finetuning_dataset(train_data, \"train\", out_dir, data_id)\n",
    "build_finetuning_dataset(valid_data, \"valid\", out_dir, data_id)\n",
    "build_finetuning_dataset(test_data, \"test\", out_dir, data_id)"
   ]
  },
  {
   "cell_type": "code",
   "execution_count": 47,
   "metadata": {},
   "outputs": [],
   "source": [
    "import glob\n",
    "\n",
    "finetune_fpaths = glob.glob(\"extraction_outputs/simpleschema/finetune/*\")"
   ]
  },
  {
   "cell_type": "code",
   "execution_count": 48,
   "metadata": {},
   "outputs": [
    {
     "data": {
      "text/plain": [
       "['extraction_outputs/simpleschema/finetune/conversation_data_finetune-simpleschema-test.json',\n",
       " 'extraction_outputs/simpleschema/finetune/finetune-simpleschema-train.json',\n",
       " 'extraction_outputs/simpleschema/finetune/conversation_data_finetune-simpleschema-train.json',\n",
       " 'extraction_outputs/simpleschema/finetune/finetune-simpleschema-test.json',\n",
       " 'extraction_outputs/simpleschema/finetune/finetune-simpleschema-valid.json',\n",
       " 'extraction_outputs/simpleschema/finetune/conversation_data_finetune-simpleschema-valid.json']"
      ]
     },
     "execution_count": 48,
     "metadata": {},
     "output_type": "execute_result"
    }
   ],
   "source": [
    "finetune_fpaths"
   ]
  },
  {
   "cell_type": "code",
   "execution_count": 49,
   "metadata": {},
   "outputs": [],
   "source": [
    "# Inspect the finetuning data\n",
    "\n",
    "with open(finetune_fpaths[0], \"r\") as f:\n",
    "    data = json.load(f)"
   ]
  },
  {
   "cell_type": "code",
   "execution_count": 50,
   "metadata": {},
   "outputs": [
    {
     "data": {
      "text/plain": [
       "[[{'from': 'human',\n",
       "   'value': \"11\\nReferences \\n \\nBoyce, J. K., and M. Ravallion, 1991, A Dynamic Econometric Model of Agricultural Wage \\nDetermination in Bangladesh, Oxford Bulletin of Economics and Statistics, 53(4): 361-76 \\n \\nBudd, J. W., 1993, Changing Food Prices and Rural Welfare: A Non-Parametric Examination of \\nthe Cote d’Ivoire, Economic Development and Cultural Change, 41(3): 587-603. \\n \\nCoudouel, A., J. Hentschel, and Q. Wodon, 2002, Poverty Measurement and Analysis, in J. \\nKlugman, editor, A Sourcebook for Poverty Reduction Strategies, Volume 1: Core Techniques \\nand Cross-Cutting Issues, World Bank, Washington, DC. \\n \\nBarrett, C. D. and P. A. Dorosh, 1996, Farmers' Welfare and Changing Food Prices: \\nNonparametric Evidence from Rice in Madagascar, American Journal of Agricultural \\nEconomics, 78(3): 656-69. \\n \\nChristiaensen, L. and L. Demery, 2007, Down to Earth: Agriculture and Poverty Reduction in \\nAfrica, Directions in Development, World Bank, Washington, D.C. \\n \\nCoudouel, A., J. Hentschel, and Q. Wodon, 2002, Poverty Measurement and Analysis, in J. \\nKlugman, editor, A Sourcebook for Poverty Reduction Strategies, Volume 1: Core Techniques \\nand Cross-Cutting Issues, World Bank, Washington. \\n \\nCoulombe, H., and Q. Wodon, 2007, Poverty, Livelihoods and Access to Basic Services in \\nGhana, in World Bank, Ghana: Meeting the Challenge of Accelerated and Shared Growth \\n(Country Economic Memorandum), Report No. 40934-GH, Volume III: Background Papers, \\nWashington, DC. \\n \\nDeaton, A., 1989, Rice Prices and Income Distribution in Thailand: A Non-Parametric Analysis, \\nThe Economic Journal, 99(395):1-37. \\n \\nFoster, J. E., J. Greer, E. Thorbecke, 1984, A Class of Decomposable Poverty Indices, \\nEconometrica 52:761-766. \\n \\nInternational Monetary Fund (2008) Food and Fuel Prices: Recent Developments, \\nMacroeconomic Impact, and Policy Responses, mimeo, Washington, DC: IMF. \\n \\nIvanic, M., and W. Martin, 2007, Implications of Higher Global food Prices for Poverty in Low-Income Countries, Policy Research Working paper 4594, World Bank, Washington, DC. \\n \\nLoening, J., and G. Oseni, 2007, Approximating Urban and Rural Welfare Effects of Food Price \\nInflation in Ethiopia, mimeo, World Bank, Washington, DC. \\n \\nMinot, N, and F. Goletti, 1998, Export Liberalization and Household Welfare: The Case of Rice \\nin Vietnam, American Journal of Agricultural Economics, 80(4): 738-49.\"},\n",
       "  {'from': 'gpt',\n",
       "   'value': '{\\n  \"data_used\": false,\\n  \"data_mentions\": []\\n}'}],\n",
       " [{'from': 'human',\n",
       "   'value': '13\\nTable 1: Food items considered for simulating the potential impact of higher food prices on poverty \\nCountry \\nHousehold Survey \\nFood Items Taken into account for simulations \\nBurkina Faso \\nQUIBB, 2003 \\nRice, Bread, Vegetable oil and butter, Sugar, Milk \\nDem. Rep. Congo \\n123 Survey, 2005 \\nRice, Cassava, Maize, Palm oil, Plantain, Wheat, Sugar, Milk \\nGhana \\nGLSS, 2005-06 \\nRice, Bread, Flour, Maize \\nGabon \\nCWIQ, 2005 \\nRice, Cassava, Maize, Wheat, Palm oil and groundnut oil \\nGuinea \\nEIBEP, 2002-03 \\nRice \\nLiberia \\nCWIQ , 2007 \\nRice (locally produced and imported) \\nMali \\nELIM, 2006 \\nRice, Millet, Maize, Wheat \\nNiger \\nQUIBB, 2005 \\nRice (locally produced and imported), Millet, Sorghum \\nNigeria \\nNLSS, 2003-04 \\nRice, Corn, Maize, Wheat flour and bread, Cassava \\nSenegal \\nESPS, 2006 \\nRice, Vegetable oil, Sugar, Bread, Milk \\nSierra Leone \\nSLLS, 2003 \\nRice \\nTogo \\nQUIBB, 2006 \\nRice, Vegetable oil, Sugar, Bread, Milk \\nSource: Authors’ estimation using respective household surveys.'},\n",
       "  {'from': 'gpt',\n",
       "   'value': '{\\n  \"data_used\": true,\\n  \"data_mentions\": [\\n    {\\n      \"mentioned_in\": \" \\\\n13\\\\nTable 1: Food items considered for simulating the potential impact of higher food prices on poverty \\\\nCountry \\\\nHousehold Survey \\\\nFood Items Taken into account for simulations \\\\nBurkina Faso \\\\nQUIBB, 2003 \\\\nRice, Bread, Vegetable oil and butter, Sugar, Milk \\\\nDem. Rep. Congo \\\\n123 Survey, 2005 \\\\nRice, Cassava, Maize, Palm oil, Plantain, Wheat, Sugar, Milk \\\\nGhana \\\\nGLSS, 2005-06 \\\\nRice, Bread, Flour, Maize \\\\nGabon \\\\nCWIQ, 2005 \\\\nRice, Cassava, Maize, Wheat, Palm oil and groundnut oil \\\\nGuinea \\\\nEIBEP, 2002-03 \\\\nRice \\\\nLiberia \\\\nCWIQ , 2007 \\\\nRice (locally produced and imported) \\\\nMali \\\\nELIM, 2006 \\\\nRice, Millet, Maize, Wheat \\\\nNiger \\\\nQUIBB, 2005 \\\\nRice (locally produced and imported), Millet, Sorghum \\\\nNigeria \\\\nNLSS, 2003-04 \\\\nRice, Corn, Maize, Wheat flour and bread, Cassava \\\\nSenegal \\\\nESPS, 2006 \\\\nRice, Vegetable oil, Sugar, Bread, Milk \\\\nSierra Leone \\\\nSLLS, 2003 \\\\nRice \\\\nTogo \\\\nQUIBB, 2006 \\\\nRice, Vegetable oil, Sugar, Bread, Milk \\\\nSource: Authors\\\\u2019 estimation using respective household surveys.\",\\n      \"page\": 15,\\n      \"dataset_used\": true,\\n      \"datasets\": [\\n        {\\n          \"raw_name\": \"QUIBB, 2003\",\\n          \"harmonized_name\": \"QUIBB\",\\n          \"acronym\": null,\\n          \"producer\": null,\\n          \"year\": \"2003\",\\n          \"specificity\": \"properly_named\",\\n          \"context\": \"primary\"\\n        },\\n        {\\n          \"raw_name\": \"123 Survey, 2005\",\\n          \"harmonized_name\": \"123 Survey\",\\n          \"acronym\": null,\\n          \"producer\": null,\\n          \"year\": \"2005\",\\n          \"specificity\": \"properly_named\",\\n          \"context\": \"primary\"\\n        },\\n        {\\n          \"raw_name\": \"GLSS, 2005-06\",\\n          \"harmonized_name\": \"GLSS\",\\n          \"acronym\": null,\\n          \"producer\": null,\\n          \"year\": \"2005-06\",\\n          \"specificity\": \"properly_named\",\\n          \"context\": \"primary\"\\n        },\\n        {\\n          \"raw_name\": \"CWIQ, 2005\",\\n          \"harmonized_name\": \"CWIQ\",\\n          \"acronym\": null,\\n          \"producer\": null,\\n          \"year\": \"2005\",\\n          \"specificity\": \"properly_named\",\\n          \"context\": \"primary\"\\n        },\\n        {\\n          \"raw_name\": \"EIBEP, 2002-03\",\\n          \"harmonized_name\": \"EIBEP\",\\n          \"acronym\": null,\\n          \"producer\": null,\\n          \"year\": \"2002-03\",\\n          \"specificity\": \"properly_named\",\\n          \"context\": \"primary\"\\n        },\\n        {\\n          \"raw_name\": \"CWIQ , 2007\",\\n          \"harmonized_name\": \"CWIQ\",\\n          \"acronym\": null,\\n          \"producer\": null,\\n          \"year\": \"2007\",\\n          \"specificity\": \"properly_named\",\\n          \"context\": \"primary\"\\n        },\\n        {\\n          \"raw_name\": \"ELIM, 2006\",\\n          \"harmonized_name\": \"ELIM\",\\n          \"acronym\": null,\\n          \"producer\": null,\\n          \"year\": \"2006\",\\n          \"specificity\": \"properly_named\",\\n          \"context\": \"primary\"\\n        },\\n        {\\n          \"raw_name\": \"QUIBB, 2005\",\\n          \"harmonized_name\": \"QUIBB\",\\n          \"acronym\": null,\\n          \"producer\": null,\\n          \"year\": \"2005\",\\n          \"specificity\": \"properly_named\",\\n          \"context\": \"primary\"\\n        },\\n        {\\n          \"raw_name\": \"NLSS, 2003-04\",\\n          \"harmonized_name\": \"NLSS\",\\n          \"acronym\": null,\\n          \"producer\": null,\\n          \"year\": \"2003-04\",\\n          \"specificity\": \"properly_named\",\\n          \"context\": \"primary\"\\n        },\\n        {\\n          \"raw_name\": \"ESPS, 2006\",\\n          \"harmonized_name\": \"ESPS\",\\n          \"acronym\": null,\\n          \"producer\": null,\\n          \"year\": \"2006\",\\n          \"specificity\": \"properly_named\",\\n          \"context\": \"primary\"\\n        },\\n        {\\n          \"raw_name\": \"SLLS, 2003\",\\n          \"harmonized_name\": \"SLLS\",\\n          \"acronym\": null,\\n          \"producer\": null,\\n          \"year\": \"2003\",\\n          \"specificity\": \"properly_named\",\\n          \"context\": \"primary\"\\n        },\\n        {\\n          \"raw_name\": \"QUIBB, 2006\",\\n          \"harmonized_name\": \"QUIBB\",\\n          \"acronym\": null,\\n          \"producer\": null,\\n          \"year\": \"2006\",\\n          \"specificity\": \"properly_named\",\\n          \"context\": \"primary\"\\n        }\\n      ]\\n    }\\n  ]\\n}'}],\n",
       " [{'from': 'human',\n",
       "   'value': '7 \\n \\nAlongside the large-scale, capital-intensive mining industry in Ghana, there is an artisanal and \\nsmall-scale mining sector (ASM). ASM activities were legalized in 1984, when the state \\nloosened its monopoly on gold mining. In Ghana, as in many other African countries, the sector \\nis an important employer (ILO 1999). It is estimated that around 1 million people in Ghana \\nsupport themselves with revenues from ASM activities. \\nThe sector is associated with several hazardous labor conditions, however. This includes child \\nlabor, mercury exposure, and risk of mine collapse (Hilson 2009). The ASM and the large-scale \\nmining sector sometimes thrive side by side, but sometimes competing interests lead to conflict \\nbetween the two sectors, such as around Prestea, where domestic galamsey miners (informal \\nsmall-scale miners) have been in conflict with the multinational concession owner (Hilson and \\nYakoleva 2007). \\nIn this analysis, we focus solely on large-scale mining. We understand, however, that small- \\nand large-scale operations may be geographically correlated. Assuming that the start of a large-scale mine does not affect the likelihood or viability of artisanal and small-scale mining, it is \\nnot a threat to our identifying assumptions. However, should ASM respond to large-scale \\nactivities, either by increasing or decreasing activity in the close geographic area, we will end \\nup estimating the impact of these sectors jointly. In a later stage, should the opportunity arise, \\nwe encourage researchers to try to disentangle the effects of small-scale and large-scale mining. \\n3 Data \\nTo conduct this analysis, we combine different data sources using spatial analysis. The main \\nmining data is a dataset from InterraRMG covering all large-scale mines in Ghana, explained \\nin more detail in section 3.1. This dataset is linked to survey data from the DHS and GLSS, \\nusing spatial information. Geographical coordinates of enumeration areas in GLSS are from \\nGhana Statistical Services (GSS).2 Point coordinates (global positioning system [GPS]) for the \\nsurveyed DHS clusters3 allow us to match all individuals to one or several mineral mines. We \\ndo this in two ways. \\nFirst, we calculate distance spans from an exact mine location given by its GPS coordinates, \\nand match surveyed individuals to mines. These are concentric circles with radiuses of 10, 20, \\nand 30 kilometers (km), and so on, up to 100 km and beyond. In the baseline analysis where \\n \\n2 The data was shared by Aragón and Rud (2013) \\n3 Both the DHS and GLSS enumeration area coordinates have a 1-5 km offset. The DHS clusters have up to \\n10km displacement in 1% of the cases.'},\n",
       "  {'from': 'gpt',\n",
       "   'value': '{\\n  \"data_used\": true,\\n  \"data_mentions\": [\\n    {\\n      \"mentioned_in\": \"3 Data \\\\nTo conduct this analysis, we combine different data sources using spatial analysis. The main \\\\nmining data is a dataset from InterraRMG covering all large-scale mines in Ghana, explained \\\\nin more detail in section 3.1. This dataset is linked to survey data from the DHS and GLSS, \\\\nusing spatial information. Geographical coordinates of enumeration areas in GLSS are from \\\\nGhana Statistical Services (GSS).2 Point coordinates (global positioning system [GPS]) for the \\\\nsurveyed DHS clusters3 allow us to match all individuals to one or several mineral mines. We \\\\ndo this in two ways.\",\\n      \"page\": 9,\\n      \"dataset_used\": true,\\n      \"datasets\": [\\n        {\\n          \"raw_name\": \"dataset from InterraRMG covering all large-scale mines in Ghana\",\\n          \"harmonized_name\": \"InterraRMG Large-Scale Mines Dataset\",\\n          \"acronym\": \"None\",\\n          \"producer\": \"InterraRMG\",\\n          \"year\": null,\\n          \"specificity\": \"descriptive_but_unnamed\",\\n          \"context\": \"primary\"\\n        },\\n        {\\n          \"raw_name\": \"DHS\",\\n          \"harmonized_name\": \"Demographic and Health Surveys\",\\n          \"acronym\": \"DHS\",\\n          \"producer\": null,\\n          \"year\": null,\\n          \"specificity\": \"properly_named\",\\n          \"context\": \"supporting\"\\n        },\\n        {\\n          \"raw_name\": \"GLSS\",\\n          \"harmonized_name\": \"Ghana Living Standards Survey\",\\n          \"acronym\": \"GLSS\",\\n          \"producer\": null,\\n          \"year\": null,\\n          \"specificity\": \"properly_named\",\\n          \"context\": \"supporting\"\\n        }\\n      ]\\n    }\\n  ]\\n}'}],\n",
       " [{'from': 'human',\n",
       "   'value': '15\\nTable 3: Potential Impact on Poverty Gap of Higher Food Prices in Africa \\nCountry \\nShare in \\nBaseline \\nUpper bound \\nUpper bound \\nLower Bound \\nLower Bound \\n \\nConsumption \\n \\nPoverty Gap \\n \\nImpact \\n(Consumption) \\nImpact \\n(Consumption) \\nImpact \\n(Cons. & Prod.) \\nImpact \\n(Cons. & Prod.) \\n \\n \\n \\n25% increase \\n50% increase \\n25% increase \\n50% increase \\nBurkina Faso Nat. \\n6.8 \\n15.6 \\n16.1 \\n16.7 \\n- \\n- \\nBurkina Faso Urban \\n6.0 \\n5.5 \\n5.9 \\n6.4 \\n- \\n- \\nBurkina Faso Rural \\n8.3 \\n17.9 \\n18.4 \\n19.0 \\n- \\n- \\nGhana National \\n7.7 \\n9.6 \\n9.9 \\n10.3 \\n9.7 \\n9.9 \\nGhana Urban \\n6.6 \\n3.1 \\n3.3 \\n3.4 \\n3.2 \\n3.4 \\nGhana Rural \\n9.0 \\n13.5 \\n14.0 \\n14.4 \\n13.7 \\n13.9 \\nLiberia National \\n22.8 \\n24.4 \\n26.3 \\n28.3 \\n26.2 \\n28.1 \\nLiberia Urban \\n14.6 \\n20.2 \\n22.0 \\n23.8 \\n21.9 \\n23.8 \\nLiberia Rural \\n29.2 \\n26.3 \\n28.2 \\n30.3 \\n28.1 \\n30.0 \\nSenegal National \\n20.5 \\n16.4 \\n18.8 \\n21.5 \\n- \\n- \\nSenegal Dakar \\n15.8 \\n8.3 \\n9.7 \\n11.4 \\n- \\n- \\nSenegal Other Urban \\n22.3 \\n10.8 \\n12.9 \\n15.4 \\n- \\n- \\nSenegal Rural \\n24.9 \\n21.5 \\n24.4 \\n27.6 \\n- \\n- \\nSierra Leone N \\n11.7 \\n27.5 \\n28.6 \\n29.7 \\n28.1 \\n28.7 \\nSierra Leone U \\n6.4 \\n16.3 \\n17.1 \\n17.9 \\n16.9 \\n17.6 \\nSierra Leone R \\n18.2 \\n34.6 \\n35.8 \\n37.1 \\n35.1 \\n35.6 \\nTogo National \\n6.5 \\n22.9 \\n23.5 \\n24.2 \\n23.5 \\n24.1 \\nTogo Lomé \\n5.6 \\n5.8 \\n6.1 \\n6.4 \\n6.1 \\n6.4 \\nTogo Other Urban \\n6.9 \\n16.8 \\n17.4 \\n18.2 \\n17.4 \\n18.1 \\nTogo Rural \\n7.1 \\n29.3 \\n30.1 \\n30.8 \\n30.0 \\n30.7 \\nRDC National \\n28.3 \\n32.2 \\n32.4 \\n32.7 \\n32.3 \\n32.5 \\nRDC Urban \\n23.5 \\n26.2 \\n26.5 \\n26.9 \\n26.5 \\n26.9 \\nRDC Rural \\n32.7 \\n34.9 \\n35.1 \\n35.2 \\n34.9 \\n35.0 \\nGuinea National \\n13.0 \\n17.2 \\n17.9 \\n18.6 \\n17.3 \\n17.6 \\nGuinea Urban \\n9.4 \\n6.1 \\n6.8 \\n7.7 \\n6.8 \\n7.7 \\nGuinea Rural \\n16.1 \\n21.9 \\n22.5 \\n23.2 \\n21.7 \\n21.7 \\nGabon National \\n10.7 \\n10.0 \\n10.8 \\n11.7 \\n10.7 \\n11.5 \\nGabon Urban \\n11.3 \\n8.5 \\n9.4 \\n10.3 \\n9.3 \\n10.2 \\nGabon Rural \\n8.4 \\n16.0 \\n16.7 \\n17.5 \\n16.4 \\n17.0 \\nMali National \\n13.4 \\n16.7 \\n17.6 \\n18.8 \\n17.1 \\n17.8 \\nMali Urban \\n15.9 \\n7.8 \\n8.6 \\n9.8 \\n8.5 \\n9.5 \\nMali Rural \\n11.9 \\n20.8 \\n21.8 \\n22.9 \\n21.1 \\n21.6 \\nNiger National \\n41.0 \\n25.9 \\n26.6 \\n29.6 \\n26.5 \\n29.4 \\nNiger Urban \\n26.1 \\n15.3 \\n17.6 \\n20.2 \\n17.6 \\n20.1 \\nNiger Rural \\n47.1 \\n25.9 \\n28.5 \\n31.5 \\n28.3 \\n31.2 \\nNigeria National \\n9.80 \\n22.5 \\n23.3 \\n24.2 \\n16.6 \\n17.0 \\nNigeria Urban \\n11.48 \\n17.0 \\n17.8 \\n18.7 \\n17.3 \\n17.6 \\nNigeria Rural \\n8.22 \\n26.8 \\n27.6 \\n28.4 \\n27.0 \\n27.3 \\nSource: Authors’ estimation using respective household surveys.'},\n",
       "  {'from': 'gpt',\n",
       "   'value': '{\\n  \"data_used\": false,\\n  \"data_mentions\": []\\n}'}],\n",
       " [{'from': 'human',\n",
       "   'value': '12 \\n \\nand control groups being on similar trajectories before mine opening. This assumption is \\ndiscussed below when we investigate the balance of treatment and control areas. In particular, \\nwe test for differences in outcomes in areas where mining has not started and compare this to \\nareas farther away. \\nWhile we cannot show the exogeneity of the opening year to local socioeconomic variables, \\nthis assumption has been made in previous literature (e.g. Aragon and Rud, 2015; Benshaul-Tolonen, 2018, 2019; Kotsadam and Tolonen, 2016, von der Goltz and Barnwal, 2019). In \\naddition, Benshaul-Tolonen (2018, 2019) who explore gold mining, in particular, point to (i) \\nthe rapid increase in large-scale gold mining that occurred during the recent mineral price \\nsupercycle, (ii) the dominance of large multinational firms who are not relying on local labor \\nmarket conditions, (iii) and their lower reliance on local infrastructure compared with bulkier \\nmetals and minerals, as gold mining firms may fly out their resources. Despite this, the \\nassumption of exogenous opening year or exact location remain untested. \\nIn a second method, we use a spatial lag model. Such a model allows for nonlinear effects with \\ndistance. We divide the plane into 10-km distance bins and estimate the model with a full set \\nof distance bin dummies. \\n𝑌\\u0bdc௩௧ൌ 𝛽\\u0b34\\u0d45\\u0dcd 𝛽ௗ𝑚𝑖𝑛𝑒\\u0d45\\u0dcd 𝛽ௗ𝑎𝑐𝑡𝑖𝑣𝑒௧∙𝑚𝑖𝑛𝑒\\u0d45 ∝ௗ\\u0d45 𝑔௧\\u0d45𝜆𝑋\\u0bdc\\u0d45𝜀\\u0bdc௩௧ \\nௗ\\n \\nௗ\\nሺ2ሻ \\nfor d ∈ {0–10, 10–20, …, 80–90}. \\n \\nThis method, in addition to varying the cutoff point in the baseline estimation strategy, allows \\nus to identify in more detail the spatial structure of the data. Using this method, we can support \\nour choice of baseline cutoff distance. \\nTwo limitations to both individual level analysis are that (i) clusters are not repeatedly sampled, \\nso cluster fixed effects cannot be included, (ii) the data is not representative below the regional \\nlevel and no weighting can be undertaken to ensure representability. \\n \\n4.2 District-level analysis \\nWhile the estimation strategy in (1) captures some spillovers beyond the 20 km, and strategy \\n(2) maps the economic footprint of the mine up to 100 km, it does not capture district-level'},\n",
       "  {'from': 'gpt',\n",
       "   'value': '{\\n  \"data_used\": false,\\n  \"data_mentions\": []\\n}'}]]"
      ]
     },
     "execution_count": 50,
     "metadata": {},
     "output_type": "execute_result"
    }
   ],
   "source": [
    "data[0:5]"
   ]
  },
  {
   "cell_type": "code",
   "execution_count": 51,
   "metadata": {},
   "outputs": [],
   "source": [
    "### End of the pipeline"
   ]
  },
  {
   "cell_type": "markdown",
   "metadata": {},
   "source": [
    "Now you have created your fine tuning dataset, the next step is for us to fine tune Phi-3.5 mini instruct\n",
    "using unsloth, you can refer to this [notebook]() for more information"
   ]
  },
  {
   "cell_type": "markdown",
   "metadata": {},
   "source": []
  }
 ],
 "metadata": {
  "kernelspec": {
   "display_name": "ai4data",
   "language": "python",
   "name": "python3"
  },
  "language_info": {
   "codemirror_mode": {
    "name": "ipython",
    "version": 3
   },
   "file_extension": ".py",
   "mimetype": "text/x-python",
   "name": "python",
   "nbconvert_exporter": "python",
   "pygments_lexer": "ipython3",
   "version": "3.10.16"
  }
 },
 "nbformat": 4,
 "nbformat_minor": 2
}
