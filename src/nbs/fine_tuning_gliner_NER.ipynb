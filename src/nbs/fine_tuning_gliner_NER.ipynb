{
  "metadata": {
    "kernelspec": {
      "display_name": "Python 3",
      "name": "python3"
    },
    "language_info": {
      "name": "python",
      "version": "3.11.11",
      "mimetype": "text/x-python",
      "codemirror_mode": {
        "name": "ipython",
        "version": 3
      },
      "pygments_lexer": "ipython3",
      "nbconvert_exporter": "python",
      "file_extension": ".py"
    },
    "kaggle": {
      "accelerator": "gpu",
      "dataSources": [
        {
          "sourceId": 11648723,
          "sourceType": "datasetVersion",
          "datasetId": 7309998
        }
      ],
      "dockerImageVersionId": 31011,
      "isInternetEnabled": true,
      "language": "python",
      "sourceType": "notebook",
      "isGpuEnabled": true
    },
    "colab": {
      "provenance": [],
      "machine_shape": "hm",
      "gpuType": "A100"
    },
    "accelerator": "GPU",
    "widgets": {
      "application/vnd.jupyter.widget-state+json": {
        "724e9db1c1184cb8a50b0cf84713af60": {
          "model_module": "@jupyter-widgets/controls",
          "model_name": "HBoxModel",
          "model_module_version": "1.5.0",
          "state": {
            "_dom_classes": [],
            "_model_module": "@jupyter-widgets/controls",
            "_model_module_version": "1.5.0",
            "_model_name": "HBoxModel",
            "_view_count": null,
            "_view_module": "@jupyter-widgets/controls",
            "_view_module_version": "1.5.0",
            "_view_name": "HBoxView",
            "box_style": "",
            "children": [
              "IPY_MODEL_4c7b5f7aef794284a7c92107a1da33ec",
              "IPY_MODEL_cd114b8090dd436a854f8a5a8b2a4fac",
              "IPY_MODEL_9429fc437ae54617abb0a703672a669d"
            ],
            "layout": "IPY_MODEL_bdfd7195f2d8478ca5de68bde220a099"
          }
        },
        "4c7b5f7aef794284a7c92107a1da33ec": {
          "model_module": "@jupyter-widgets/controls",
          "model_name": "HTMLModel",
          "model_module_version": "1.5.0",
          "state": {
            "_dom_classes": [],
            "_model_module": "@jupyter-widgets/controls",
            "_model_module_version": "1.5.0",
            "_model_name": "HTMLModel",
            "_view_count": null,
            "_view_module": "@jupyter-widgets/controls",
            "_view_module_version": "1.5.0",
            "_view_name": "HTMLView",
            "description": "",
            "description_tooltip": null,
            "layout": "IPY_MODEL_9c91ac5a9a9640ab9539a8dd02a67b20",
            "placeholder": "​",
            "style": "IPY_MODEL_f823b2b1a0944bed94be105b0c68e46b",
            "value": "Fetching 9 files: 100%"
          }
        },
        "cd114b8090dd436a854f8a5a8b2a4fac": {
          "model_module": "@jupyter-widgets/controls",
          "model_name": "FloatProgressModel",
          "model_module_version": "1.5.0",
          "state": {
            "_dom_classes": [],
            "_model_module": "@jupyter-widgets/controls",
            "_model_module_version": "1.5.0",
            "_model_name": "FloatProgressModel",
            "_view_count": null,
            "_view_module": "@jupyter-widgets/controls",
            "_view_module_version": "1.5.0",
            "_view_name": "ProgressView",
            "bar_style": "success",
            "description": "",
            "description_tooltip": null,
            "layout": "IPY_MODEL_8a6df40590454c189e8b85069527d338",
            "max": 9,
            "min": 0,
            "orientation": "horizontal",
            "style": "IPY_MODEL_606103a3737a438381bf7951952275bd",
            "value": 9
          }
        },
        "9429fc437ae54617abb0a703672a669d": {
          "model_module": "@jupyter-widgets/controls",
          "model_name": "HTMLModel",
          "model_module_version": "1.5.0",
          "state": {
            "_dom_classes": [],
            "_model_module": "@jupyter-widgets/controls",
            "_model_module_version": "1.5.0",
            "_model_name": "HTMLModel",
            "_view_count": null,
            "_view_module": "@jupyter-widgets/controls",
            "_view_module_version": "1.5.0",
            "_view_name": "HTMLView",
            "description": "",
            "description_tooltip": null,
            "layout": "IPY_MODEL_33a1dab0919a4fc1951414e5e65dfc9c",
            "placeholder": "​",
            "style": "IPY_MODEL_8794a0685cce49018374170ab90910b5",
            "value": " 9/9 [00:00&lt;00:00, 1061.76it/s]"
          }
        },
        "bdfd7195f2d8478ca5de68bde220a099": {
          "model_module": "@jupyter-widgets/base",
          "model_name": "LayoutModel",
          "model_module_version": "1.2.0",
          "state": {
            "_model_module": "@jupyter-widgets/base",
            "_model_module_version": "1.2.0",
            "_model_name": "LayoutModel",
            "_view_count": null,
            "_view_module": "@jupyter-widgets/base",
            "_view_module_version": "1.2.0",
            "_view_name": "LayoutView",
            "align_content": null,
            "align_items": null,
            "align_self": null,
            "border": null,
            "bottom": null,
            "display": null,
            "flex": null,
            "flex_flow": null,
            "grid_area": null,
            "grid_auto_columns": null,
            "grid_auto_flow": null,
            "grid_auto_rows": null,
            "grid_column": null,
            "grid_gap": null,
            "grid_row": null,
            "grid_template_areas": null,
            "grid_template_columns": null,
            "grid_template_rows": null,
            "height": null,
            "justify_content": null,
            "justify_items": null,
            "left": null,
            "margin": null,
            "max_height": null,
            "max_width": null,
            "min_height": null,
            "min_width": null,
            "object_fit": null,
            "object_position": null,
            "order": null,
            "overflow": null,
            "overflow_x": null,
            "overflow_y": null,
            "padding": null,
            "right": null,
            "top": null,
            "visibility": null,
            "width": null
          }
        },
        "9c91ac5a9a9640ab9539a8dd02a67b20": {
          "model_module": "@jupyter-widgets/base",
          "model_name": "LayoutModel",
          "model_module_version": "1.2.0",
          "state": {
            "_model_module": "@jupyter-widgets/base",
            "_model_module_version": "1.2.0",
            "_model_name": "LayoutModel",
            "_view_count": null,
            "_view_module": "@jupyter-widgets/base",
            "_view_module_version": "1.2.0",
            "_view_name": "LayoutView",
            "align_content": null,
            "align_items": null,
            "align_self": null,
            "border": null,
            "bottom": null,
            "display": null,
            "flex": null,
            "flex_flow": null,
            "grid_area": null,
            "grid_auto_columns": null,
            "grid_auto_flow": null,
            "grid_auto_rows": null,
            "grid_column": null,
            "grid_gap": null,
            "grid_row": null,
            "grid_template_areas": null,
            "grid_template_columns": null,
            "grid_template_rows": null,
            "height": null,
            "justify_content": null,
            "justify_items": null,
            "left": null,
            "margin": null,
            "max_height": null,
            "max_width": null,
            "min_height": null,
            "min_width": null,
            "object_fit": null,
            "object_position": null,
            "order": null,
            "overflow": null,
            "overflow_x": null,
            "overflow_y": null,
            "padding": null,
            "right": null,
            "top": null,
            "visibility": null,
            "width": null
          }
        },
        "f823b2b1a0944bed94be105b0c68e46b": {
          "model_module": "@jupyter-widgets/controls",
          "model_name": "DescriptionStyleModel",
          "model_module_version": "1.5.0",
          "state": {
            "_model_module": "@jupyter-widgets/controls",
            "_model_module_version": "1.5.0",
            "_model_name": "DescriptionStyleModel",
            "_view_count": null,
            "_view_module": "@jupyter-widgets/base",
            "_view_module_version": "1.2.0",
            "_view_name": "StyleView",
            "description_width": ""
          }
        },
        "8a6df40590454c189e8b85069527d338": {
          "model_module": "@jupyter-widgets/base",
          "model_name": "LayoutModel",
          "model_module_version": "1.2.0",
          "state": {
            "_model_module": "@jupyter-widgets/base",
            "_model_module_version": "1.2.0",
            "_model_name": "LayoutModel",
            "_view_count": null,
            "_view_module": "@jupyter-widgets/base",
            "_view_module_version": "1.2.0",
            "_view_name": "LayoutView",
            "align_content": null,
            "align_items": null,
            "align_self": null,
            "border": null,
            "bottom": null,
            "display": null,
            "flex": null,
            "flex_flow": null,
            "grid_area": null,
            "grid_auto_columns": null,
            "grid_auto_flow": null,
            "grid_auto_rows": null,
            "grid_column": null,
            "grid_gap": null,
            "grid_row": null,
            "grid_template_areas": null,
            "grid_template_columns": null,
            "grid_template_rows": null,
            "height": null,
            "justify_content": null,
            "justify_items": null,
            "left": null,
            "margin": null,
            "max_height": null,
            "max_width": null,
            "min_height": null,
            "min_width": null,
            "object_fit": null,
            "object_position": null,
            "order": null,
            "overflow": null,
            "overflow_x": null,
            "overflow_y": null,
            "padding": null,
            "right": null,
            "top": null,
            "visibility": null,
            "width": null
          }
        },
        "606103a3737a438381bf7951952275bd": {
          "model_module": "@jupyter-widgets/controls",
          "model_name": "ProgressStyleModel",
          "model_module_version": "1.5.0",
          "state": {
            "_model_module": "@jupyter-widgets/controls",
            "_model_module_version": "1.5.0",
            "_model_name": "ProgressStyleModel",
            "_view_count": null,
            "_view_module": "@jupyter-widgets/base",
            "_view_module_version": "1.2.0",
            "_view_name": "StyleView",
            "bar_color": null,
            "description_width": ""
          }
        },
        "33a1dab0919a4fc1951414e5e65dfc9c": {
          "model_module": "@jupyter-widgets/base",
          "model_name": "LayoutModel",
          "model_module_version": "1.2.0",
          "state": {
            "_model_module": "@jupyter-widgets/base",
            "_model_module_version": "1.2.0",
            "_model_name": "LayoutModel",
            "_view_count": null,
            "_view_module": "@jupyter-widgets/base",
            "_view_module_version": "1.2.0",
            "_view_name": "LayoutView",
            "align_content": null,
            "align_items": null,
            "align_self": null,
            "border": null,
            "bottom": null,
            "display": null,
            "flex": null,
            "flex_flow": null,
            "grid_area": null,
            "grid_auto_columns": null,
            "grid_auto_flow": null,
            "grid_auto_rows": null,
            "grid_column": null,
            "grid_gap": null,
            "grid_row": null,
            "grid_template_areas": null,
            "grid_template_columns": null,
            "grid_template_rows": null,
            "height": null,
            "justify_content": null,
            "justify_items": null,
            "left": null,
            "margin": null,
            "max_height": null,
            "max_width": null,
            "min_height": null,
            "min_width": null,
            "object_fit": null,
            "object_position": null,
            "order": null,
            "overflow": null,
            "overflow_x": null,
            "overflow_y": null,
            "padding": null,
            "right": null,
            "top": null,
            "visibility": null,
            "width": null
          }
        },
        "8794a0685cce49018374170ab90910b5": {
          "model_module": "@jupyter-widgets/controls",
          "model_name": "DescriptionStyleModel",
          "model_module_version": "1.5.0",
          "state": {
            "_model_module": "@jupyter-widgets/controls",
            "_model_module_version": "1.5.0",
            "_model_name": "DescriptionStyleModel",
            "_view_count": null,
            "_view_module": "@jupyter-widgets/base",
            "_view_module_version": "1.2.0",
            "_view_name": "StyleView",
            "description_width": ""
          }
        },
        "38d132a6fc22468496bc5a2cd907bb60": {
          "model_module": "@jupyter-widgets/controls",
          "model_name": "HBoxModel",
          "model_module_version": "1.5.0",
          "state": {
            "_dom_classes": [],
            "_model_module": "@jupyter-widgets/controls",
            "_model_module_version": "1.5.0",
            "_model_name": "HBoxModel",
            "_view_count": null,
            "_view_module": "@jupyter-widgets/controls",
            "_view_module_version": "1.5.0",
            "_view_name": "HBoxView",
            "box_style": "",
            "children": [
              "IPY_MODEL_360aae3ca77c4e47a2c8a7ee2c74c8c9",
              "IPY_MODEL_753026e6c8744041bacfa51dd34d2c5d",
              "IPY_MODEL_9a00b8290352416e9795cf0b30c1ec5f"
            ],
            "layout": "IPY_MODEL_dbc48c3db4234427b62559eae1136fd8"
          }
        },
        "360aae3ca77c4e47a2c8a7ee2c74c8c9": {
          "model_module": "@jupyter-widgets/controls",
          "model_name": "HTMLModel",
          "model_module_version": "1.5.0",
          "state": {
            "_dom_classes": [],
            "_model_module": "@jupyter-widgets/controls",
            "_model_module_version": "1.5.0",
            "_model_name": "HTMLModel",
            "_view_count": null,
            "_view_module": "@jupyter-widgets/controls",
            "_view_module_version": "1.5.0",
            "_view_name": "HTMLView",
            "description": "",
            "description_tooltip": null,
            "layout": "IPY_MODEL_b5d216352d1b4902ba6d3b871f818370",
            "placeholder": "​",
            "style": "IPY_MODEL_f937dc37f2e24e279c6b2e02a49151b1",
            "value": "Annotated Evaluation: 100%"
          }
        },
        "753026e6c8744041bacfa51dd34d2c5d": {
          "model_module": "@jupyter-widgets/controls",
          "model_name": "FloatProgressModel",
          "model_module_version": "1.5.0",
          "state": {
            "_dom_classes": [],
            "_model_module": "@jupyter-widgets/controls",
            "_model_module_version": "1.5.0",
            "_model_name": "FloatProgressModel",
            "_view_count": null,
            "_view_module": "@jupyter-widgets/controls",
            "_view_module_version": "1.5.0",
            "_view_name": "ProgressView",
            "bar_style": "success",
            "description": "",
            "description_tooltip": null,
            "layout": "IPY_MODEL_81f0a4bd717b43669e268aa7b8d97394",
            "max": 77,
            "min": 0,
            "orientation": "horizontal",
            "style": "IPY_MODEL_d21f41a0836c456197114cf5a1cc6bb6",
            "value": 77
          }
        },
        "9a00b8290352416e9795cf0b30c1ec5f": {
          "model_module": "@jupyter-widgets/controls",
          "model_name": "HTMLModel",
          "model_module_version": "1.5.0",
          "state": {
            "_dom_classes": [],
            "_model_module": "@jupyter-widgets/controls",
            "_model_module_version": "1.5.0",
            "_model_name": "HTMLModel",
            "_view_count": null,
            "_view_module": "@jupyter-widgets/controls",
            "_view_module_version": "1.5.0",
            "_view_name": "HTMLView",
            "description": "",
            "description_tooltip": null,
            "layout": "IPY_MODEL_832f1a8b1d6646159986981dd3bd6aa7",
            "placeholder": "​",
            "style": "IPY_MODEL_6b60de0bfe0d46a5b2912aeac0345535",
            "value": " 77/77 [01:21&lt;00:00,  1.10s/it]"
          }
        },
        "dbc48c3db4234427b62559eae1136fd8": {
          "model_module": "@jupyter-widgets/base",
          "model_name": "LayoutModel",
          "model_module_version": "1.2.0",
          "state": {
            "_model_module": "@jupyter-widgets/base",
            "_model_module_version": "1.2.0",
            "_model_name": "LayoutModel",
            "_view_count": null,
            "_view_module": "@jupyter-widgets/base",
            "_view_module_version": "1.2.0",
            "_view_name": "LayoutView",
            "align_content": null,
            "align_items": null,
            "align_self": null,
            "border": null,
            "bottom": null,
            "display": null,
            "flex": null,
            "flex_flow": null,
            "grid_area": null,
            "grid_auto_columns": null,
            "grid_auto_flow": null,
            "grid_auto_rows": null,
            "grid_column": null,
            "grid_gap": null,
            "grid_row": null,
            "grid_template_areas": null,
            "grid_template_columns": null,
            "grid_template_rows": null,
            "height": null,
            "justify_content": null,
            "justify_items": null,
            "left": null,
            "margin": null,
            "max_height": null,
            "max_width": null,
            "min_height": null,
            "min_width": null,
            "object_fit": null,
            "object_position": null,
            "order": null,
            "overflow": null,
            "overflow_x": null,
            "overflow_y": null,
            "padding": null,
            "right": null,
            "top": null,
            "visibility": null,
            "width": null
          }
        },
        "b5d216352d1b4902ba6d3b871f818370": {
          "model_module": "@jupyter-widgets/base",
          "model_name": "LayoutModel",
          "model_module_version": "1.2.0",
          "state": {
            "_model_module": "@jupyter-widgets/base",
            "_model_module_version": "1.2.0",
            "_model_name": "LayoutModel",
            "_view_count": null,
            "_view_module": "@jupyter-widgets/base",
            "_view_module_version": "1.2.0",
            "_view_name": "LayoutView",
            "align_content": null,
            "align_items": null,
            "align_self": null,
            "border": null,
            "bottom": null,
            "display": null,
            "flex": null,
            "flex_flow": null,
            "grid_area": null,
            "grid_auto_columns": null,
            "grid_auto_flow": null,
            "grid_auto_rows": null,
            "grid_column": null,
            "grid_gap": null,
            "grid_row": null,
            "grid_template_areas": null,
            "grid_template_columns": null,
            "grid_template_rows": null,
            "height": null,
            "justify_content": null,
            "justify_items": null,
            "left": null,
            "margin": null,
            "max_height": null,
            "max_width": null,
            "min_height": null,
            "min_width": null,
            "object_fit": null,
            "object_position": null,
            "order": null,
            "overflow": null,
            "overflow_x": null,
            "overflow_y": null,
            "padding": null,
            "right": null,
            "top": null,
            "visibility": null,
            "width": null
          }
        },
        "f937dc37f2e24e279c6b2e02a49151b1": {
          "model_module": "@jupyter-widgets/controls",
          "model_name": "DescriptionStyleModel",
          "model_module_version": "1.5.0",
          "state": {
            "_model_module": "@jupyter-widgets/controls",
            "_model_module_version": "1.5.0",
            "_model_name": "DescriptionStyleModel",
            "_view_count": null,
            "_view_module": "@jupyter-widgets/base",
            "_view_module_version": "1.2.0",
            "_view_name": "StyleView",
            "description_width": ""
          }
        },
        "81f0a4bd717b43669e268aa7b8d97394": {
          "model_module": "@jupyter-widgets/base",
          "model_name": "LayoutModel",
          "model_module_version": "1.2.0",
          "state": {
            "_model_module": "@jupyter-widgets/base",
            "_model_module_version": "1.2.0",
            "_model_name": "LayoutModel",
            "_view_count": null,
            "_view_module": "@jupyter-widgets/base",
            "_view_module_version": "1.2.0",
            "_view_name": "LayoutView",
            "align_content": null,
            "align_items": null,
            "align_self": null,
            "border": null,
            "bottom": null,
            "display": null,
            "flex": null,
            "flex_flow": null,
            "grid_area": null,
            "grid_auto_columns": null,
            "grid_auto_flow": null,
            "grid_auto_rows": null,
            "grid_column": null,
            "grid_gap": null,
            "grid_row": null,
            "grid_template_areas": null,
            "grid_template_columns": null,
            "grid_template_rows": null,
            "height": null,
            "justify_content": null,
            "justify_items": null,
            "left": null,
            "margin": null,
            "max_height": null,
            "max_width": null,
            "min_height": null,
            "min_width": null,
            "object_fit": null,
            "object_position": null,
            "order": null,
            "overflow": null,
            "overflow_x": null,
            "overflow_y": null,
            "padding": null,
            "right": null,
            "top": null,
            "visibility": null,
            "width": null
          }
        },
        "d21f41a0836c456197114cf5a1cc6bb6": {
          "model_module": "@jupyter-widgets/controls",
          "model_name": "ProgressStyleModel",
          "model_module_version": "1.5.0",
          "state": {
            "_model_module": "@jupyter-widgets/controls",
            "_model_module_version": "1.5.0",
            "_model_name": "ProgressStyleModel",
            "_view_count": null,
            "_view_module": "@jupyter-widgets/base",
            "_view_module_version": "1.2.0",
            "_view_name": "StyleView",
            "bar_color": null,
            "description_width": ""
          }
        },
        "832f1a8b1d6646159986981dd3bd6aa7": {
          "model_module": "@jupyter-widgets/base",
          "model_name": "LayoutModel",
          "model_module_version": "1.2.0",
          "state": {
            "_model_module": "@jupyter-widgets/base",
            "_model_module_version": "1.2.0",
            "_model_name": "LayoutModel",
            "_view_count": null,
            "_view_module": "@jupyter-widgets/base",
            "_view_module_version": "1.2.0",
            "_view_name": "LayoutView",
            "align_content": null,
            "align_items": null,
            "align_self": null,
            "border": null,
            "bottom": null,
            "display": null,
            "flex": null,
            "flex_flow": null,
            "grid_area": null,
            "grid_auto_columns": null,
            "grid_auto_flow": null,
            "grid_auto_rows": null,
            "grid_column": null,
            "grid_gap": null,
            "grid_row": null,
            "grid_template_areas": null,
            "grid_template_columns": null,
            "grid_template_rows": null,
            "height": null,
            "justify_content": null,
            "justify_items": null,
            "left": null,
            "margin": null,
            "max_height": null,
            "max_width": null,
            "min_height": null,
            "min_width": null,
            "object_fit": null,
            "object_position": null,
            "order": null,
            "overflow": null,
            "overflow_x": null,
            "overflow_y": null,
            "padding": null,
            "right": null,
            "top": null,
            "visibility": null,
            "width": null
          }
        },
        "6b60de0bfe0d46a5b2912aeac0345535": {
          "model_module": "@jupyter-widgets/controls",
          "model_name": "DescriptionStyleModel",
          "model_module_version": "1.5.0",
          "state": {
            "_model_module": "@jupyter-widgets/controls",
            "_model_module_version": "1.5.0",
            "_model_name": "DescriptionStyleModel",
            "_view_count": null,
            "_view_module": "@jupyter-widgets/base",
            "_view_module_version": "1.2.0",
            "_view_name": "StyleView",
            "description_width": ""
          }
        },
        "3e974e3bb9624cc18f948758ba702912": {
          "model_module": "@jupyter-widgets/controls",
          "model_name": "HBoxModel",
          "model_module_version": "1.5.0",
          "state": {
            "_dom_classes": [],
            "_model_module": "@jupyter-widgets/controls",
            "_model_module_version": "1.5.0",
            "_model_name": "HBoxModel",
            "_view_count": null,
            "_view_module": "@jupyter-widgets/controls",
            "_view_module_version": "1.5.0",
            "_view_name": "HBoxView",
            "box_style": "",
            "children": [
              "IPY_MODEL_07a2498a4fb946a095ca23783c616773",
              "IPY_MODEL_c1a4d0206a3649738b0a5525523a8ef6",
              "IPY_MODEL_b8f0cd7b162b4ce5bcc11e36cd90f358"
            ],
            "layout": "IPY_MODEL_a30d58648e1a43d1abd78d428399f71d"
          }
        },
        "07a2498a4fb946a095ca23783c616773": {
          "model_module": "@jupyter-widgets/controls",
          "model_name": "HTMLModel",
          "model_module_version": "1.5.0",
          "state": {
            "_dom_classes": [],
            "_model_module": "@jupyter-widgets/controls",
            "_model_module_version": "1.5.0",
            "_model_name": "HTMLModel",
            "_view_count": null,
            "_view_module": "@jupyter-widgets/controls",
            "_view_module_version": "1.5.0",
            "_view_name": "HTMLView",
            "description": "",
            "description_tooltip": null,
            "layout": "IPY_MODEL_86debc0874c744e895dd33d2952a3da0",
            "placeholder": "​",
            "style": "IPY_MODEL_8ce86297aad249fd9b835d324b03d80a",
            "value": "Annotated Evaluation: 100%"
          }
        },
        "c1a4d0206a3649738b0a5525523a8ef6": {
          "model_module": "@jupyter-widgets/controls",
          "model_name": "FloatProgressModel",
          "model_module_version": "1.5.0",
          "state": {
            "_dom_classes": [],
            "_model_module": "@jupyter-widgets/controls",
            "_model_module_version": "1.5.0",
            "_model_name": "FloatProgressModel",
            "_view_count": null,
            "_view_module": "@jupyter-widgets/controls",
            "_view_module_version": "1.5.0",
            "_view_name": "ProgressView",
            "bar_style": "success",
            "description": "",
            "description_tooltip": null,
            "layout": "IPY_MODEL_c1094bb55fd845c9a732f1c3cde11b51",
            "max": 77,
            "min": 0,
            "orientation": "horizontal",
            "style": "IPY_MODEL_b1dfdb560f6b4873961251ef1e6ad0a8",
            "value": 77
          }
        },
        "b8f0cd7b162b4ce5bcc11e36cd90f358": {
          "model_module": "@jupyter-widgets/controls",
          "model_name": "HTMLModel",
          "model_module_version": "1.5.0",
          "state": {
            "_dom_classes": [],
            "_model_module": "@jupyter-widgets/controls",
            "_model_module_version": "1.5.0",
            "_model_name": "HTMLModel",
            "_view_count": null,
            "_view_module": "@jupyter-widgets/controls",
            "_view_module_version": "1.5.0",
            "_view_name": "HTMLView",
            "description": "",
            "description_tooltip": null,
            "layout": "IPY_MODEL_8085674b45ba41fdacf0c495c4ee26ba",
            "placeholder": "​",
            "style": "IPY_MODEL_0fa42f57df1a484db5ade42f28be20c4",
            "value": " 77/77 [00:09&lt;00:00,  8.72it/s]"
          }
        },
        "a30d58648e1a43d1abd78d428399f71d": {
          "model_module": "@jupyter-widgets/base",
          "model_name": "LayoutModel",
          "model_module_version": "1.2.0",
          "state": {
            "_model_module": "@jupyter-widgets/base",
            "_model_module_version": "1.2.0",
            "_model_name": "LayoutModel",
            "_view_count": null,
            "_view_module": "@jupyter-widgets/base",
            "_view_module_version": "1.2.0",
            "_view_name": "LayoutView",
            "align_content": null,
            "align_items": null,
            "align_self": null,
            "border": null,
            "bottom": null,
            "display": null,
            "flex": null,
            "flex_flow": null,
            "grid_area": null,
            "grid_auto_columns": null,
            "grid_auto_flow": null,
            "grid_auto_rows": null,
            "grid_column": null,
            "grid_gap": null,
            "grid_row": null,
            "grid_template_areas": null,
            "grid_template_columns": null,
            "grid_template_rows": null,
            "height": null,
            "justify_content": null,
            "justify_items": null,
            "left": null,
            "margin": null,
            "max_height": null,
            "max_width": null,
            "min_height": null,
            "min_width": null,
            "object_fit": null,
            "object_position": null,
            "order": null,
            "overflow": null,
            "overflow_x": null,
            "overflow_y": null,
            "padding": null,
            "right": null,
            "top": null,
            "visibility": null,
            "width": null
          }
        },
        "86debc0874c744e895dd33d2952a3da0": {
          "model_module": "@jupyter-widgets/base",
          "model_name": "LayoutModel",
          "model_module_version": "1.2.0",
          "state": {
            "_model_module": "@jupyter-widgets/base",
            "_model_module_version": "1.2.0",
            "_model_name": "LayoutModel",
            "_view_count": null,
            "_view_module": "@jupyter-widgets/base",
            "_view_module_version": "1.2.0",
            "_view_name": "LayoutView",
            "align_content": null,
            "align_items": null,
            "align_self": null,
            "border": null,
            "bottom": null,
            "display": null,
            "flex": null,
            "flex_flow": null,
            "grid_area": null,
            "grid_auto_columns": null,
            "grid_auto_flow": null,
            "grid_auto_rows": null,
            "grid_column": null,
            "grid_gap": null,
            "grid_row": null,
            "grid_template_areas": null,
            "grid_template_columns": null,
            "grid_template_rows": null,
            "height": null,
            "justify_content": null,
            "justify_items": null,
            "left": null,
            "margin": null,
            "max_height": null,
            "max_width": null,
            "min_height": null,
            "min_width": null,
            "object_fit": null,
            "object_position": null,
            "order": null,
            "overflow": null,
            "overflow_x": null,
            "overflow_y": null,
            "padding": null,
            "right": null,
            "top": null,
            "visibility": null,
            "width": null
          }
        },
        "8ce86297aad249fd9b835d324b03d80a": {
          "model_module": "@jupyter-widgets/controls",
          "model_name": "DescriptionStyleModel",
          "model_module_version": "1.5.0",
          "state": {
            "_model_module": "@jupyter-widgets/controls",
            "_model_module_version": "1.5.0",
            "_model_name": "DescriptionStyleModel",
            "_view_count": null,
            "_view_module": "@jupyter-widgets/base",
            "_view_module_version": "1.2.0",
            "_view_name": "StyleView",
            "description_width": ""
          }
        },
        "c1094bb55fd845c9a732f1c3cde11b51": {
          "model_module": "@jupyter-widgets/base",
          "model_name": "LayoutModel",
          "model_module_version": "1.2.0",
          "state": {
            "_model_module": "@jupyter-widgets/base",
            "_model_module_version": "1.2.0",
            "_model_name": "LayoutModel",
            "_view_count": null,
            "_view_module": "@jupyter-widgets/base",
            "_view_module_version": "1.2.0",
            "_view_name": "LayoutView",
            "align_content": null,
            "align_items": null,
            "align_self": null,
            "border": null,
            "bottom": null,
            "display": null,
            "flex": null,
            "flex_flow": null,
            "grid_area": null,
            "grid_auto_columns": null,
            "grid_auto_flow": null,
            "grid_auto_rows": null,
            "grid_column": null,
            "grid_gap": null,
            "grid_row": null,
            "grid_template_areas": null,
            "grid_template_columns": null,
            "grid_template_rows": null,
            "height": null,
            "justify_content": null,
            "justify_items": null,
            "left": null,
            "margin": null,
            "max_height": null,
            "max_width": null,
            "min_height": null,
            "min_width": null,
            "object_fit": null,
            "object_position": null,
            "order": null,
            "overflow": null,
            "overflow_x": null,
            "overflow_y": null,
            "padding": null,
            "right": null,
            "top": null,
            "visibility": null,
            "width": null
          }
        },
        "b1dfdb560f6b4873961251ef1e6ad0a8": {
          "model_module": "@jupyter-widgets/controls",
          "model_name": "ProgressStyleModel",
          "model_module_version": "1.5.0",
          "state": {
            "_model_module": "@jupyter-widgets/controls",
            "_model_module_version": "1.5.0",
            "_model_name": "ProgressStyleModel",
            "_view_count": null,
            "_view_module": "@jupyter-widgets/base",
            "_view_module_version": "1.2.0",
            "_view_name": "StyleView",
            "bar_color": null,
            "description_width": ""
          }
        },
        "8085674b45ba41fdacf0c495c4ee26ba": {
          "model_module": "@jupyter-widgets/base",
          "model_name": "LayoutModel",
          "model_module_version": "1.2.0",
          "state": {
            "_model_module": "@jupyter-widgets/base",
            "_model_module_version": "1.2.0",
            "_model_name": "LayoutModel",
            "_view_count": null,
            "_view_module": "@jupyter-widgets/base",
            "_view_module_version": "1.2.0",
            "_view_name": "LayoutView",
            "align_content": null,
            "align_items": null,
            "align_self": null,
            "border": null,
            "bottom": null,
            "display": null,
            "flex": null,
            "flex_flow": null,
            "grid_area": null,
            "grid_auto_columns": null,
            "grid_auto_flow": null,
            "grid_auto_rows": null,
            "grid_column": null,
            "grid_gap": null,
            "grid_row": null,
            "grid_template_areas": null,
            "grid_template_columns": null,
            "grid_template_rows": null,
            "height": null,
            "justify_content": null,
            "justify_items": null,
            "left": null,
            "margin": null,
            "max_height": null,
            "max_width": null,
            "min_height": null,
            "min_width": null,
            "object_fit": null,
            "object_position": null,
            "order": null,
            "overflow": null,
            "overflow_x": null,
            "overflow_y": null,
            "padding": null,
            "right": null,
            "top": null,
            "visibility": null,
            "width": null
          }
        },
        "0fa42f57df1a484db5ade42f28be20c4": {
          "model_module": "@jupyter-widgets/controls",
          "model_name": "DescriptionStyleModel",
          "model_module_version": "1.5.0",
          "state": {
            "_model_module": "@jupyter-widgets/controls",
            "_model_module_version": "1.5.0",
            "_model_name": "DescriptionStyleModel",
            "_view_count": null,
            "_view_module": "@jupyter-widgets/base",
            "_view_module_version": "1.2.0",
            "_view_name": "StyleView",
            "description_width": ""
          }
        },
        "cf05e71f60b34663ac654c368bc88174": {
          "model_module": "@jupyter-widgets/controls",
          "model_name": "HBoxModel",
          "model_module_version": "1.5.0",
          "state": {
            "_dom_classes": [],
            "_model_module": "@jupyter-widgets/controls",
            "_model_module_version": "1.5.0",
            "_model_name": "HBoxModel",
            "_view_count": null,
            "_view_module": "@jupyter-widgets/controls",
            "_view_module_version": "1.5.0",
            "_view_name": "HBoxView",
            "box_style": "",
            "children": [
              "IPY_MODEL_243987d1d9e043f8996e8321fd828583",
              "IPY_MODEL_ede5df6b4e8c4ded97dd446e77e23aa7",
              "IPY_MODEL_cfef2a30d4e64c31b93eca81654ba3ee"
            ],
            "layout": "IPY_MODEL_0d69ffdc0a964a69851fecd70b26e2ad"
          }
        },
        "243987d1d9e043f8996e8321fd828583": {
          "model_module": "@jupyter-widgets/controls",
          "model_name": "HTMLModel",
          "model_module_version": "1.5.0",
          "state": {
            "_dom_classes": [],
            "_model_module": "@jupyter-widgets/controls",
            "_model_module_version": "1.5.0",
            "_model_name": "HTMLModel",
            "_view_count": null,
            "_view_module": "@jupyter-widgets/controls",
            "_view_module_version": "1.5.0",
            "_view_name": "HTMLView",
            "description": "",
            "description_tooltip": null,
            "layout": "IPY_MODEL_03bee455bc394c1a9c2ba8edbfbdd8ae",
            "placeholder": "​",
            "style": "IPY_MODEL_5b4a010ac4cf49e58156b33953b3ca42",
            "value": "spm.model: 100%"
          }
        },
        "ede5df6b4e8c4ded97dd446e77e23aa7": {
          "model_module": "@jupyter-widgets/controls",
          "model_name": "FloatProgressModel",
          "model_module_version": "1.5.0",
          "state": {
            "_dom_classes": [],
            "_model_module": "@jupyter-widgets/controls",
            "_model_module_version": "1.5.0",
            "_model_name": "FloatProgressModel",
            "_view_count": null,
            "_view_module": "@jupyter-widgets/controls",
            "_view_module_version": "1.5.0",
            "_view_name": "ProgressView",
            "bar_style": "success",
            "description": "",
            "description_tooltip": null,
            "layout": "IPY_MODEL_31acc1d107904f278faa2f6f18385124",
            "max": 2447305,
            "min": 0,
            "orientation": "horizontal",
            "style": "IPY_MODEL_bc8f0509eaf84b5c85934c5c0784533e",
            "value": 2447305
          }
        },
        "cfef2a30d4e64c31b93eca81654ba3ee": {
          "model_module": "@jupyter-widgets/controls",
          "model_name": "HTMLModel",
          "model_module_version": "1.5.0",
          "state": {
            "_dom_classes": [],
            "_model_module": "@jupyter-widgets/controls",
            "_model_module_version": "1.5.0",
            "_model_name": "HTMLModel",
            "_view_count": null,
            "_view_module": "@jupyter-widgets/controls",
            "_view_module_version": "1.5.0",
            "_view_name": "HTMLView",
            "description": "",
            "description_tooltip": null,
            "layout": "IPY_MODEL_febd65a3d4374b148faf4b8a33896660",
            "placeholder": "​",
            "style": "IPY_MODEL_9d488fa1a1d6413bba00968592b2a2d1",
            "value": " 2.45M/2.45M [00:00&lt;00:00, 22.0MB/s]"
          }
        },
        "0d69ffdc0a964a69851fecd70b26e2ad": {
          "model_module": "@jupyter-widgets/base",
          "model_name": "LayoutModel",
          "model_module_version": "1.2.0",
          "state": {
            "_model_module": "@jupyter-widgets/base",
            "_model_module_version": "1.2.0",
            "_model_name": "LayoutModel",
            "_view_count": null,
            "_view_module": "@jupyter-widgets/base",
            "_view_module_version": "1.2.0",
            "_view_name": "LayoutView",
            "align_content": null,
            "align_items": null,
            "align_self": null,
            "border": null,
            "bottom": null,
            "display": null,
            "flex": null,
            "flex_flow": null,
            "grid_area": null,
            "grid_auto_columns": null,
            "grid_auto_flow": null,
            "grid_auto_rows": null,
            "grid_column": null,
            "grid_gap": null,
            "grid_row": null,
            "grid_template_areas": null,
            "grid_template_columns": null,
            "grid_template_rows": null,
            "height": null,
            "justify_content": null,
            "justify_items": null,
            "left": null,
            "margin": null,
            "max_height": null,
            "max_width": null,
            "min_height": null,
            "min_width": null,
            "object_fit": null,
            "object_position": null,
            "order": null,
            "overflow": null,
            "overflow_x": null,
            "overflow_y": null,
            "padding": null,
            "right": null,
            "top": null,
            "visibility": null,
            "width": null
          }
        },
        "03bee455bc394c1a9c2ba8edbfbdd8ae": {
          "model_module": "@jupyter-widgets/base",
          "model_name": "LayoutModel",
          "model_module_version": "1.2.0",
          "state": {
            "_model_module": "@jupyter-widgets/base",
            "_model_module_version": "1.2.0",
            "_model_name": "LayoutModel",
            "_view_count": null,
            "_view_module": "@jupyter-widgets/base",
            "_view_module_version": "1.2.0",
            "_view_name": "LayoutView",
            "align_content": null,
            "align_items": null,
            "align_self": null,
            "border": null,
            "bottom": null,
            "display": null,
            "flex": null,
            "flex_flow": null,
            "grid_area": null,
            "grid_auto_columns": null,
            "grid_auto_flow": null,
            "grid_auto_rows": null,
            "grid_column": null,
            "grid_gap": null,
            "grid_row": null,
            "grid_template_areas": null,
            "grid_template_columns": null,
            "grid_template_rows": null,
            "height": null,
            "justify_content": null,
            "justify_items": null,
            "left": null,
            "margin": null,
            "max_height": null,
            "max_width": null,
            "min_height": null,
            "min_width": null,
            "object_fit": null,
            "object_position": null,
            "order": null,
            "overflow": null,
            "overflow_x": null,
            "overflow_y": null,
            "padding": null,
            "right": null,
            "top": null,
            "visibility": null,
            "width": null
          }
        },
        "5b4a010ac4cf49e58156b33953b3ca42": {
          "model_module": "@jupyter-widgets/controls",
          "model_name": "DescriptionStyleModel",
          "model_module_version": "1.5.0",
          "state": {
            "_model_module": "@jupyter-widgets/controls",
            "_model_module_version": "1.5.0",
            "_model_name": "DescriptionStyleModel",
            "_view_count": null,
            "_view_module": "@jupyter-widgets/base",
            "_view_module_version": "1.2.0",
            "_view_name": "StyleView",
            "description_width": ""
          }
        },
        "31acc1d107904f278faa2f6f18385124": {
          "model_module": "@jupyter-widgets/base",
          "model_name": "LayoutModel",
          "model_module_version": "1.2.0",
          "state": {
            "_model_module": "@jupyter-widgets/base",
            "_model_module_version": "1.2.0",
            "_model_name": "LayoutModel",
            "_view_count": null,
            "_view_module": "@jupyter-widgets/base",
            "_view_module_version": "1.2.0",
            "_view_name": "LayoutView",
            "align_content": null,
            "align_items": null,
            "align_self": null,
            "border": null,
            "bottom": null,
            "display": null,
            "flex": null,
            "flex_flow": null,
            "grid_area": null,
            "grid_auto_columns": null,
            "grid_auto_flow": null,
            "grid_auto_rows": null,
            "grid_column": null,
            "grid_gap": null,
            "grid_row": null,
            "grid_template_areas": null,
            "grid_template_columns": null,
            "grid_template_rows": null,
            "height": null,
            "justify_content": null,
            "justify_items": null,
            "left": null,
            "margin": null,
            "max_height": null,
            "max_width": null,
            "min_height": null,
            "min_width": null,
            "object_fit": null,
            "object_position": null,
            "order": null,
            "overflow": null,
            "overflow_x": null,
            "overflow_y": null,
            "padding": null,
            "right": null,
            "top": null,
            "visibility": null,
            "width": null
          }
        },
        "bc8f0509eaf84b5c85934c5c0784533e": {
          "model_module": "@jupyter-widgets/controls",
          "model_name": "ProgressStyleModel",
          "model_module_version": "1.5.0",
          "state": {
            "_model_module": "@jupyter-widgets/controls",
            "_model_module_version": "1.5.0",
            "_model_name": "ProgressStyleModel",
            "_view_count": null,
            "_view_module": "@jupyter-widgets/base",
            "_view_module_version": "1.2.0",
            "_view_name": "StyleView",
            "bar_color": null,
            "description_width": ""
          }
        },
        "febd65a3d4374b148faf4b8a33896660": {
          "model_module": "@jupyter-widgets/base",
          "model_name": "LayoutModel",
          "model_module_version": "1.2.0",
          "state": {
            "_model_module": "@jupyter-widgets/base",
            "_model_module_version": "1.2.0",
            "_model_name": "LayoutModel",
            "_view_count": null,
            "_view_module": "@jupyter-widgets/base",
            "_view_module_version": "1.2.0",
            "_view_name": "LayoutView",
            "align_content": null,
            "align_items": null,
            "align_self": null,
            "border": null,
            "bottom": null,
            "display": null,
            "flex": null,
            "flex_flow": null,
            "grid_area": null,
            "grid_auto_columns": null,
            "grid_auto_flow": null,
            "grid_auto_rows": null,
            "grid_column": null,
            "grid_gap": null,
            "grid_row": null,
            "grid_template_areas": null,
            "grid_template_columns": null,
            "grid_template_rows": null,
            "height": null,
            "justify_content": null,
            "justify_items": null,
            "left": null,
            "margin": null,
            "max_height": null,
            "max_width": null,
            "min_height": null,
            "min_width": null,
            "object_fit": null,
            "object_position": null,
            "order": null,
            "overflow": null,
            "overflow_x": null,
            "overflow_y": null,
            "padding": null,
            "right": null,
            "top": null,
            "visibility": null,
            "width": null
          }
        },
        "9d488fa1a1d6413bba00968592b2a2d1": {
          "model_module": "@jupyter-widgets/controls",
          "model_name": "DescriptionStyleModel",
          "model_module_version": "1.5.0",
          "state": {
            "_model_module": "@jupyter-widgets/controls",
            "_model_module_version": "1.5.0",
            "_model_name": "DescriptionStyleModel",
            "_view_count": null,
            "_view_module": "@jupyter-widgets/base",
            "_view_module_version": "1.2.0",
            "_view_name": "StyleView",
            "description_width": ""
          }
        },
        "0526d3a438984e699b70a5bbbaa97a06": {
          "model_module": "@jupyter-widgets/controls",
          "model_name": "HBoxModel",
          "model_module_version": "1.5.0",
          "state": {
            "_dom_classes": [],
            "_model_module": "@jupyter-widgets/controls",
            "_model_module_version": "1.5.0",
            "_model_name": "HBoxModel",
            "_view_count": null,
            "_view_module": "@jupyter-widgets/controls",
            "_view_module_version": "1.5.0",
            "_view_name": "HBoxView",
            "box_style": "",
            "children": [
              "IPY_MODEL_cdfed0c4c612480e994993f0e3f70be7",
              "IPY_MODEL_d4862890309b40a0b71e286dcf8176dd",
              "IPY_MODEL_de568fcbd067490298fd9ab2e1d5af7f"
            ],
            "layout": "IPY_MODEL_9ab7db887d5d44ffaa0658c972b09f95"
          }
        },
        "cdfed0c4c612480e994993f0e3f70be7": {
          "model_module": "@jupyter-widgets/controls",
          "model_name": "HTMLModel",
          "model_module_version": "1.5.0",
          "state": {
            "_dom_classes": [],
            "_model_module": "@jupyter-widgets/controls",
            "_model_module_version": "1.5.0",
            "_model_name": "HTMLModel",
            "_view_count": null,
            "_view_module": "@jupyter-widgets/controls",
            "_view_module_version": "1.5.0",
            "_view_name": "HTMLView",
            "description": "",
            "description_tooltip": null,
            "layout": "IPY_MODEL_d89cb0596cdf40cb80a2f0623dad2db7",
            "placeholder": "​",
            "style": "IPY_MODEL_aeb5fe14b976408e9bdc761951213011",
            "value": "pytorch_model.bin: 100%"
          }
        },
        "d4862890309b40a0b71e286dcf8176dd": {
          "model_module": "@jupyter-widgets/controls",
          "model_name": "FloatProgressModel",
          "model_module_version": "1.5.0",
          "state": {
            "_dom_classes": [],
            "_model_module": "@jupyter-widgets/controls",
            "_model_module_version": "1.5.0",
            "_model_name": "FloatProgressModel",
            "_view_count": null,
            "_view_module": "@jupyter-widgets/controls",
            "_view_module_version": "1.5.0",
            "_view_name": "ProgressView",
            "bar_style": "success",
            "description": "",
            "description_tooltip": null,
            "layout": "IPY_MODEL_1b266e2ca7b54274a59bf7958080acdf",
            "max": 3636612894,
            "min": 0,
            "orientation": "horizontal",
            "style": "IPY_MODEL_6e21558b38314d74b2ea2438a9e9cd41",
            "value": 3636612894
          }
        },
        "de568fcbd067490298fd9ab2e1d5af7f": {
          "model_module": "@jupyter-widgets/controls",
          "model_name": "HTMLModel",
          "model_module_version": "1.5.0",
          "state": {
            "_dom_classes": [],
            "_model_module": "@jupyter-widgets/controls",
            "_model_module_version": "1.5.0",
            "_model_name": "HTMLModel",
            "_view_count": null,
            "_view_module": "@jupyter-widgets/controls",
            "_view_module_version": "1.5.0",
            "_view_name": "HTMLView",
            "description": "",
            "description_tooltip": null,
            "layout": "IPY_MODEL_7808dd1052724d81a20ce3a8bf9d65aa",
            "placeholder": "​",
            "style": "IPY_MODEL_bedd3e42710e4fd298785c070236f61f",
            "value": " 3.64G/3.64G [03:02&lt;00:00, 26.1MB/s]"
          }
        },
        "9ab7db887d5d44ffaa0658c972b09f95": {
          "model_module": "@jupyter-widgets/base",
          "model_name": "LayoutModel",
          "model_module_version": "1.2.0",
          "state": {
            "_model_module": "@jupyter-widgets/base",
            "_model_module_version": "1.2.0",
            "_model_name": "LayoutModel",
            "_view_count": null,
            "_view_module": "@jupyter-widgets/base",
            "_view_module_version": "1.2.0",
            "_view_name": "LayoutView",
            "align_content": null,
            "align_items": null,
            "align_self": null,
            "border": null,
            "bottom": null,
            "display": null,
            "flex": null,
            "flex_flow": null,
            "grid_area": null,
            "grid_auto_columns": null,
            "grid_auto_flow": null,
            "grid_auto_rows": null,
            "grid_column": null,
            "grid_gap": null,
            "grid_row": null,
            "grid_template_areas": null,
            "grid_template_columns": null,
            "grid_template_rows": null,
            "height": null,
            "justify_content": null,
            "justify_items": null,
            "left": null,
            "margin": null,
            "max_height": null,
            "max_width": null,
            "min_height": null,
            "min_width": null,
            "object_fit": null,
            "object_position": null,
            "order": null,
            "overflow": null,
            "overflow_x": null,
            "overflow_y": null,
            "padding": null,
            "right": null,
            "top": null,
            "visibility": null,
            "width": null
          }
        },
        "d89cb0596cdf40cb80a2f0623dad2db7": {
          "model_module": "@jupyter-widgets/base",
          "model_name": "LayoutModel",
          "model_module_version": "1.2.0",
          "state": {
            "_model_module": "@jupyter-widgets/base",
            "_model_module_version": "1.2.0",
            "_model_name": "LayoutModel",
            "_view_count": null,
            "_view_module": "@jupyter-widgets/base",
            "_view_module_version": "1.2.0",
            "_view_name": "LayoutView",
            "align_content": null,
            "align_items": null,
            "align_self": null,
            "border": null,
            "bottom": null,
            "display": null,
            "flex": null,
            "flex_flow": null,
            "grid_area": null,
            "grid_auto_columns": null,
            "grid_auto_flow": null,
            "grid_auto_rows": null,
            "grid_column": null,
            "grid_gap": null,
            "grid_row": null,
            "grid_template_areas": null,
            "grid_template_columns": null,
            "grid_template_rows": null,
            "height": null,
            "justify_content": null,
            "justify_items": null,
            "left": null,
            "margin": null,
            "max_height": null,
            "max_width": null,
            "min_height": null,
            "min_width": null,
            "object_fit": null,
            "object_position": null,
            "order": null,
            "overflow": null,
            "overflow_x": null,
            "overflow_y": null,
            "padding": null,
            "right": null,
            "top": null,
            "visibility": null,
            "width": null
          }
        },
        "aeb5fe14b976408e9bdc761951213011": {
          "model_module": "@jupyter-widgets/controls",
          "model_name": "DescriptionStyleModel",
          "model_module_version": "1.5.0",
          "state": {
            "_model_module": "@jupyter-widgets/controls",
            "_model_module_version": "1.5.0",
            "_model_name": "DescriptionStyleModel",
            "_view_count": null,
            "_view_module": "@jupyter-widgets/base",
            "_view_module_version": "1.2.0",
            "_view_name": "StyleView",
            "description_width": ""
          }
        },
        "1b266e2ca7b54274a59bf7958080acdf": {
          "model_module": "@jupyter-widgets/base",
          "model_name": "LayoutModel",
          "model_module_version": "1.2.0",
          "state": {
            "_model_module": "@jupyter-widgets/base",
            "_model_module_version": "1.2.0",
            "_model_name": "LayoutModel",
            "_view_count": null,
            "_view_module": "@jupyter-widgets/base",
            "_view_module_version": "1.2.0",
            "_view_name": "LayoutView",
            "align_content": null,
            "align_items": null,
            "align_self": null,
            "border": null,
            "bottom": null,
            "display": null,
            "flex": null,
            "flex_flow": null,
            "grid_area": null,
            "grid_auto_columns": null,
            "grid_auto_flow": null,
            "grid_auto_rows": null,
            "grid_column": null,
            "grid_gap": null,
            "grid_row": null,
            "grid_template_areas": null,
            "grid_template_columns": null,
            "grid_template_rows": null,
            "height": null,
            "justify_content": null,
            "justify_items": null,
            "left": null,
            "margin": null,
            "max_height": null,
            "max_width": null,
            "min_height": null,
            "min_width": null,
            "object_fit": null,
            "object_position": null,
            "order": null,
            "overflow": null,
            "overflow_x": null,
            "overflow_y": null,
            "padding": null,
            "right": null,
            "top": null,
            "visibility": null,
            "width": null
          }
        },
        "6e21558b38314d74b2ea2438a9e9cd41": {
          "model_module": "@jupyter-widgets/controls",
          "model_name": "ProgressStyleModel",
          "model_module_version": "1.5.0",
          "state": {
            "_model_module": "@jupyter-widgets/controls",
            "_model_module_version": "1.5.0",
            "_model_name": "ProgressStyleModel",
            "_view_count": null,
            "_view_module": "@jupyter-widgets/base",
            "_view_module_version": "1.2.0",
            "_view_name": "StyleView",
            "bar_color": null,
            "description_width": ""
          }
        },
        "7808dd1052724d81a20ce3a8bf9d65aa": {
          "model_module": "@jupyter-widgets/base",
          "model_name": "LayoutModel",
          "model_module_version": "1.2.0",
          "state": {
            "_model_module": "@jupyter-widgets/base",
            "_model_module_version": "1.2.0",
            "_model_name": "LayoutModel",
            "_view_count": null,
            "_view_module": "@jupyter-widgets/base",
            "_view_module_version": "1.2.0",
            "_view_name": "LayoutView",
            "align_content": null,
            "align_items": null,
            "align_self": null,
            "border": null,
            "bottom": null,
            "display": null,
            "flex": null,
            "flex_flow": null,
            "grid_area": null,
            "grid_auto_columns": null,
            "grid_auto_flow": null,
            "grid_auto_rows": null,
            "grid_column": null,
            "grid_gap": null,
            "grid_row": null,
            "grid_template_areas": null,
            "grid_template_columns": null,
            "grid_template_rows": null,
            "height": null,
            "justify_content": null,
            "justify_items": null,
            "left": null,
            "margin": null,
            "max_height": null,
            "max_width": null,
            "min_height": null,
            "min_width": null,
            "object_fit": null,
            "object_position": null,
            "order": null,
            "overflow": null,
            "overflow_x": null,
            "overflow_y": null,
            "padding": null,
            "right": null,
            "top": null,
            "visibility": null,
            "width": null
          }
        },
        "bedd3e42710e4fd298785c070236f61f": {
          "model_module": "@jupyter-widgets/controls",
          "model_name": "DescriptionStyleModel",
          "model_module_version": "1.5.0",
          "state": {
            "_model_module": "@jupyter-widgets/controls",
            "_model_module_version": "1.5.0",
            "_model_name": "DescriptionStyleModel",
            "_view_count": null,
            "_view_module": "@jupyter-widgets/base",
            "_view_module_version": "1.2.0",
            "_view_name": "StyleView",
            "description_width": ""
          }
        },
        "3d01664f235c41dd94e2e03b97439d24": {
          "model_module": "@jupyter-widgets/controls",
          "model_name": "HBoxModel",
          "model_module_version": "1.5.0",
          "state": {
            "_dom_classes": [],
            "_model_module": "@jupyter-widgets/controls",
            "_model_module_version": "1.5.0",
            "_model_name": "HBoxModel",
            "_view_count": null,
            "_view_module": "@jupyter-widgets/controls",
            "_view_module_version": "1.5.0",
            "_view_name": "HBoxView",
            "box_style": "",
            "children": [
              "IPY_MODEL_e876c0f1be544914bd10998e70f28c78",
              "IPY_MODEL_1f43d803cba147e3987c4218bec4f0e5",
              "IPY_MODEL_20aaf9ee62914ea3a7ff0781dd7ca2f6"
            ],
            "layout": "IPY_MODEL_9199e3db13f14db09fe81673314d54ee"
          }
        },
        "e876c0f1be544914bd10998e70f28c78": {
          "model_module": "@jupyter-widgets/controls",
          "model_name": "HTMLModel",
          "model_module_version": "1.5.0",
          "state": {
            "_dom_classes": [],
            "_model_module": "@jupyter-widgets/controls",
            "_model_module_version": "1.5.0",
            "_model_name": "HTMLModel",
            "_view_count": null,
            "_view_module": "@jupyter-widgets/controls",
            "_view_module_version": "1.5.0",
            "_view_name": "HTMLView",
            "description": "",
            "description_tooltip": null,
            "layout": "IPY_MODEL_cde403d95a6f4e288695af429421805a",
            "placeholder": "​",
            "style": "IPY_MODEL_2092d3b325c74227a70765fa923d1c1b",
            "value": "Upload 2 LFS files: 100%"
          }
        },
        "1f43d803cba147e3987c4218bec4f0e5": {
          "model_module": "@jupyter-widgets/controls",
          "model_name": "FloatProgressModel",
          "model_module_version": "1.5.0",
          "state": {
            "_dom_classes": [],
            "_model_module": "@jupyter-widgets/controls",
            "_model_module_version": "1.5.0",
            "_model_name": "FloatProgressModel",
            "_view_count": null,
            "_view_module": "@jupyter-widgets/controls",
            "_view_module_version": "1.5.0",
            "_view_name": "ProgressView",
            "bar_style": "success",
            "description": "",
            "description_tooltip": null,
            "layout": "IPY_MODEL_88d4e1269e5f467a8300630272fd349f",
            "max": 2,
            "min": 0,
            "orientation": "horizontal",
            "style": "IPY_MODEL_266980dcdede43e4b14f785d3a5f39bc",
            "value": 2
          }
        },
        "20aaf9ee62914ea3a7ff0781dd7ca2f6": {
          "model_module": "@jupyter-widgets/controls",
          "model_name": "HTMLModel",
          "model_module_version": "1.5.0",
          "state": {
            "_dom_classes": [],
            "_model_module": "@jupyter-widgets/controls",
            "_model_module_version": "1.5.0",
            "_model_name": "HTMLModel",
            "_view_count": null,
            "_view_module": "@jupyter-widgets/controls",
            "_view_module_version": "1.5.0",
            "_view_name": "HTMLView",
            "description": "",
            "description_tooltip": null,
            "layout": "IPY_MODEL_59b0327f928c4078a5013166b256beb7",
            "placeholder": "​",
            "style": "IPY_MODEL_0d529e314d0044e1a2dba708271522c0",
            "value": " 2/2 [03:02&lt;00:00, 182.60s/it]"
          }
        },
        "9199e3db13f14db09fe81673314d54ee": {
          "model_module": "@jupyter-widgets/base",
          "model_name": "LayoutModel",
          "model_module_version": "1.2.0",
          "state": {
            "_model_module": "@jupyter-widgets/base",
            "_model_module_version": "1.2.0",
            "_model_name": "LayoutModel",
            "_view_count": null,
            "_view_module": "@jupyter-widgets/base",
            "_view_module_version": "1.2.0",
            "_view_name": "LayoutView",
            "align_content": null,
            "align_items": null,
            "align_self": null,
            "border": null,
            "bottom": null,
            "display": null,
            "flex": null,
            "flex_flow": null,
            "grid_area": null,
            "grid_auto_columns": null,
            "grid_auto_flow": null,
            "grid_auto_rows": null,
            "grid_column": null,
            "grid_gap": null,
            "grid_row": null,
            "grid_template_areas": null,
            "grid_template_columns": null,
            "grid_template_rows": null,
            "height": null,
            "justify_content": null,
            "justify_items": null,
            "left": null,
            "margin": null,
            "max_height": null,
            "max_width": null,
            "min_height": null,
            "min_width": null,
            "object_fit": null,
            "object_position": null,
            "order": null,
            "overflow": null,
            "overflow_x": null,
            "overflow_y": null,
            "padding": null,
            "right": null,
            "top": null,
            "visibility": null,
            "width": null
          }
        },
        "cde403d95a6f4e288695af429421805a": {
          "model_module": "@jupyter-widgets/base",
          "model_name": "LayoutModel",
          "model_module_version": "1.2.0",
          "state": {
            "_model_module": "@jupyter-widgets/base",
            "_model_module_version": "1.2.0",
            "_model_name": "LayoutModel",
            "_view_count": null,
            "_view_module": "@jupyter-widgets/base",
            "_view_module_version": "1.2.0",
            "_view_name": "LayoutView",
            "align_content": null,
            "align_items": null,
            "align_self": null,
            "border": null,
            "bottom": null,
            "display": null,
            "flex": null,
            "flex_flow": null,
            "grid_area": null,
            "grid_auto_columns": null,
            "grid_auto_flow": null,
            "grid_auto_rows": null,
            "grid_column": null,
            "grid_gap": null,
            "grid_row": null,
            "grid_template_areas": null,
            "grid_template_columns": null,
            "grid_template_rows": null,
            "height": null,
            "justify_content": null,
            "justify_items": null,
            "left": null,
            "margin": null,
            "max_height": null,
            "max_width": null,
            "min_height": null,
            "min_width": null,
            "object_fit": null,
            "object_position": null,
            "order": null,
            "overflow": null,
            "overflow_x": null,
            "overflow_y": null,
            "padding": null,
            "right": null,
            "top": null,
            "visibility": null,
            "width": null
          }
        },
        "2092d3b325c74227a70765fa923d1c1b": {
          "model_module": "@jupyter-widgets/controls",
          "model_name": "DescriptionStyleModel",
          "model_module_version": "1.5.0",
          "state": {
            "_model_module": "@jupyter-widgets/controls",
            "_model_module_version": "1.5.0",
            "_model_name": "DescriptionStyleModel",
            "_view_count": null,
            "_view_module": "@jupyter-widgets/base",
            "_view_module_version": "1.2.0",
            "_view_name": "StyleView",
            "description_width": ""
          }
        },
        "88d4e1269e5f467a8300630272fd349f": {
          "model_module": "@jupyter-widgets/base",
          "model_name": "LayoutModel",
          "model_module_version": "1.2.0",
          "state": {
            "_model_module": "@jupyter-widgets/base",
            "_model_module_version": "1.2.0",
            "_model_name": "LayoutModel",
            "_view_count": null,
            "_view_module": "@jupyter-widgets/base",
            "_view_module_version": "1.2.0",
            "_view_name": "LayoutView",
            "align_content": null,
            "align_items": null,
            "align_self": null,
            "border": null,
            "bottom": null,
            "display": null,
            "flex": null,
            "flex_flow": null,
            "grid_area": null,
            "grid_auto_columns": null,
            "grid_auto_flow": null,
            "grid_auto_rows": null,
            "grid_column": null,
            "grid_gap": null,
            "grid_row": null,
            "grid_template_areas": null,
            "grid_template_columns": null,
            "grid_template_rows": null,
            "height": null,
            "justify_content": null,
            "justify_items": null,
            "left": null,
            "margin": null,
            "max_height": null,
            "max_width": null,
            "min_height": null,
            "min_width": null,
            "object_fit": null,
            "object_position": null,
            "order": null,
            "overflow": null,
            "overflow_x": null,
            "overflow_y": null,
            "padding": null,
            "right": null,
            "top": null,
            "visibility": null,
            "width": null
          }
        },
        "266980dcdede43e4b14f785d3a5f39bc": {
          "model_module": "@jupyter-widgets/controls",
          "model_name": "ProgressStyleModel",
          "model_module_version": "1.5.0",
          "state": {
            "_model_module": "@jupyter-widgets/controls",
            "_model_module_version": "1.5.0",
            "_model_name": "ProgressStyleModel",
            "_view_count": null,
            "_view_module": "@jupyter-widgets/base",
            "_view_module_version": "1.2.0",
            "_view_name": "StyleView",
            "bar_color": null,
            "description_width": ""
          }
        },
        "59b0327f928c4078a5013166b256beb7": {
          "model_module": "@jupyter-widgets/base",
          "model_name": "LayoutModel",
          "model_module_version": "1.2.0",
          "state": {
            "_model_module": "@jupyter-widgets/base",
            "_model_module_version": "1.2.0",
            "_model_name": "LayoutModel",
            "_view_count": null,
            "_view_module": "@jupyter-widgets/base",
            "_view_module_version": "1.2.0",
            "_view_name": "LayoutView",
            "align_content": null,
            "align_items": null,
            "align_self": null,
            "border": null,
            "bottom": null,
            "display": null,
            "flex": null,
            "flex_flow": null,
            "grid_area": null,
            "grid_auto_columns": null,
            "grid_auto_flow": null,
            "grid_auto_rows": null,
            "grid_column": null,
            "grid_gap": null,
            "grid_row": null,
            "grid_template_areas": null,
            "grid_template_columns": null,
            "grid_template_rows": null,
            "height": null,
            "justify_content": null,
            "justify_items": null,
            "left": null,
            "margin": null,
            "max_height": null,
            "max_width": null,
            "min_height": null,
            "min_width": null,
            "object_fit": null,
            "object_position": null,
            "order": null,
            "overflow": null,
            "overflow_x": null,
            "overflow_y": null,
            "padding": null,
            "right": null,
            "top": null,
            "visibility": null,
            "width": null
          }
        },
        "0d529e314d0044e1a2dba708271522c0": {
          "model_module": "@jupyter-widgets/controls",
          "model_name": "DescriptionStyleModel",
          "model_module_version": "1.5.0",
          "state": {
            "_model_module": "@jupyter-widgets/controls",
            "_model_module_version": "1.5.0",
            "_model_name": "DescriptionStyleModel",
            "_view_count": null,
            "_view_module": "@jupyter-widgets/base",
            "_view_module_version": "1.2.0",
            "_view_name": "StyleView",
            "description_width": ""
          }
        },
        "21b847a04a984b5e8b5634e0afe00f49": {
          "model_module": "@jupyter-widgets/controls",
          "model_name": "HBoxModel",
          "model_module_version": "1.5.0",
          "state": {
            "_dom_classes": [],
            "_model_module": "@jupyter-widgets/controls",
            "_model_module_version": "1.5.0",
            "_model_name": "HBoxModel",
            "_view_count": null,
            "_view_module": "@jupyter-widgets/controls",
            "_view_module_version": "1.5.0",
            "_view_name": "HBoxView",
            "box_style": "",
            "children": [
              "IPY_MODEL_1f7412cf06a8402c85188d7abdfbf01f",
              "IPY_MODEL_4a340632e8a045d9a12e0120e74ca1f1",
              "IPY_MODEL_dc5e5e5409544813b6143d9e9c75b2b8"
            ],
            "layout": "IPY_MODEL_67a84a3c9aad434b9cb20f8b69b8844d"
          }
        },
        "1f7412cf06a8402c85188d7abdfbf01f": {
          "model_module": "@jupyter-widgets/controls",
          "model_name": "HTMLModel",
          "model_module_version": "1.5.0",
          "state": {
            "_dom_classes": [],
            "_model_module": "@jupyter-widgets/controls",
            "_model_module_version": "1.5.0",
            "_model_name": "HTMLModel",
            "_view_count": null,
            "_view_module": "@jupyter-widgets/controls",
            "_view_module_version": "1.5.0",
            "_view_name": "HTMLView",
            "description": "",
            "description_tooltip": null,
            "layout": "IPY_MODEL_3ded30afa03c476c885bee050cd6d5ff",
            "placeholder": "​",
            "style": "IPY_MODEL_2462484c000b489ba4d4aa3017ddb678",
            "value": "Annotated Evaluation: 100%"
          }
        },
        "4a340632e8a045d9a12e0120e74ca1f1": {
          "model_module": "@jupyter-widgets/controls",
          "model_name": "FloatProgressModel",
          "model_module_version": "1.5.0",
          "state": {
            "_dom_classes": [],
            "_model_module": "@jupyter-widgets/controls",
            "_model_module_version": "1.5.0",
            "_model_name": "FloatProgressModel",
            "_view_count": null,
            "_view_module": "@jupyter-widgets/controls",
            "_view_module_version": "1.5.0",
            "_view_name": "ProgressView",
            "bar_style": "success",
            "description": "",
            "description_tooltip": null,
            "layout": "IPY_MODEL_6c9b082852b141f6ad6138167b8273f0",
            "max": 77,
            "min": 0,
            "orientation": "horizontal",
            "style": "IPY_MODEL_3ffb9fc95056438eae8250c200f2288c",
            "value": 77
          }
        },
        "dc5e5e5409544813b6143d9e9c75b2b8": {
          "model_module": "@jupyter-widgets/controls",
          "model_name": "HTMLModel",
          "model_module_version": "1.5.0",
          "state": {
            "_dom_classes": [],
            "_model_module": "@jupyter-widgets/controls",
            "_model_module_version": "1.5.0",
            "_model_name": "HTMLModel",
            "_view_count": null,
            "_view_module": "@jupyter-widgets/controls",
            "_view_module_version": "1.5.0",
            "_view_name": "HTMLView",
            "description": "",
            "description_tooltip": null,
            "layout": "IPY_MODEL_1f241c5b6a2e45fb88e1ff4f4c177daf",
            "placeholder": "​",
            "style": "IPY_MODEL_4503b6a93220431caa27963c4ba94323",
            "value": " 77/77 [00:09&lt;00:00,  8.20it/s]"
          }
        },
        "67a84a3c9aad434b9cb20f8b69b8844d": {
          "model_module": "@jupyter-widgets/base",
          "model_name": "LayoutModel",
          "model_module_version": "1.2.0",
          "state": {
            "_model_module": "@jupyter-widgets/base",
            "_model_module_version": "1.2.0",
            "_model_name": "LayoutModel",
            "_view_count": null,
            "_view_module": "@jupyter-widgets/base",
            "_view_module_version": "1.2.0",
            "_view_name": "LayoutView",
            "align_content": null,
            "align_items": null,
            "align_self": null,
            "border": null,
            "bottom": null,
            "display": null,
            "flex": null,
            "flex_flow": null,
            "grid_area": null,
            "grid_auto_columns": null,
            "grid_auto_flow": null,
            "grid_auto_rows": null,
            "grid_column": null,
            "grid_gap": null,
            "grid_row": null,
            "grid_template_areas": null,
            "grid_template_columns": null,
            "grid_template_rows": null,
            "height": null,
            "justify_content": null,
            "justify_items": null,
            "left": null,
            "margin": null,
            "max_height": null,
            "max_width": null,
            "min_height": null,
            "min_width": null,
            "object_fit": null,
            "object_position": null,
            "order": null,
            "overflow": null,
            "overflow_x": null,
            "overflow_y": null,
            "padding": null,
            "right": null,
            "top": null,
            "visibility": null,
            "width": null
          }
        },
        "3ded30afa03c476c885bee050cd6d5ff": {
          "model_module": "@jupyter-widgets/base",
          "model_name": "LayoutModel",
          "model_module_version": "1.2.0",
          "state": {
            "_model_module": "@jupyter-widgets/base",
            "_model_module_version": "1.2.0",
            "_model_name": "LayoutModel",
            "_view_count": null,
            "_view_module": "@jupyter-widgets/base",
            "_view_module_version": "1.2.0",
            "_view_name": "LayoutView",
            "align_content": null,
            "align_items": null,
            "align_self": null,
            "border": null,
            "bottom": null,
            "display": null,
            "flex": null,
            "flex_flow": null,
            "grid_area": null,
            "grid_auto_columns": null,
            "grid_auto_flow": null,
            "grid_auto_rows": null,
            "grid_column": null,
            "grid_gap": null,
            "grid_row": null,
            "grid_template_areas": null,
            "grid_template_columns": null,
            "grid_template_rows": null,
            "height": null,
            "justify_content": null,
            "justify_items": null,
            "left": null,
            "margin": null,
            "max_height": null,
            "max_width": null,
            "min_height": null,
            "min_width": null,
            "object_fit": null,
            "object_position": null,
            "order": null,
            "overflow": null,
            "overflow_x": null,
            "overflow_y": null,
            "padding": null,
            "right": null,
            "top": null,
            "visibility": null,
            "width": null
          }
        },
        "2462484c000b489ba4d4aa3017ddb678": {
          "model_module": "@jupyter-widgets/controls",
          "model_name": "DescriptionStyleModel",
          "model_module_version": "1.5.0",
          "state": {
            "_model_module": "@jupyter-widgets/controls",
            "_model_module_version": "1.5.0",
            "_model_name": "DescriptionStyleModel",
            "_view_count": null,
            "_view_module": "@jupyter-widgets/base",
            "_view_module_version": "1.2.0",
            "_view_name": "StyleView",
            "description_width": ""
          }
        },
        "6c9b082852b141f6ad6138167b8273f0": {
          "model_module": "@jupyter-widgets/base",
          "model_name": "LayoutModel",
          "model_module_version": "1.2.0",
          "state": {
            "_model_module": "@jupyter-widgets/base",
            "_model_module_version": "1.2.0",
            "_model_name": "LayoutModel",
            "_view_count": null,
            "_view_module": "@jupyter-widgets/base",
            "_view_module_version": "1.2.0",
            "_view_name": "LayoutView",
            "align_content": null,
            "align_items": null,
            "align_self": null,
            "border": null,
            "bottom": null,
            "display": null,
            "flex": null,
            "flex_flow": null,
            "grid_area": null,
            "grid_auto_columns": null,
            "grid_auto_flow": null,
            "grid_auto_rows": null,
            "grid_column": null,
            "grid_gap": null,
            "grid_row": null,
            "grid_template_areas": null,
            "grid_template_columns": null,
            "grid_template_rows": null,
            "height": null,
            "justify_content": null,
            "justify_items": null,
            "left": null,
            "margin": null,
            "max_height": null,
            "max_width": null,
            "min_height": null,
            "min_width": null,
            "object_fit": null,
            "object_position": null,
            "order": null,
            "overflow": null,
            "overflow_x": null,
            "overflow_y": null,
            "padding": null,
            "right": null,
            "top": null,
            "visibility": null,
            "width": null
          }
        },
        "3ffb9fc95056438eae8250c200f2288c": {
          "model_module": "@jupyter-widgets/controls",
          "model_name": "ProgressStyleModel",
          "model_module_version": "1.5.0",
          "state": {
            "_model_module": "@jupyter-widgets/controls",
            "_model_module_version": "1.5.0",
            "_model_name": "ProgressStyleModel",
            "_view_count": null,
            "_view_module": "@jupyter-widgets/base",
            "_view_module_version": "1.2.0",
            "_view_name": "StyleView",
            "bar_color": null,
            "description_width": ""
          }
        },
        "1f241c5b6a2e45fb88e1ff4f4c177daf": {
          "model_module": "@jupyter-widgets/base",
          "model_name": "LayoutModel",
          "model_module_version": "1.2.0",
          "state": {
            "_model_module": "@jupyter-widgets/base",
            "_model_module_version": "1.2.0",
            "_model_name": "LayoutModel",
            "_view_count": null,
            "_view_module": "@jupyter-widgets/base",
            "_view_module_version": "1.2.0",
            "_view_name": "LayoutView",
            "align_content": null,
            "align_items": null,
            "align_self": null,
            "border": null,
            "bottom": null,
            "display": null,
            "flex": null,
            "flex_flow": null,
            "grid_area": null,
            "grid_auto_columns": null,
            "grid_auto_flow": null,
            "grid_auto_rows": null,
            "grid_column": null,
            "grid_gap": null,
            "grid_row": null,
            "grid_template_areas": null,
            "grid_template_columns": null,
            "grid_template_rows": null,
            "height": null,
            "justify_content": null,
            "justify_items": null,
            "left": null,
            "margin": null,
            "max_height": null,
            "max_width": null,
            "min_height": null,
            "min_width": null,
            "object_fit": null,
            "object_position": null,
            "order": null,
            "overflow": null,
            "overflow_x": null,
            "overflow_y": null,
            "padding": null,
            "right": null,
            "top": null,
            "visibility": null,
            "width": null
          }
        },
        "4503b6a93220431caa27963c4ba94323": {
          "model_module": "@jupyter-widgets/controls",
          "model_name": "DescriptionStyleModel",
          "model_module_version": "1.5.0",
          "state": {
            "_model_module": "@jupyter-widgets/controls",
            "_model_module_version": "1.5.0",
            "_model_name": "DescriptionStyleModel",
            "_view_count": null,
            "_view_module": "@jupyter-widgets/base",
            "_view_module_version": "1.2.0",
            "_view_name": "StyleView",
            "description_width": ""
          }
        },
        "799628ca3b424d6fb16a288780dd5c95": {
          "model_module": "@jupyter-widgets/controls",
          "model_name": "HBoxModel",
          "model_module_version": "1.5.0",
          "state": {
            "_dom_classes": [],
            "_model_module": "@jupyter-widgets/controls",
            "_model_module_version": "1.5.0",
            "_model_name": "HBoxModel",
            "_view_count": null,
            "_view_module": "@jupyter-widgets/controls",
            "_view_module_version": "1.5.0",
            "_view_name": "HBoxView",
            "box_style": "",
            "children": [
              "IPY_MODEL_c9ba166ae8da4936af57442fce0c09b9",
              "IPY_MODEL_791a31637a5e473ca8c3492c135a1362",
              "IPY_MODEL_c690a2ecee174408bba2900cacb1b46f"
            ],
            "layout": "IPY_MODEL_58fba2d5ba7b48f1bd5e9dff582cffc3"
          }
        },
        "c9ba166ae8da4936af57442fce0c09b9": {
          "model_module": "@jupyter-widgets/controls",
          "model_name": "HTMLModel",
          "model_module_version": "1.5.0",
          "state": {
            "_dom_classes": [],
            "_model_module": "@jupyter-widgets/controls",
            "_model_module_version": "1.5.0",
            "_model_name": "HTMLModel",
            "_view_count": null,
            "_view_module": "@jupyter-widgets/controls",
            "_view_module_version": "1.5.0",
            "_view_name": "HTMLView",
            "description": "",
            "description_tooltip": null,
            "layout": "IPY_MODEL_7b777754230a49f5b108f10d76aaa2b6",
            "placeholder": "​",
            "style": "IPY_MODEL_6670e1ff0d034bff9c716c8324446cf4",
            "value": "spm.model: 100%"
          }
        },
        "791a31637a5e473ca8c3492c135a1362": {
          "model_module": "@jupyter-widgets/controls",
          "model_name": "FloatProgressModel",
          "model_module_version": "1.5.0",
          "state": {
            "_dom_classes": [],
            "_model_module": "@jupyter-widgets/controls",
            "_model_module_version": "1.5.0",
            "_model_name": "FloatProgressModel",
            "_view_count": null,
            "_view_module": "@jupyter-widgets/controls",
            "_view_module_version": "1.5.0",
            "_view_name": "ProgressView",
            "bar_style": "success",
            "description": "",
            "description_tooltip": null,
            "layout": "IPY_MODEL_ddf40763db884bcc9bde525486513fd5",
            "max": 2447305,
            "min": 0,
            "orientation": "horizontal",
            "style": "IPY_MODEL_9662aaa1afdf4c0ab358b577d32ba0e3",
            "value": 2447305
          }
        },
        "c690a2ecee174408bba2900cacb1b46f": {
          "model_module": "@jupyter-widgets/controls",
          "model_name": "HTMLModel",
          "model_module_version": "1.5.0",
          "state": {
            "_dom_classes": [],
            "_model_module": "@jupyter-widgets/controls",
            "_model_module_version": "1.5.0",
            "_model_name": "HTMLModel",
            "_view_count": null,
            "_view_module": "@jupyter-widgets/controls",
            "_view_module_version": "1.5.0",
            "_view_name": "HTMLView",
            "description": "",
            "description_tooltip": null,
            "layout": "IPY_MODEL_dfe673000e5b4792910586d82f023fa0",
            "placeholder": "​",
            "style": "IPY_MODEL_d59c89060e1c4371b20829b645f66915",
            "value": " 2.45M/2.45M [00:01&lt;00:00, 2.37MB/s]"
          }
        },
        "58fba2d5ba7b48f1bd5e9dff582cffc3": {
          "model_module": "@jupyter-widgets/base",
          "model_name": "LayoutModel",
          "model_module_version": "1.2.0",
          "state": {
            "_model_module": "@jupyter-widgets/base",
            "_model_module_version": "1.2.0",
            "_model_name": "LayoutModel",
            "_view_count": null,
            "_view_module": "@jupyter-widgets/base",
            "_view_module_version": "1.2.0",
            "_view_name": "LayoutView",
            "align_content": null,
            "align_items": null,
            "align_self": null,
            "border": null,
            "bottom": null,
            "display": null,
            "flex": null,
            "flex_flow": null,
            "grid_area": null,
            "grid_auto_columns": null,
            "grid_auto_flow": null,
            "grid_auto_rows": null,
            "grid_column": null,
            "grid_gap": null,
            "grid_row": null,
            "grid_template_areas": null,
            "grid_template_columns": null,
            "grid_template_rows": null,
            "height": null,
            "justify_content": null,
            "justify_items": null,
            "left": null,
            "margin": null,
            "max_height": null,
            "max_width": null,
            "min_height": null,
            "min_width": null,
            "object_fit": null,
            "object_position": null,
            "order": null,
            "overflow": null,
            "overflow_x": null,
            "overflow_y": null,
            "padding": null,
            "right": null,
            "top": null,
            "visibility": null,
            "width": null
          }
        },
        "7b777754230a49f5b108f10d76aaa2b6": {
          "model_module": "@jupyter-widgets/base",
          "model_name": "LayoutModel",
          "model_module_version": "1.2.0",
          "state": {
            "_model_module": "@jupyter-widgets/base",
            "_model_module_version": "1.2.0",
            "_model_name": "LayoutModel",
            "_view_count": null,
            "_view_module": "@jupyter-widgets/base",
            "_view_module_version": "1.2.0",
            "_view_name": "LayoutView",
            "align_content": null,
            "align_items": null,
            "align_self": null,
            "border": null,
            "bottom": null,
            "display": null,
            "flex": null,
            "flex_flow": null,
            "grid_area": null,
            "grid_auto_columns": null,
            "grid_auto_flow": null,
            "grid_auto_rows": null,
            "grid_column": null,
            "grid_gap": null,
            "grid_row": null,
            "grid_template_areas": null,
            "grid_template_columns": null,
            "grid_template_rows": null,
            "height": null,
            "justify_content": null,
            "justify_items": null,
            "left": null,
            "margin": null,
            "max_height": null,
            "max_width": null,
            "min_height": null,
            "min_width": null,
            "object_fit": null,
            "object_position": null,
            "order": null,
            "overflow": null,
            "overflow_x": null,
            "overflow_y": null,
            "padding": null,
            "right": null,
            "top": null,
            "visibility": null,
            "width": null
          }
        },
        "6670e1ff0d034bff9c716c8324446cf4": {
          "model_module": "@jupyter-widgets/controls",
          "model_name": "DescriptionStyleModel",
          "model_module_version": "1.5.0",
          "state": {
            "_model_module": "@jupyter-widgets/controls",
            "_model_module_version": "1.5.0",
            "_model_name": "DescriptionStyleModel",
            "_view_count": null,
            "_view_module": "@jupyter-widgets/base",
            "_view_module_version": "1.2.0",
            "_view_name": "StyleView",
            "description_width": ""
          }
        },
        "ddf40763db884bcc9bde525486513fd5": {
          "model_module": "@jupyter-widgets/base",
          "model_name": "LayoutModel",
          "model_module_version": "1.2.0",
          "state": {
            "_model_module": "@jupyter-widgets/base",
            "_model_module_version": "1.2.0",
            "_model_name": "LayoutModel",
            "_view_count": null,
            "_view_module": "@jupyter-widgets/base",
            "_view_module_version": "1.2.0",
            "_view_name": "LayoutView",
            "align_content": null,
            "align_items": null,
            "align_self": null,
            "border": null,
            "bottom": null,
            "display": null,
            "flex": null,
            "flex_flow": null,
            "grid_area": null,
            "grid_auto_columns": null,
            "grid_auto_flow": null,
            "grid_auto_rows": null,
            "grid_column": null,
            "grid_gap": null,
            "grid_row": null,
            "grid_template_areas": null,
            "grid_template_columns": null,
            "grid_template_rows": null,
            "height": null,
            "justify_content": null,
            "justify_items": null,
            "left": null,
            "margin": null,
            "max_height": null,
            "max_width": null,
            "min_height": null,
            "min_width": null,
            "object_fit": null,
            "object_position": null,
            "order": null,
            "overflow": null,
            "overflow_x": null,
            "overflow_y": null,
            "padding": null,
            "right": null,
            "top": null,
            "visibility": null,
            "width": null
          }
        },
        "9662aaa1afdf4c0ab358b577d32ba0e3": {
          "model_module": "@jupyter-widgets/controls",
          "model_name": "ProgressStyleModel",
          "model_module_version": "1.5.0",
          "state": {
            "_model_module": "@jupyter-widgets/controls",
            "_model_module_version": "1.5.0",
            "_model_name": "ProgressStyleModel",
            "_view_count": null,
            "_view_module": "@jupyter-widgets/base",
            "_view_module_version": "1.2.0",
            "_view_name": "StyleView",
            "bar_color": null,
            "description_width": ""
          }
        },
        "dfe673000e5b4792910586d82f023fa0": {
          "model_module": "@jupyter-widgets/base",
          "model_name": "LayoutModel",
          "model_module_version": "1.2.0",
          "state": {
            "_model_module": "@jupyter-widgets/base",
            "_model_module_version": "1.2.0",
            "_model_name": "LayoutModel",
            "_view_count": null,
            "_view_module": "@jupyter-widgets/base",
            "_view_module_version": "1.2.0",
            "_view_name": "LayoutView",
            "align_content": null,
            "align_items": null,
            "align_self": null,
            "border": null,
            "bottom": null,
            "display": null,
            "flex": null,
            "flex_flow": null,
            "grid_area": null,
            "grid_auto_columns": null,
            "grid_auto_flow": null,
            "grid_auto_rows": null,
            "grid_column": null,
            "grid_gap": null,
            "grid_row": null,
            "grid_template_areas": null,
            "grid_template_columns": null,
            "grid_template_rows": null,
            "height": null,
            "justify_content": null,
            "justify_items": null,
            "left": null,
            "margin": null,
            "max_height": null,
            "max_width": null,
            "min_height": null,
            "min_width": null,
            "object_fit": null,
            "object_position": null,
            "order": null,
            "overflow": null,
            "overflow_x": null,
            "overflow_y": null,
            "padding": null,
            "right": null,
            "top": null,
            "visibility": null,
            "width": null
          }
        },
        "d59c89060e1c4371b20829b645f66915": {
          "model_module": "@jupyter-widgets/controls",
          "model_name": "DescriptionStyleModel",
          "model_module_version": "1.5.0",
          "state": {
            "_model_module": "@jupyter-widgets/controls",
            "_model_module_version": "1.5.0",
            "_model_name": "DescriptionStyleModel",
            "_view_count": null,
            "_view_module": "@jupyter-widgets/base",
            "_view_module_version": "1.2.0",
            "_view_name": "StyleView",
            "description_width": ""
          }
        },
        "7923bc53d12043c99f918eb1a56a4279": {
          "model_module": "@jupyter-widgets/controls",
          "model_name": "HBoxModel",
          "model_module_version": "1.5.0",
          "state": {
            "_dom_classes": [],
            "_model_module": "@jupyter-widgets/controls",
            "_model_module_version": "1.5.0",
            "_model_name": "HBoxModel",
            "_view_count": null,
            "_view_module": "@jupyter-widgets/controls",
            "_view_module_version": "1.5.0",
            "_view_name": "HBoxView",
            "box_style": "",
            "children": [
              "IPY_MODEL_085b20edb4bc4910a12e0aec08283d11",
              "IPY_MODEL_7dd87684c8ee4e5198857de1e18ea031",
              "IPY_MODEL_f7495096201540368c8e65176ffa5aca"
            ],
            "layout": "IPY_MODEL_4d82c2ff37da474fb2b4d1fe80d38498"
          }
        },
        "085b20edb4bc4910a12e0aec08283d11": {
          "model_module": "@jupyter-widgets/controls",
          "model_name": "HTMLModel",
          "model_module_version": "1.5.0",
          "state": {
            "_dom_classes": [],
            "_model_module": "@jupyter-widgets/controls",
            "_model_module_version": "1.5.0",
            "_model_name": "HTMLModel",
            "_view_count": null,
            "_view_module": "@jupyter-widgets/controls",
            "_view_module_version": "1.5.0",
            "_view_name": "HTMLView",
            "description": "",
            "description_tooltip": null,
            "layout": "IPY_MODEL_51dad48e552945e1a1bd572a78c3bd89",
            "placeholder": "​",
            "style": "IPY_MODEL_4d2b61c37f2a4f9da478b4187d074331",
            "value": "pytorch_model.bin: 100%"
          }
        },
        "7dd87684c8ee4e5198857de1e18ea031": {
          "model_module": "@jupyter-widgets/controls",
          "model_name": "FloatProgressModel",
          "model_module_version": "1.5.0",
          "state": {
            "_dom_classes": [],
            "_model_module": "@jupyter-widgets/controls",
            "_model_module_version": "1.5.0",
            "_model_name": "FloatProgressModel",
            "_view_count": null,
            "_view_module": "@jupyter-widgets/controls",
            "_view_module_version": "1.5.0",
            "_view_name": "ProgressView",
            "bar_style": "success",
            "description": "",
            "description_tooltip": null,
            "layout": "IPY_MODEL_3884c9a2bb1948bbb68a15ed14ae7689",
            "max": 3636612894,
            "min": 0,
            "orientation": "horizontal",
            "style": "IPY_MODEL_01928a42f6bc45289cd1ebf7106c7e7f",
            "value": 3636612894
          }
        },
        "f7495096201540368c8e65176ffa5aca": {
          "model_module": "@jupyter-widgets/controls",
          "model_name": "HTMLModel",
          "model_module_version": "1.5.0",
          "state": {
            "_dom_classes": [],
            "_model_module": "@jupyter-widgets/controls",
            "_model_module_version": "1.5.0",
            "_model_name": "HTMLModel",
            "_view_count": null,
            "_view_module": "@jupyter-widgets/controls",
            "_view_module_version": "1.5.0",
            "_view_name": "HTMLView",
            "description": "",
            "description_tooltip": null,
            "layout": "IPY_MODEL_627866633fa24a6fb8e9619819d4bd56",
            "placeholder": "​",
            "style": "IPY_MODEL_432a14ad82974c3c8e21d589e54d608d",
            "value": " 3.64G/3.64G [02:22&lt;00:00, 24.2MB/s]"
          }
        },
        "4d82c2ff37da474fb2b4d1fe80d38498": {
          "model_module": "@jupyter-widgets/base",
          "model_name": "LayoutModel",
          "model_module_version": "1.2.0",
          "state": {
            "_model_module": "@jupyter-widgets/base",
            "_model_module_version": "1.2.0",
            "_model_name": "LayoutModel",
            "_view_count": null,
            "_view_module": "@jupyter-widgets/base",
            "_view_module_version": "1.2.0",
            "_view_name": "LayoutView",
            "align_content": null,
            "align_items": null,
            "align_self": null,
            "border": null,
            "bottom": null,
            "display": null,
            "flex": null,
            "flex_flow": null,
            "grid_area": null,
            "grid_auto_columns": null,
            "grid_auto_flow": null,
            "grid_auto_rows": null,
            "grid_column": null,
            "grid_gap": null,
            "grid_row": null,
            "grid_template_areas": null,
            "grid_template_columns": null,
            "grid_template_rows": null,
            "height": null,
            "justify_content": null,
            "justify_items": null,
            "left": null,
            "margin": null,
            "max_height": null,
            "max_width": null,
            "min_height": null,
            "min_width": null,
            "object_fit": null,
            "object_position": null,
            "order": null,
            "overflow": null,
            "overflow_x": null,
            "overflow_y": null,
            "padding": null,
            "right": null,
            "top": null,
            "visibility": null,
            "width": null
          }
        },
        "51dad48e552945e1a1bd572a78c3bd89": {
          "model_module": "@jupyter-widgets/base",
          "model_name": "LayoutModel",
          "model_module_version": "1.2.0",
          "state": {
            "_model_module": "@jupyter-widgets/base",
            "_model_module_version": "1.2.0",
            "_model_name": "LayoutModel",
            "_view_count": null,
            "_view_module": "@jupyter-widgets/base",
            "_view_module_version": "1.2.0",
            "_view_name": "LayoutView",
            "align_content": null,
            "align_items": null,
            "align_self": null,
            "border": null,
            "bottom": null,
            "display": null,
            "flex": null,
            "flex_flow": null,
            "grid_area": null,
            "grid_auto_columns": null,
            "grid_auto_flow": null,
            "grid_auto_rows": null,
            "grid_column": null,
            "grid_gap": null,
            "grid_row": null,
            "grid_template_areas": null,
            "grid_template_columns": null,
            "grid_template_rows": null,
            "height": null,
            "justify_content": null,
            "justify_items": null,
            "left": null,
            "margin": null,
            "max_height": null,
            "max_width": null,
            "min_height": null,
            "min_width": null,
            "object_fit": null,
            "object_position": null,
            "order": null,
            "overflow": null,
            "overflow_x": null,
            "overflow_y": null,
            "padding": null,
            "right": null,
            "top": null,
            "visibility": null,
            "width": null
          }
        },
        "4d2b61c37f2a4f9da478b4187d074331": {
          "model_module": "@jupyter-widgets/controls",
          "model_name": "DescriptionStyleModel",
          "model_module_version": "1.5.0",
          "state": {
            "_model_module": "@jupyter-widgets/controls",
            "_model_module_version": "1.5.0",
            "_model_name": "DescriptionStyleModel",
            "_view_count": null,
            "_view_module": "@jupyter-widgets/base",
            "_view_module_version": "1.2.0",
            "_view_name": "StyleView",
            "description_width": ""
          }
        },
        "3884c9a2bb1948bbb68a15ed14ae7689": {
          "model_module": "@jupyter-widgets/base",
          "model_name": "LayoutModel",
          "model_module_version": "1.2.0",
          "state": {
            "_model_module": "@jupyter-widgets/base",
            "_model_module_version": "1.2.0",
            "_model_name": "LayoutModel",
            "_view_count": null,
            "_view_module": "@jupyter-widgets/base",
            "_view_module_version": "1.2.0",
            "_view_name": "LayoutView",
            "align_content": null,
            "align_items": null,
            "align_self": null,
            "border": null,
            "bottom": null,
            "display": null,
            "flex": null,
            "flex_flow": null,
            "grid_area": null,
            "grid_auto_columns": null,
            "grid_auto_flow": null,
            "grid_auto_rows": null,
            "grid_column": null,
            "grid_gap": null,
            "grid_row": null,
            "grid_template_areas": null,
            "grid_template_columns": null,
            "grid_template_rows": null,
            "height": null,
            "justify_content": null,
            "justify_items": null,
            "left": null,
            "margin": null,
            "max_height": null,
            "max_width": null,
            "min_height": null,
            "min_width": null,
            "object_fit": null,
            "object_position": null,
            "order": null,
            "overflow": null,
            "overflow_x": null,
            "overflow_y": null,
            "padding": null,
            "right": null,
            "top": null,
            "visibility": null,
            "width": null
          }
        },
        "01928a42f6bc45289cd1ebf7106c7e7f": {
          "model_module": "@jupyter-widgets/controls",
          "model_name": "ProgressStyleModel",
          "model_module_version": "1.5.0",
          "state": {
            "_model_module": "@jupyter-widgets/controls",
            "_model_module_version": "1.5.0",
            "_model_name": "ProgressStyleModel",
            "_view_count": null,
            "_view_module": "@jupyter-widgets/base",
            "_view_module_version": "1.2.0",
            "_view_name": "StyleView",
            "bar_color": null,
            "description_width": ""
          }
        },
        "627866633fa24a6fb8e9619819d4bd56": {
          "model_module": "@jupyter-widgets/base",
          "model_name": "LayoutModel",
          "model_module_version": "1.2.0",
          "state": {
            "_model_module": "@jupyter-widgets/base",
            "_model_module_version": "1.2.0",
            "_model_name": "LayoutModel",
            "_view_count": null,
            "_view_module": "@jupyter-widgets/base",
            "_view_module_version": "1.2.0",
            "_view_name": "LayoutView",
            "align_content": null,
            "align_items": null,
            "align_self": null,
            "border": null,
            "bottom": null,
            "display": null,
            "flex": null,
            "flex_flow": null,
            "grid_area": null,
            "grid_auto_columns": null,
            "grid_auto_flow": null,
            "grid_auto_rows": null,
            "grid_column": null,
            "grid_gap": null,
            "grid_row": null,
            "grid_template_areas": null,
            "grid_template_columns": null,
            "grid_template_rows": null,
            "height": null,
            "justify_content": null,
            "justify_items": null,
            "left": null,
            "margin": null,
            "max_height": null,
            "max_width": null,
            "min_height": null,
            "min_width": null,
            "object_fit": null,
            "object_position": null,
            "order": null,
            "overflow": null,
            "overflow_x": null,
            "overflow_y": null,
            "padding": null,
            "right": null,
            "top": null,
            "visibility": null,
            "width": null
          }
        },
        "432a14ad82974c3c8e21d589e54d608d": {
          "model_module": "@jupyter-widgets/controls",
          "model_name": "DescriptionStyleModel",
          "model_module_version": "1.5.0",
          "state": {
            "_model_module": "@jupyter-widgets/controls",
            "_model_module_version": "1.5.0",
            "_model_name": "DescriptionStyleModel",
            "_view_count": null,
            "_view_module": "@jupyter-widgets/base",
            "_view_module_version": "1.2.0",
            "_view_name": "StyleView",
            "description_width": ""
          }
        },
        "465f646d27df453db535684969b45e8f": {
          "model_module": "@jupyter-widgets/controls",
          "model_name": "HBoxModel",
          "model_module_version": "1.5.0",
          "state": {
            "_dom_classes": [],
            "_model_module": "@jupyter-widgets/controls",
            "_model_module_version": "1.5.0",
            "_model_name": "HBoxModel",
            "_view_count": null,
            "_view_module": "@jupyter-widgets/controls",
            "_view_module_version": "1.5.0",
            "_view_name": "HBoxView",
            "box_style": "",
            "children": [
              "IPY_MODEL_6a22db97067f4c09a3e263ea5194741a",
              "IPY_MODEL_f794dfde46964d1d97f4cbba8a9f8f4d",
              "IPY_MODEL_77deaaa3c5114c20ae1e614fe48b3f31"
            ],
            "layout": "IPY_MODEL_353ec813dcf0446fbf71983a7e4c9323"
          }
        },
        "6a22db97067f4c09a3e263ea5194741a": {
          "model_module": "@jupyter-widgets/controls",
          "model_name": "HTMLModel",
          "model_module_version": "1.5.0",
          "state": {
            "_dom_classes": [],
            "_model_module": "@jupyter-widgets/controls",
            "_model_module_version": "1.5.0",
            "_model_name": "HTMLModel",
            "_view_count": null,
            "_view_module": "@jupyter-widgets/controls",
            "_view_module_version": "1.5.0",
            "_view_name": "HTMLView",
            "description": "",
            "description_tooltip": null,
            "layout": "IPY_MODEL_b45fb6ffe59b4784905f6cb96bf53e34",
            "placeholder": "​",
            "style": "IPY_MODEL_33389fd2098148d8acf61150321a50fb",
            "value": "Upload 2 LFS files: 100%"
          }
        },
        "f794dfde46964d1d97f4cbba8a9f8f4d": {
          "model_module": "@jupyter-widgets/controls",
          "model_name": "FloatProgressModel",
          "model_module_version": "1.5.0",
          "state": {
            "_dom_classes": [],
            "_model_module": "@jupyter-widgets/controls",
            "_model_module_version": "1.5.0",
            "_model_name": "FloatProgressModel",
            "_view_count": null,
            "_view_module": "@jupyter-widgets/controls",
            "_view_module_version": "1.5.0",
            "_view_name": "ProgressView",
            "bar_style": "success",
            "description": "",
            "description_tooltip": null,
            "layout": "IPY_MODEL_69de2dd94bca42fda39a56216a8524d6",
            "max": 2,
            "min": 0,
            "orientation": "horizontal",
            "style": "IPY_MODEL_b7195f74686f4d2d94363ca20110ef81",
            "value": 2
          }
        },
        "77deaaa3c5114c20ae1e614fe48b3f31": {
          "model_module": "@jupyter-widgets/controls",
          "model_name": "HTMLModel",
          "model_module_version": "1.5.0",
          "state": {
            "_dom_classes": [],
            "_model_module": "@jupyter-widgets/controls",
            "_model_module_version": "1.5.0",
            "_model_name": "HTMLModel",
            "_view_count": null,
            "_view_module": "@jupyter-widgets/controls",
            "_view_module_version": "1.5.0",
            "_view_name": "HTMLView",
            "description": "",
            "description_tooltip": null,
            "layout": "IPY_MODEL_6c2e17414e424e939c64d6e414393ecc",
            "placeholder": "​",
            "style": "IPY_MODEL_50457ec5897245f58df41fe4dde7ff28",
            "value": " 2/2 [02:22&lt;00:00, 142.89s/it]"
          }
        },
        "353ec813dcf0446fbf71983a7e4c9323": {
          "model_module": "@jupyter-widgets/base",
          "model_name": "LayoutModel",
          "model_module_version": "1.2.0",
          "state": {
            "_model_module": "@jupyter-widgets/base",
            "_model_module_version": "1.2.0",
            "_model_name": "LayoutModel",
            "_view_count": null,
            "_view_module": "@jupyter-widgets/base",
            "_view_module_version": "1.2.0",
            "_view_name": "LayoutView",
            "align_content": null,
            "align_items": null,
            "align_self": null,
            "border": null,
            "bottom": null,
            "display": null,
            "flex": null,
            "flex_flow": null,
            "grid_area": null,
            "grid_auto_columns": null,
            "grid_auto_flow": null,
            "grid_auto_rows": null,
            "grid_column": null,
            "grid_gap": null,
            "grid_row": null,
            "grid_template_areas": null,
            "grid_template_columns": null,
            "grid_template_rows": null,
            "height": null,
            "justify_content": null,
            "justify_items": null,
            "left": null,
            "margin": null,
            "max_height": null,
            "max_width": null,
            "min_height": null,
            "min_width": null,
            "object_fit": null,
            "object_position": null,
            "order": null,
            "overflow": null,
            "overflow_x": null,
            "overflow_y": null,
            "padding": null,
            "right": null,
            "top": null,
            "visibility": null,
            "width": null
          }
        },
        "b45fb6ffe59b4784905f6cb96bf53e34": {
          "model_module": "@jupyter-widgets/base",
          "model_name": "LayoutModel",
          "model_module_version": "1.2.0",
          "state": {
            "_model_module": "@jupyter-widgets/base",
            "_model_module_version": "1.2.0",
            "_model_name": "LayoutModel",
            "_view_count": null,
            "_view_module": "@jupyter-widgets/base",
            "_view_module_version": "1.2.0",
            "_view_name": "LayoutView",
            "align_content": null,
            "align_items": null,
            "align_self": null,
            "border": null,
            "bottom": null,
            "display": null,
            "flex": null,
            "flex_flow": null,
            "grid_area": null,
            "grid_auto_columns": null,
            "grid_auto_flow": null,
            "grid_auto_rows": null,
            "grid_column": null,
            "grid_gap": null,
            "grid_row": null,
            "grid_template_areas": null,
            "grid_template_columns": null,
            "grid_template_rows": null,
            "height": null,
            "justify_content": null,
            "justify_items": null,
            "left": null,
            "margin": null,
            "max_height": null,
            "max_width": null,
            "min_height": null,
            "min_width": null,
            "object_fit": null,
            "object_position": null,
            "order": null,
            "overflow": null,
            "overflow_x": null,
            "overflow_y": null,
            "padding": null,
            "right": null,
            "top": null,
            "visibility": null,
            "width": null
          }
        },
        "33389fd2098148d8acf61150321a50fb": {
          "model_module": "@jupyter-widgets/controls",
          "model_name": "DescriptionStyleModel",
          "model_module_version": "1.5.0",
          "state": {
            "_model_module": "@jupyter-widgets/controls",
            "_model_module_version": "1.5.0",
            "_model_name": "DescriptionStyleModel",
            "_view_count": null,
            "_view_module": "@jupyter-widgets/base",
            "_view_module_version": "1.2.0",
            "_view_name": "StyleView",
            "description_width": ""
          }
        },
        "69de2dd94bca42fda39a56216a8524d6": {
          "model_module": "@jupyter-widgets/base",
          "model_name": "LayoutModel",
          "model_module_version": "1.2.0",
          "state": {
            "_model_module": "@jupyter-widgets/base",
            "_model_module_version": "1.2.0",
            "_model_name": "LayoutModel",
            "_view_count": null,
            "_view_module": "@jupyter-widgets/base",
            "_view_module_version": "1.2.0",
            "_view_name": "LayoutView",
            "align_content": null,
            "align_items": null,
            "align_self": null,
            "border": null,
            "bottom": null,
            "display": null,
            "flex": null,
            "flex_flow": null,
            "grid_area": null,
            "grid_auto_columns": null,
            "grid_auto_flow": null,
            "grid_auto_rows": null,
            "grid_column": null,
            "grid_gap": null,
            "grid_row": null,
            "grid_template_areas": null,
            "grid_template_columns": null,
            "grid_template_rows": null,
            "height": null,
            "justify_content": null,
            "justify_items": null,
            "left": null,
            "margin": null,
            "max_height": null,
            "max_width": null,
            "min_height": null,
            "min_width": null,
            "object_fit": null,
            "object_position": null,
            "order": null,
            "overflow": null,
            "overflow_x": null,
            "overflow_y": null,
            "padding": null,
            "right": null,
            "top": null,
            "visibility": null,
            "width": null
          }
        },
        "b7195f74686f4d2d94363ca20110ef81": {
          "model_module": "@jupyter-widgets/controls",
          "model_name": "ProgressStyleModel",
          "model_module_version": "1.5.0",
          "state": {
            "_model_module": "@jupyter-widgets/controls",
            "_model_module_version": "1.5.0",
            "_model_name": "ProgressStyleModel",
            "_view_count": null,
            "_view_module": "@jupyter-widgets/base",
            "_view_module_version": "1.2.0",
            "_view_name": "StyleView",
            "bar_color": null,
            "description_width": ""
          }
        },
        "6c2e17414e424e939c64d6e414393ecc": {
          "model_module": "@jupyter-widgets/base",
          "model_name": "LayoutModel",
          "model_module_version": "1.2.0",
          "state": {
            "_model_module": "@jupyter-widgets/base",
            "_model_module_version": "1.2.0",
            "_model_name": "LayoutModel",
            "_view_count": null,
            "_view_module": "@jupyter-widgets/base",
            "_view_module_version": "1.2.0",
            "_view_name": "LayoutView",
            "align_content": null,
            "align_items": null,
            "align_self": null,
            "border": null,
            "bottom": null,
            "display": null,
            "flex": null,
            "flex_flow": null,
            "grid_area": null,
            "grid_auto_columns": null,
            "grid_auto_flow": null,
            "grid_auto_rows": null,
            "grid_column": null,
            "grid_gap": null,
            "grid_row": null,
            "grid_template_areas": null,
            "grid_template_columns": null,
            "grid_template_rows": null,
            "height": null,
            "justify_content": null,
            "justify_items": null,
            "left": null,
            "margin": null,
            "max_height": null,
            "max_width": null,
            "min_height": null,
            "min_width": null,
            "object_fit": null,
            "object_position": null,
            "order": null,
            "overflow": null,
            "overflow_x": null,
            "overflow_y": null,
            "padding": null,
            "right": null,
            "top": null,
            "visibility": null,
            "width": null
          }
        },
        "50457ec5897245f58df41fe4dde7ff28": {
          "model_module": "@jupyter-widgets/controls",
          "model_name": "DescriptionStyleModel",
          "model_module_version": "1.5.0",
          "state": {
            "_model_module": "@jupyter-widgets/controls",
            "_model_module_version": "1.5.0",
            "_model_name": "DescriptionStyleModel",
            "_view_count": null,
            "_view_module": "@jupyter-widgets/base",
            "_view_module_version": "1.2.0",
            "_view_name": "StyleView",
            "description_width": ""
          }
        }
      }
    }
  },
  "nbformat_minor": 0,
  "nbformat": 4,
  "cells": [
    {
      "cell_type": "code",
      "source": [
        "from google.colab import drive\n",
        "\n",
        "drive.mount('/content/drive')"
      ],
      "metadata": {
        "colab": {
          "base_uri": "https://localhost:8080/"
        },
        "id": "jtxgO7HPtyw9",
        "outputId": "68e567ad-4a60-49a1-b44c-72ad28a95ffc"
      },
      "execution_count": null,
      "outputs": [
        {
          "output_type": "stream",
          "name": "stdout",
          "text": [
            "Drive already mounted at /content/drive; to attempt to forcibly remount, call drive.mount(\"/content/drive\", force_remount=True).\n"
          ]
        }
      ]
    },
    {
      "cell_type": "code",
      "source": [
        "import random\n",
        "import numpy as np\n",
        "import torch\n",
        "\n",
        "def set_seed(seed=42):\n",
        "    random.seed(seed)\n",
        "    np.random.seed(seed)\n",
        "    torch.manual_seed(seed)\n",
        "    torch.cuda.manual_seed_all(seed)  # if using CUDA\n",
        "    torch.backends.cudnn.deterministic = True\n",
        "    torch.backends.cudnn.benchmark = False  # makes performance deterministic\n",
        "\n",
        "\n",
        "set_seed()"
      ],
      "metadata": {
        "id": "kc6gi1gQx00F"
      },
      "execution_count": null,
      "outputs": []
    },
    {
      "cell_type": "code",
      "source": [
        "%%capture\n",
        "!pip install gliner"
      ],
      "metadata": {
        "trusted": true,
        "execution": {
          "iopub.status.busy": "2025-05-02T11:11:40.744783Z",
          "iopub.execute_input": "2025-05-02T11:11:40.745307Z",
          "iopub.status.idle": "2025-05-02T11:12:50.267643Z",
          "shell.execute_reply.started": "2025-05-02T11:11:40.745271Z",
          "shell.execute_reply": "2025-05-02T11:12:50.266306Z"
        },
        "id": "caaDlESitoRC"
      },
      "outputs": [],
      "execution_count": null
    },
    {
      "cell_type": "code",
      "source": [
        "IS_KAGGLE = False\n",
        "if IS_KAGGLE:\n",
        "  base_fpath = \"/kaggle/input/refugee-prwp/\"\n",
        "else:\n",
        "  base_fpath = \"/content/drive/MyDrive/colab-artifacts/refugee_data/INPUT_FIN/\""
      ],
      "metadata": {
        "id": "FQDM5KHsujOf"
      },
      "execution_count": null,
      "outputs": []
    },
    {
      "cell_type": "code",
      "source": [
        "import json\n",
        "refugee_synthetic_fpath = f\"{base_fpath}/REFUGEE_DATA_SYNTHETIC_MERGED.json\"\n",
        "\n",
        "with open(refugee_synthetic_fpath, \"r\") as f:\n",
        "    rf_data = json.load(f)"
      ],
      "metadata": {
        "trusted": true,
        "execution": {
          "iopub.status.busy": "2025-05-02T11:12:50.269605Z",
          "iopub.execute_input": "2025-05-02T11:12:50.269962Z",
          "iopub.status.idle": "2025-05-02T11:12:50.324486Z",
          "shell.execute_reply.started": "2025-05-02T11:12:50.269929Z",
          "shell.execute_reply": "2025-05-02T11:12:50.323611Z"
        },
        "id": "h_Y66-B9toRD"
      },
      "outputs": [],
      "execution_count": null
    },
    {
      "cell_type": "code",
      "source": [
        "len(rf_data)"
      ],
      "metadata": {
        "trusted": true,
        "execution": {
          "iopub.status.busy": "2025-05-02T11:12:50.325531Z",
          "iopub.execute_input": "2025-05-02T11:12:50.325823Z",
          "iopub.status.idle": "2025-05-02T11:12:53.252323Z",
          "shell.execute_reply.started": "2025-05-02T11:12:50.325798Z",
          "shell.execute_reply": "2025-05-02T11:12:53.251731Z"
        },
        "colab": {
          "base_uri": "https://localhost:8080/"
        },
        "id": "U4T8IpxWtoRD",
        "outputId": "18880e37-e734-484e-ffb8-2f8ee1c0e0f2"
      },
      "outputs": [
        {
          "output_type": "execute_result",
          "data": {
            "text/plain": [
              "2217"
            ]
          },
          "metadata": {},
          "execution_count": 6
        }
      ],
      "execution_count": null
    },
    {
      "cell_type": "code",
      "source": [
        "rf_data[0]"
      ],
      "metadata": {
        "trusted": true,
        "execution": {
          "iopub.status.busy": "2025-05-02T11:12:53.253792Z",
          "iopub.execute_input": "2025-05-02T11:12:53.253977Z",
          "iopub.status.idle": "2025-05-02T11:12:53.264948Z",
          "shell.execute_reply.started": "2025-05-02T11:12:53.253962Z",
          "shell.execute_reply": "2025-05-02T11:12:53.264344Z"
        },
        "colab": {
          "base_uri": "https://localhost:8080/"
        },
        "id": "kM_mSR-wtoRE",
        "outputId": "63c4c0e0-1889-4646-a0cc-9922923b33fb"
      },
      "outputs": [
        {
          "output_type": "execute_result",
          "data": {
            "text/plain": [
              "{'text': 'The analysis focuses on the impact of logging activities on forest cover loss. To assess this, I utilize satellite imagery and ground truth data from the Global Forest Watch dataset, which provides comprehensive insights into deforestation rates over the last decade. Additionally, I incorporate a binary variable indicating whether a region has implemented conservation policies, which significantly influences forest preservation efforts. The findings suggest that areas with active conservation measures show a marked reduction in deforestation rates compared to those without such policies.',\n",
              " 'entities': [{'text': 'Global Forest Watch', 'label': 'named dataset'}]}"
            ]
          },
          "metadata": {},
          "execution_count": 7
        }
      ],
      "execution_count": null
    },
    {
      "cell_type": "code",
      "source": [
        "import re\n",
        "import spacy\n",
        "def tokenize_text(text):\n",
        "    \"\"\"Tokenize the input text into a list of tokens.\"\"\"\n",
        "    return re.findall(r'\\w+(?:[-_]\\w+)*|\\S', text)\n",
        "\n",
        "def create_patterns(example):\n",
        "    patterns = []\n",
        "    for entity in example[\"entities\"]:\n",
        "        patterns.append({\n",
        "            \"label\": entity[\"label\"],\n",
        "            \"pattern\": entity[\"text\"]\n",
        "        })\n",
        "    return patterns\n",
        "\n",
        "def adjust_entity_positions(text, tokens, entities):\n",
        "    \"\"\"Adjust entity positions based on tokenized text.\"\"\"\n",
        "    token_positions = []\n",
        "    current_pos = 0\n",
        "    for token in tokens:\n",
        "        start_pos = text.find(token, current_pos)\n",
        "        end_pos = start_pos + len(token) - 1\n",
        "        token_positions.append((start_pos, end_pos))\n",
        "        current_pos = end_pos + 1\n",
        "\n",
        "    adjusted_entities = []\n",
        "    for entity in entities:\n",
        "        entity_start = text.find(entity[\"text\"])\n",
        "        entity_end = entity_start + len(entity[\"text\"]) - 1\n",
        "        start_token = next(i for i, (start, end) in enumerate(token_positions) if start <= entity_start <= end)\n",
        "        end_token = next(i for i, (start, end) in enumerate(token_positions) if start <= entity_end <= end)\n",
        "        adjusted_entities.append([start_token, end_token, entity[\"label\"]])\n",
        "\n",
        "    return adjusted_entities\n",
        "\n",
        "def process_synthetic_data(example, use_spacy=True, debug=False):\n",
        "    if use_spacy:\n",
        "        nlp = spacy.blank(\"en\")\n",
        "        patterns = create_patterns(example)\n",
        "        ruler = nlp.add_pipe(\"entity_ruler\")\n",
        "        ruler.add_patterns(patterns)\n",
        "\n",
        "        # Process the text\n",
        "        doc = nlp(example[\"text\"])\n",
        "\n",
        "        # Preparing the output format\n",
        "        if debug:\n",
        "            tokenized_text = [f\"{i}: {token.text}\" for i, token in enumerate(doc)]\n",
        "        else:\n",
        "            tokenized_text = [token.text for token in doc]\n",
        "\n",
        "        ner = []\n",
        "        for ent in doc.ents:\n",
        "            start = ent.start\n",
        "            end = ent.end - 1  # Adjusting end index to be inclusive, not +1\n",
        "            ner.append([start, end, ent.label_])\n",
        "    else:\n",
        "        tokens = tokenize_text(example[\"text\"])\n",
        "\n",
        "        # Preparing the output format\n",
        "        if debug:\n",
        "            tokenized_text = [f\"{i}: {token}\" for i, token in enumerate(tokens)]\n",
        "        else:\n",
        "            tokenized_text = tokens\n",
        "\n",
        "        # Adjust entity positions based on tokenized text\n",
        "        ner = adjust_entity_positions(example[\"text\"], tokens, example[\"entities\"])\n",
        "\n",
        "    return {\"tokenized_text\": tokenized_text, \"ner\": ner}"
      ],
      "metadata": {
        "trusted": true,
        "execution": {
          "iopub.status.busy": "2025-05-02T11:12:56.161440Z",
          "iopub.execute_input": "2025-05-02T11:12:56.161813Z",
          "iopub.status.idle": "2025-05-02T11:13:02.241535Z",
          "shell.execute_reply.started": "2025-05-02T11:12:56.161791Z",
          "shell.execute_reply": "2025-05-02T11:13:02.240974Z"
        },
        "id": "RyYKVe-btoRE"
      },
      "outputs": [],
      "execution_count": null
    },
    {
      "cell_type": "code",
      "source": [
        "output = process_synthetic_data(rf_data[0], debug=True, use_spacy=False)\n",
        "print(output)"
      ],
      "metadata": {
        "trusted": true,
        "execution": {
          "iopub.status.busy": "2025-05-02T11:13:02.243032Z",
          "iopub.execute_input": "2025-05-02T11:13:02.243482Z",
          "iopub.status.idle": "2025-05-02T11:13:02.247691Z",
          "shell.execute_reply.started": "2025-05-02T11:13:02.243460Z",
          "shell.execute_reply": "2025-05-02T11:13:02.246968Z"
        },
        "colab": {
          "base_uri": "https://localhost:8080/"
        },
        "id": "ya7Zivq7toRE",
        "outputId": "af26063c-d224-4482-a150-fc6a270f2988"
      },
      "outputs": [
        {
          "output_type": "stream",
          "name": "stdout",
          "text": [
            "{'tokenized_text': ['0: The', '1: analysis', '2: focuses', '3: on', '4: the', '5: impact', '6: of', '7: logging', '8: activities', '9: on', '10: forest', '11: cover', '12: loss', '13: .', '14: To', '15: assess', '16: this', '17: ,', '18: I', '19: utilize', '20: satellite', '21: imagery', '22: and', '23: ground', '24: truth', '25: data', '26: from', '27: the', '28: Global', '29: Forest', '30: Watch', '31: dataset', '32: ,', '33: which', '34: provides', '35: comprehensive', '36: insights', '37: into', '38: deforestation', '39: rates', '40: over', '41: the', '42: last', '43: decade', '44: .', '45: Additionally', '46: ,', '47: I', '48: incorporate', '49: a', '50: binary', '51: variable', '52: indicating', '53: whether', '54: a', '55: region', '56: has', '57: implemented', '58: conservation', '59: policies', '60: ,', '61: which', '62: significantly', '63: influences', '64: forest', '65: preservation', '66: efforts', '67: .', '68: The', '69: findings', '70: suggest', '71: that', '72: areas', '73: with', '74: active', '75: conservation', '76: measures', '77: show', '78: a', '79: marked', '80: reduction', '81: in', '82: deforestation', '83: rates', '84: compared', '85: to', '86: those', '87: without', '88: such', '89: policies', '90: .'], 'ner': [[28, 30, 'named dataset']]}\n"
          ]
        }
      ],
      "execution_count": null
    },
    {
      "cell_type": "code",
      "source": [
        "execute_pool = False"
      ],
      "metadata": {
        "trusted": true,
        "execution": {
          "iopub.status.busy": "2025-05-02T11:13:02.248528Z",
          "iopub.execute_input": "2025-05-02T11:13:02.248788Z",
          "iopub.status.idle": "2025-05-02T11:13:02.260468Z",
          "shell.execute_reply.started": "2025-05-02T11:13:02.248771Z",
          "shell.execute_reply": "2025-05-02T11:13:02.259858Z"
        },
        "id": "JV75buNatoRE"
      },
      "outputs": [],
      "execution_count": null
    },
    {
      "cell_type": "code",
      "source": [
        "from warnings import filterwarnings\n",
        "filterwarnings('ignore')"
      ],
      "metadata": {
        "trusted": true,
        "execution": {
          "iopub.status.busy": "2025-05-02T11:13:02.261647Z",
          "iopub.execute_input": "2025-05-02T11:13:02.261983Z",
          "iopub.status.idle": "2025-05-02T11:13:02.271570Z",
          "shell.execute_reply.started": "2025-05-02T11:13:02.261963Z",
          "shell.execute_reply": "2025-05-02T11:13:02.270881Z"
        },
        "id": "2DMD-WQntoRF"
      },
      "outputs": [],
      "execution_count": null
    },
    {
      "cell_type": "code",
      "source": [
        "import concurrent.futures\n",
        "from tqdm.auto import tqdm\n",
        "import json\n",
        "def process_synthetic_data_parallel(dt):\n",
        "    return process_synthetic_data(dt, debug=False, use_spacy=True)\n",
        "if execute_pool:\n",
        "    with concurrent.futures.ThreadPoolExecutor() as executor:\n",
        "        outputs_parallel = list(tqdm(executor.map(process_synthetic_data_parallel, rf_data), total=len(rf_data), desc=\"Processing data in parallel\"))\n",
        "    print(\"\\nUsing parallel processing with tqdm:\")\n",
        "    # Save the output to a JSON file\n",
        "    with open(f'REFUGEE_SYNTHETIC_PROCESSED.json', 'w') as f:\n",
        "        json.dump(outputs_parallel, f)\n",
        "else:\n",
        "\n",
        "    # Load the JSON file\n",
        "    fpath_training_data = f\"{base_fpath}/REFUGEE_SYNTHETIC_PROCESSED.json\"\n",
        "    with open(fpath_training_data, 'r') as f:\n",
        "        outputs_parallel = json.load(f)\n",
        "\n",
        "    # Print the loaded data\n",
        "    print(outputs_parallel[0])"
      ],
      "metadata": {
        "trusted": true,
        "execution": {
          "iopub.status.busy": "2025-05-02T11:13:15.036708Z",
          "iopub.execute_input": "2025-05-02T11:13:15.037420Z",
          "iopub.status.idle": "2025-05-02T11:13:15.104429Z",
          "shell.execute_reply.started": "2025-05-02T11:13:15.037397Z",
          "shell.execute_reply": "2025-05-02T11:13:15.103712Z"
        },
        "colab": {
          "base_uri": "https://localhost:8080/"
        },
        "id": "Dd1CK64StoRF",
        "outputId": "4c6be9a8-0d41-49fe-a26c-661f9ddb366d"
      },
      "outputs": [
        {
          "output_type": "stream",
          "name": "stdout",
          "text": [
            "{'tokenized_text': ['The', 'analysis', 'focuses', 'on', 'the', 'impact', 'of', 'logging', 'activities', 'on', 'forest', 'cover', 'loss', '.', 'To', 'assess', 'this', ',', 'I', 'utilize', 'satellite', 'imagery', 'and', 'ground', 'truth', 'data', 'from', 'the', 'Global', 'Forest', 'Watch', 'dataset', ',', 'which', 'provides', 'comprehensive', 'insights', 'into', 'deforestation', 'rates', 'over', 'the', 'last', 'decade', '.', 'Additionally', ',', 'I', 'incorporate', 'a', 'binary', 'variable', 'indicating', 'whether', 'a', 'region', 'has', 'implemented', 'conservation', 'policies', ',', 'which', 'significantly', 'influences', 'forest', 'preservation', 'efforts', '.', 'The', 'findings', 'suggest', 'that', 'areas', 'with', 'active', 'conservation', 'measures', 'show', 'a', 'marked', 'reduction', 'in', 'deforestation', 'rates', 'compared', 'to', 'those', 'without', 'such', 'policies', '.'], 'ner': [[28, 30, 'named dataset']]}\n"
          ]
        }
      ],
      "execution_count": null
    },
    {
      "cell_type": "code",
      "source": [
        "len(outputs_parallel)"
      ],
      "metadata": {
        "trusted": true,
        "execution": {
          "iopub.status.busy": "2025-05-02T11:13:17.061358Z",
          "iopub.execute_input": "2025-05-02T11:13:17.061623Z",
          "iopub.status.idle": "2025-05-02T11:13:17.066519Z",
          "shell.execute_reply.started": "2025-05-02T11:13:17.061604Z",
          "shell.execute_reply": "2025-05-02T11:13:17.065852Z"
        },
        "colab": {
          "base_uri": "https://localhost:8080/"
        },
        "id": "ML7AfbRhtoRF",
        "outputId": "f0d49c64-c729-40db-a555-37fe4515676c"
      },
      "outputs": [
        {
          "output_type": "execute_result",
          "data": {
            "text/plain": [
              "2217"
            ]
          },
          "metadata": {},
          "execution_count": 13
        }
      ],
      "execution_count": null
    },
    {
      "cell_type": "code",
      "source": [
        "from collections import Counter\n",
        "\n",
        "label_counter = Counter()\n",
        "\n",
        "for item in outputs_parallel:\n",
        "    for ner in item.get('ner', []):\n",
        "        label_counter[ner[2]] += 1\n",
        "\n",
        "# Print sorted by frequency\n",
        "for label, count in label_counter.most_common():\n",
        "    print(f\"{label}: {count}\")"
      ],
      "metadata": {
        "trusted": true,
        "execution": {
          "iopub.status.busy": "2025-05-02T11:13:18.348215Z",
          "iopub.execute_input": "2025-05-02T11:13:18.348486Z",
          "iopub.status.idle": "2025-05-02T11:13:18.355966Z",
          "shell.execute_reply.started": "2025-05-02T11:13:18.348467Z",
          "shell.execute_reply": "2025-05-02T11:13:18.355249Z"
        },
        "colab": {
          "base_uri": "https://localhost:8080/"
        },
        "id": "ZfsDxPsOtoRF",
        "outputId": "9f34fd0d-be0b-4838-e45b-769f04aeb6d3"
      },
      "outputs": [
        {
          "output_type": "stream",
          "name": "stdout",
          "text": [
            "named dataset: 4675\n",
            "unnamed dataset: 634\n",
            "vague dataset: 316\n",
            "citation data source: 88\n",
            "document data source: 37\n"
          ]
        }
      ],
      "execution_count": null
    },
    {
      "cell_type": "code",
      "source": [
        "len(outputs_parallel)"
      ],
      "metadata": {
        "trusted": true,
        "execution": {
          "iopub.status.busy": "2025-05-02T11:13:18.688223Z",
          "iopub.execute_input": "2025-05-02T11:13:18.688470Z",
          "iopub.status.idle": "2025-05-02T11:13:18.692748Z",
          "shell.execute_reply.started": "2025-05-02T11:13:18.688450Z",
          "shell.execute_reply": "2025-05-02T11:13:18.692201Z"
        },
        "colab": {
          "base_uri": "https://localhost:8080/"
        },
        "id": "tu3ffY8mtoRF",
        "outputId": "ac1bdd4a-dbc6-480f-ec92-f82ff8f5a398"
      },
      "outputs": [
        {
          "output_type": "execute_result",
          "data": {
            "text/plain": [
              "2217"
            ]
          },
          "metadata": {},
          "execution_count": 15
        }
      ],
      "execution_count": null
    },
    {
      "cell_type": "code",
      "source": [
        "import json\n",
        "from datetime import datetime\n",
        "from pathlib import Path\n",
        "from sklearn.model_selection import train_test_split"
      ],
      "metadata": {
        "trusted": true,
        "execution": {
          "iopub.status.busy": "2025-05-02T11:13:20.161350Z",
          "iopub.execute_input": "2025-05-02T11:13:20.161890Z",
          "iopub.status.idle": "2025-05-02T11:13:20.547095Z",
          "shell.execute_reply.started": "2025-05-02T11:13:20.161867Z",
          "shell.execute_reply": "2025-05-02T11:13:20.546312Z"
        },
        "id": "OoCATZgvtoRF"
      },
      "outputs": [],
      "execution_count": null
    },
    {
      "cell_type": "code",
      "source": [
        "def save_data(data, file_path, overwrite):\n",
        "    \"\"\"Save data to a file, handling overwriting based on user preference.\"\"\"\n",
        "    path = Path(file_path)\n",
        "    assets_dir = path.parent\n",
        "    if not assets_dir.exists():\n",
        "        assets_dir.mkdir(parents=True, exist_ok=True)\n",
        "\n",
        "    if not overwrite and path.exists():\n",
        "        timestamp = datetime.now().strftime('%Y%m%d_%H%M%S')\n",
        "        file_path = f\"{path.stem}_{timestamp}{path.suffix}\"\n",
        "\n",
        "    with open(file_path, 'w') as f:\n",
        "        json.dump(data, f)\n",
        "\n",
        "    print(f\"Data saved to {file_path}\")\n",
        "def convert(training_data, project_path=\"\", train_split=0.8, eval_split=0.2, test_split=0.0,\n",
        "            train_file=\"train.json\", eval_file=\"eval.json\", test_file=\"test.json\",\n",
        "            overwrite=True):\n",
        "    \"\"\"Process data and split into training, validation, and testing datasets.\"\"\"\n",
        "    #training_data = [process_example(example) for example in data]\n",
        "\n",
        "    # Handle the data splitting\n",
        "    if test_split > 0:\n",
        "        train_val, test = train_test_split(training_data, test_size=test_split, random_state=42)\n",
        "        save_data(test, Path(project_path, 'assets', test_file), overwrite)\n",
        "    else:\n",
        "        train_val = training_data\n",
        "\n",
        "    eval_size = eval_split / (1 - test_split)  # Adjust eval size based on the remaining data\n",
        "    train, val = train_test_split(train_val, test_size=eval_size, random_state=42)\n",
        "\n",
        "    # Save the data\n",
        "    save_data(train, Path(project_path, 'assets', train_file), overwrite)\n",
        "    save_data(val, Path(project_path, 'assets', eval_file), overwrite)\n",
        "\n",
        "    return training_data"
      ],
      "metadata": {
        "trusted": true,
        "execution": {
          "iopub.status.busy": "2025-05-02T11:13:29.457713Z",
          "iopub.execute_input": "2025-05-02T11:13:29.458383Z",
          "iopub.status.idle": "2025-05-02T11:13:29.465437Z",
          "shell.execute_reply.started": "2025-05-02T11:13:29.458358Z",
          "shell.execute_reply": "2025-05-02T11:13:29.464707Z"
        },
        "id": "e2FAOlirtoRF"
      },
      "outputs": [],
      "execution_count": null
    },
    {
      "cell_type": "code",
      "source": [
        "# Convert and split the data into training, validation, and testing datasets\n",
        "training_data = convert(outputs_parallel, project_path='', train_split=0.9, eval_split=0.1, test_split=0.0,\n",
        "                        train_file='train.json', eval_file='eval.json', test_file='test.json', overwrite=True)\n",
        "import pandas as pd\n",
        "pd.read_json(\"assets/eval.json\")[:5]"
      ],
      "metadata": {
        "trusted": true,
        "execution": {
          "iopub.status.busy": "2025-05-02T11:13:32.793935Z",
          "iopub.execute_input": "2025-05-02T11:13:32.794476Z",
          "iopub.status.idle": "2025-05-02T11:13:33.320620Z",
          "shell.execute_reply.started": "2025-05-02T11:13:32.794451Z",
          "shell.execute_reply": "2025-05-02T11:13:33.320025Z"
        },
        "colab": {
          "base_uri": "https://localhost:8080/",
          "height": 242
        },
        "id": "-FDLWPUHtoRF",
        "outputId": "a32d0b48-149b-4f5e-bb8b-1947b04ff58e"
      },
      "outputs": [
        {
          "output_type": "stream",
          "name": "stdout",
          "text": [
            "Data saved to assets/train.json\n",
            "Data saved to assets/eval.json\n"
          ]
        },
        {
          "output_type": "execute_result",
          "data": {
            "text/plain": [
              "                                      tokenized_text  \\\n",
              "0  [This, report, provides, an, overview, of, the...   \n",
              "1  [Panel, A, :, Tax, Revenue, Panel, B, :, Expen...   \n",
              "2  [In, the, context, of, international, aid, ,, ...   \n",
              "3  [In, the, realm, of, public, finance, ,, the, ...   \n",
              "4  [As, climate, change, continues, to, be, a, pr...   \n",
              "\n",
              "                                                 ner  \n",
              "0  [[10, 17, named dataset], [53, 53, named datas...  \n",
              "1  [[121, 123, named dataset], [145, 147, named d...  \n",
              "2  [[25, 26, named dataset], [78, 79, named datas...  \n",
              "3  [[27, 30, unnamed dataset], [51, 51, named dat...  \n",
              "4                          [[12, 15, named dataset]]  "
            ],
            "text/html": [
              "\n",
              "  <div id=\"df-1f6c3183-4b34-4ebd-8455-7bf4ea5f7bf5\" class=\"colab-df-container\">\n",
              "    <div>\n",
              "<style scoped>\n",
              "    .dataframe tbody tr th:only-of-type {\n",
              "        vertical-align: middle;\n",
              "    }\n",
              "\n",
              "    .dataframe tbody tr th {\n",
              "        vertical-align: top;\n",
              "    }\n",
              "\n",
              "    .dataframe thead th {\n",
              "        text-align: right;\n",
              "    }\n",
              "</style>\n",
              "<table border=\"1\" class=\"dataframe\">\n",
              "  <thead>\n",
              "    <tr style=\"text-align: right;\">\n",
              "      <th></th>\n",
              "      <th>tokenized_text</th>\n",
              "      <th>ner</th>\n",
              "    </tr>\n",
              "  </thead>\n",
              "  <tbody>\n",
              "    <tr>\n",
              "      <th>0</th>\n",
              "      <td>[This, report, provides, an, overview, of, the...</td>\n",
              "      <td>[[10, 17, named dataset], [53, 53, named datas...</td>\n",
              "    </tr>\n",
              "    <tr>\n",
              "      <th>1</th>\n",
              "      <td>[Panel, A, :, Tax, Revenue, Panel, B, :, Expen...</td>\n",
              "      <td>[[121, 123, named dataset], [145, 147, named d...</td>\n",
              "    </tr>\n",
              "    <tr>\n",
              "      <th>2</th>\n",
              "      <td>[In, the, context, of, international, aid, ,, ...</td>\n",
              "      <td>[[25, 26, named dataset], [78, 79, named datas...</td>\n",
              "    </tr>\n",
              "    <tr>\n",
              "      <th>3</th>\n",
              "      <td>[In, the, realm, of, public, finance, ,, the, ...</td>\n",
              "      <td>[[27, 30, unnamed dataset], [51, 51, named dat...</td>\n",
              "    </tr>\n",
              "    <tr>\n",
              "      <th>4</th>\n",
              "      <td>[As, climate, change, continues, to, be, a, pr...</td>\n",
              "      <td>[[12, 15, named dataset]]</td>\n",
              "    </tr>\n",
              "  </tbody>\n",
              "</table>\n",
              "</div>\n",
              "    <div class=\"colab-df-buttons\">\n",
              "\n",
              "  <div class=\"colab-df-container\">\n",
              "    <button class=\"colab-df-convert\" onclick=\"convertToInteractive('df-1f6c3183-4b34-4ebd-8455-7bf4ea5f7bf5')\"\n",
              "            title=\"Convert this dataframe to an interactive table.\"\n",
              "            style=\"display:none;\">\n",
              "\n",
              "  <svg xmlns=\"http://www.w3.org/2000/svg\" height=\"24px\" viewBox=\"0 -960 960 960\">\n",
              "    <path d=\"M120-120v-720h720v720H120Zm60-500h600v-160H180v160Zm220 220h160v-160H400v160Zm0 220h160v-160H400v160ZM180-400h160v-160H180v160Zm440 0h160v-160H620v160ZM180-180h160v-160H180v160Zm440 0h160v-160H620v160Z\"/>\n",
              "  </svg>\n",
              "    </button>\n",
              "\n",
              "  <style>\n",
              "    .colab-df-container {\n",
              "      display:flex;\n",
              "      gap: 12px;\n",
              "    }\n",
              "\n",
              "    .colab-df-convert {\n",
              "      background-color: #E8F0FE;\n",
              "      border: none;\n",
              "      border-radius: 50%;\n",
              "      cursor: pointer;\n",
              "      display: none;\n",
              "      fill: #1967D2;\n",
              "      height: 32px;\n",
              "      padding: 0 0 0 0;\n",
              "      width: 32px;\n",
              "    }\n",
              "\n",
              "    .colab-df-convert:hover {\n",
              "      background-color: #E2EBFA;\n",
              "      box-shadow: 0px 1px 2px rgba(60, 64, 67, 0.3), 0px 1px 3px 1px rgba(60, 64, 67, 0.15);\n",
              "      fill: #174EA6;\n",
              "    }\n",
              "\n",
              "    .colab-df-buttons div {\n",
              "      margin-bottom: 4px;\n",
              "    }\n",
              "\n",
              "    [theme=dark] .colab-df-convert {\n",
              "      background-color: #3B4455;\n",
              "      fill: #D2E3FC;\n",
              "    }\n",
              "\n",
              "    [theme=dark] .colab-df-convert:hover {\n",
              "      background-color: #434B5C;\n",
              "      box-shadow: 0px 1px 3px 1px rgba(0, 0, 0, 0.15);\n",
              "      filter: drop-shadow(0px 1px 2px rgba(0, 0, 0, 0.3));\n",
              "      fill: #FFFFFF;\n",
              "    }\n",
              "  </style>\n",
              "\n",
              "    <script>\n",
              "      const buttonEl =\n",
              "        document.querySelector('#df-1f6c3183-4b34-4ebd-8455-7bf4ea5f7bf5 button.colab-df-convert');\n",
              "      buttonEl.style.display =\n",
              "        google.colab.kernel.accessAllowed ? 'block' : 'none';\n",
              "\n",
              "      async function convertToInteractive(key) {\n",
              "        const element = document.querySelector('#df-1f6c3183-4b34-4ebd-8455-7bf4ea5f7bf5');\n",
              "        const dataTable =\n",
              "          await google.colab.kernel.invokeFunction('convertToInteractive',\n",
              "                                                    [key], {});\n",
              "        if (!dataTable) return;\n",
              "\n",
              "        const docLinkHtml = 'Like what you see? Visit the ' +\n",
              "          '<a target=\"_blank\" href=https://colab.research.google.com/notebooks/data_table.ipynb>data table notebook</a>'\n",
              "          + ' to learn more about interactive tables.';\n",
              "        element.innerHTML = '';\n",
              "        dataTable['output_type'] = 'display_data';\n",
              "        await google.colab.output.renderOutput(dataTable, element);\n",
              "        const docLink = document.createElement('div');\n",
              "        docLink.innerHTML = docLinkHtml;\n",
              "        element.appendChild(docLink);\n",
              "      }\n",
              "    </script>\n",
              "  </div>\n",
              "\n",
              "\n",
              "    <div id=\"df-a2dd5df8-d806-49ca-b0b1-ffc76198cf3c\">\n",
              "      <button class=\"colab-df-quickchart\" onclick=\"quickchart('df-a2dd5df8-d806-49ca-b0b1-ffc76198cf3c')\"\n",
              "                title=\"Suggest charts\"\n",
              "                style=\"display:none;\">\n",
              "\n",
              "<svg xmlns=\"http://www.w3.org/2000/svg\" height=\"24px\"viewBox=\"0 0 24 24\"\n",
              "     width=\"24px\">\n",
              "    <g>\n",
              "        <path d=\"M19 3H5c-1.1 0-2 .9-2 2v14c0 1.1.9 2 2 2h14c1.1 0 2-.9 2-2V5c0-1.1-.9-2-2-2zM9 17H7v-7h2v7zm4 0h-2V7h2v10zm4 0h-2v-4h2v4z\"/>\n",
              "    </g>\n",
              "</svg>\n",
              "      </button>\n",
              "\n",
              "<style>\n",
              "  .colab-df-quickchart {\n",
              "      --bg-color: #E8F0FE;\n",
              "      --fill-color: #1967D2;\n",
              "      --hover-bg-color: #E2EBFA;\n",
              "      --hover-fill-color: #174EA6;\n",
              "      --disabled-fill-color: #AAA;\n",
              "      --disabled-bg-color: #DDD;\n",
              "  }\n",
              "\n",
              "  [theme=dark] .colab-df-quickchart {\n",
              "      --bg-color: #3B4455;\n",
              "      --fill-color: #D2E3FC;\n",
              "      --hover-bg-color: #434B5C;\n",
              "      --hover-fill-color: #FFFFFF;\n",
              "      --disabled-bg-color: #3B4455;\n",
              "      --disabled-fill-color: #666;\n",
              "  }\n",
              "\n",
              "  .colab-df-quickchart {\n",
              "    background-color: var(--bg-color);\n",
              "    border: none;\n",
              "    border-radius: 50%;\n",
              "    cursor: pointer;\n",
              "    display: none;\n",
              "    fill: var(--fill-color);\n",
              "    height: 32px;\n",
              "    padding: 0;\n",
              "    width: 32px;\n",
              "  }\n",
              "\n",
              "  .colab-df-quickchart:hover {\n",
              "    background-color: var(--hover-bg-color);\n",
              "    box-shadow: 0 1px 2px rgba(60, 64, 67, 0.3), 0 1px 3px 1px rgba(60, 64, 67, 0.15);\n",
              "    fill: var(--button-hover-fill-color);\n",
              "  }\n",
              "\n",
              "  .colab-df-quickchart-complete:disabled,\n",
              "  .colab-df-quickchart-complete:disabled:hover {\n",
              "    background-color: var(--disabled-bg-color);\n",
              "    fill: var(--disabled-fill-color);\n",
              "    box-shadow: none;\n",
              "  }\n",
              "\n",
              "  .colab-df-spinner {\n",
              "    border: 2px solid var(--fill-color);\n",
              "    border-color: transparent;\n",
              "    border-bottom-color: var(--fill-color);\n",
              "    animation:\n",
              "      spin 1s steps(1) infinite;\n",
              "  }\n",
              "\n",
              "  @keyframes spin {\n",
              "    0% {\n",
              "      border-color: transparent;\n",
              "      border-bottom-color: var(--fill-color);\n",
              "      border-left-color: var(--fill-color);\n",
              "    }\n",
              "    20% {\n",
              "      border-color: transparent;\n",
              "      border-left-color: var(--fill-color);\n",
              "      border-top-color: var(--fill-color);\n",
              "    }\n",
              "    30% {\n",
              "      border-color: transparent;\n",
              "      border-left-color: var(--fill-color);\n",
              "      border-top-color: var(--fill-color);\n",
              "      border-right-color: var(--fill-color);\n",
              "    }\n",
              "    40% {\n",
              "      border-color: transparent;\n",
              "      border-right-color: var(--fill-color);\n",
              "      border-top-color: var(--fill-color);\n",
              "    }\n",
              "    60% {\n",
              "      border-color: transparent;\n",
              "      border-right-color: var(--fill-color);\n",
              "    }\n",
              "    80% {\n",
              "      border-color: transparent;\n",
              "      border-right-color: var(--fill-color);\n",
              "      border-bottom-color: var(--fill-color);\n",
              "    }\n",
              "    90% {\n",
              "      border-color: transparent;\n",
              "      border-bottom-color: var(--fill-color);\n",
              "    }\n",
              "  }\n",
              "</style>\n",
              "\n",
              "      <script>\n",
              "        async function quickchart(key) {\n",
              "          const quickchartButtonEl =\n",
              "            document.querySelector('#' + key + ' button');\n",
              "          quickchartButtonEl.disabled = true;  // To prevent multiple clicks.\n",
              "          quickchartButtonEl.classList.add('colab-df-spinner');\n",
              "          try {\n",
              "            const charts = await google.colab.kernel.invokeFunction(\n",
              "                'suggestCharts', [key], {});\n",
              "          } catch (error) {\n",
              "            console.error('Error during call to suggestCharts:', error);\n",
              "          }\n",
              "          quickchartButtonEl.classList.remove('colab-df-spinner');\n",
              "          quickchartButtonEl.classList.add('colab-df-quickchart-complete');\n",
              "        }\n",
              "        (() => {\n",
              "          let quickchartButtonEl =\n",
              "            document.querySelector('#df-a2dd5df8-d806-49ca-b0b1-ffc76198cf3c button');\n",
              "          quickchartButtonEl.style.display =\n",
              "            google.colab.kernel.accessAllowed ? 'block' : 'none';\n",
              "        })();\n",
              "      </script>\n",
              "    </div>\n",
              "\n",
              "    </div>\n",
              "  </div>\n"
            ],
            "application/vnd.google.colaboratory.intrinsic+json": {
              "type": "dataframe",
              "summary": "{\n  \"name\": \"pd\",\n  \"rows\": 5,\n  \"fields\": [\n    {\n      \"column\": \"tokenized_text\",\n      \"properties\": {\n        \"dtype\": \"object\",\n        \"semantic_type\": \"\",\n        \"description\": \"\"\n      }\n    },\n    {\n      \"column\": \"ner\",\n      \"properties\": {\n        \"dtype\": \"object\",\n        \"semantic_type\": \"\",\n        \"description\": \"\"\n      }\n    }\n  ]\n}"
            }
          },
          "metadata": {},
          "execution_count": 18
        }
      ],
      "execution_count": null
    },
    {
      "cell_type": "code",
      "source": [
        "import os\n",
        "os.environ[\"TOKENIZERS_PARALLELISM\"] = \"true\"\n",
        "\n",
        "import torch\n",
        "from gliner import GLiNERConfig, GLiNER\n",
        "from gliner.training import Trainer, TrainingArguments\n",
        "from gliner.data_processing.collator import DataCollatorWithPadding, DataCollator\n",
        "from gliner.utils import load_config_as_namespace\n",
        "from gliner.data_processing import WordsSplitter, GLiNERDataset\n",
        "\n",
        "device = torch.device('cuda:0') if torch.cuda.is_available() else torch.device('cpu')\n",
        "data_model_id = \"knowledgator/gliner-multitask-v1.0\"\n",
        "#data_model_id = \"urchade/gliner_base\"\n",
        "model = GLiNER.from_pretrained(data_model_id)"
      ],
      "metadata": {
        "trusted": true,
        "execution": {
          "iopub.status.busy": "2025-05-02T11:13:49.290655Z",
          "iopub.execute_input": "2025-05-02T11:13:49.290952Z",
          "iopub.status.idle": "2025-05-02T11:14:47.499199Z",
          "shell.execute_reply.started": "2025-05-02T11:13:49.290934Z",
          "shell.execute_reply": "2025-05-02T11:14:47.498569Z"
        },
        "colab": {
          "base_uri": "https://localhost:8080/",
          "height": 49,
          "referenced_widgets": [
            "724e9db1c1184cb8a50b0cf84713af60",
            "4c7b5f7aef794284a7c92107a1da33ec",
            "cd114b8090dd436a854f8a5a8b2a4fac",
            "9429fc437ae54617abb0a703672a669d",
            "bdfd7195f2d8478ca5de68bde220a099",
            "9c91ac5a9a9640ab9539a8dd02a67b20",
            "f823b2b1a0944bed94be105b0c68e46b",
            "8a6df40590454c189e8b85069527d338",
            "606103a3737a438381bf7951952275bd",
            "33a1dab0919a4fc1951414e5e65dfc9c",
            "8794a0685cce49018374170ab90910b5"
          ]
        },
        "id": "QT-p_OzEtoRG",
        "outputId": "4129095f-c874-45b7-b427-a2555c54d45f"
      },
      "outputs": [
        {
          "output_type": "display_data",
          "data": {
            "text/plain": [
              "Fetching 9 files:   0%|          | 0/9 [00:00<?, ?it/s]"
            ],
            "application/vnd.jupyter.widget-view+json": {
              "version_major": 2,
              "version_minor": 0,
              "model_id": "724e9db1c1184cb8a50b0cf84713af60"
            }
          },
          "metadata": {}
        }
      ],
      "execution_count": null
    },
    {
      "cell_type": "markdown",
      "source": [
        "# Baseline Model Performance (Zero-Shot)"
      ],
      "metadata": {
        "id": "A_LtOTztvBCA"
      }
    },
    {
      "cell_type": "code",
      "source": [
        "test_path = f\"{base_fpath}/REFUGEE_TEST_DATA_HOLDOUT.json\"\n",
        "test_data = pd.read_json(test_path)"
      ],
      "metadata": {
        "id": "CSl9nHPCvWGf"
      },
      "execution_count": null,
      "outputs": []
    },
    {
      "cell_type": "code",
      "source": [
        "from collections import Counter\n",
        "\n",
        "label_counter = Counter()\n",
        "\n",
        "for item in test_data.to_dict(orient='records'):\n",
        "    for ner in item.get('ner', []):\n",
        "        label_counter[ner[2]] += 1\n",
        "\n",
        "# Print sorted by frequency\n",
        "for label, count in label_counter.most_common():\n",
        "    print(f\"{label}: {count}\")\n",
        "# Apply lowercase to the label part (last element of each inner list)\n",
        "def lowercase_labels(entity_list):\n",
        "    return [[start, end, label.lower()] for start, end, label in entity_list]"
      ],
      "metadata": {
        "colab": {
          "base_uri": "https://localhost:8080/"
        },
        "id": "RGJ7Bzsmvfhy",
        "outputId": "c65825a1-6695-49bd-9f61-708c8c94947c"
      },
      "execution_count": null,
      "outputs": [
        {
          "output_type": "stream",
          "name": "stdout",
          "text": [
            "named dataset: 143\n",
            "unnamed dataset: 23\n",
            "vague dataset: 12\n",
            "citation data source: 3\n"
          ]
        }
      ]
    },
    {
      "cell_type": "code",
      "source": [
        "test_data = test_data.to_dict(orient='records')"
      ],
      "metadata": {
        "id": "2PoSykA-vv0f"
      },
      "execution_count": null,
      "outputs": []
    },
    {
      "cell_type": "code",
      "source": [
        "baseline_labels = ['dataset', 'data']"
      ],
      "metadata": {
        "id": "Sujh2kYZvxZP"
      },
      "execution_count": null,
      "outputs": []
    },
    {
      "cell_type": "code",
      "source": [
        "test_preds_dt = []\n",
        "for item in tqdm(test_data, desc=\"Annotated Evaluation\"):\n",
        "  text = \" \".join(item['tokenized_text'])\n",
        "  pred_dt = model.predict_entities(text, baseline_labels, flat_ner=True, threshold=0.5)\n",
        "  test_preds_dt.append(pred_dt)"
      ],
      "metadata": {
        "colab": {
          "base_uri": "https://localhost:8080/",
          "height": 67,
          "referenced_widgets": [
            "38d132a6fc22468496bc5a2cd907bb60",
            "360aae3ca77c4e47a2c8a7ee2c74c8c9",
            "753026e6c8744041bacfa51dd34d2c5d",
            "9a00b8290352416e9795cf0b30c1ec5f",
            "dbc48c3db4234427b62559eae1136fd8",
            "b5d216352d1b4902ba6d3b871f818370",
            "f937dc37f2e24e279c6b2e02a49151b1",
            "81f0a4bd717b43669e268aa7b8d97394",
            "d21f41a0836c456197114cf5a1cc6bb6",
            "832f1a8b1d6646159986981dd3bd6aa7",
            "6b60de0bfe0d46a5b2912aeac0345535"
          ]
        },
        "id": "tBshFlXkvker",
        "outputId": "af020792-13db-447f-f5fa-d76a10072f11"
      },
      "execution_count": null,
      "outputs": [
        {
          "output_type": "display_data",
          "data": {
            "text/plain": [
              "Annotated Evaluation:   0%|          | 0/77 [00:00<?, ?it/s]"
            ],
            "application/vnd.jupyter.widget-view+json": {
              "version_major": 2,
              "version_minor": 0,
              "model_id": "38d132a6fc22468496bc5a2cd907bb60"
            }
          },
          "metadata": {}
        },
        {
          "output_type": "stream",
          "name": "stderr",
          "text": [
            "Asking to truncate to max_length but no maximum length is provided and the model has no predefined maximum length. Default to no truncation.\n"
          ]
        }
      ]
    },
    {
      "cell_type": "markdown",
      "source": [
        "## Helper function to get \"|\" pipe separated predictions and ground truth"
      ],
      "metadata": {
        "id": "cOKOslLCw8Ge"
      }
    },
    {
      "cell_type": "code",
      "source": [
        "def transform_ground_truth(gt_dict, allowed_labels=None):\n",
        "    \"\"\"\n",
        "    Transforms a ground truth dictionary with 'tokenized_text' and 'ner' fields\n",
        "    into a pipe-delimited string of extracted entity phrases, filtering by allowed labels.\n",
        "\n",
        "    Parameters:\n",
        "        gt_dict (dict): A dictionary with 'tokenized_text' and 'ner' (list of [start, end, label]).\n",
        "        allowed_labels (set or list, optional): Labels to include, e.g., {\"named dataset\", \"unnamed dataset\"}.\n",
        "\n",
        "    Returns:\n",
        "        str: A string of extracted phrases separated by '|'.\n",
        "    \"\"\"\n",
        "    tokens = gt_dict['tokenized_text']\n",
        "    ner_entries = gt_dict['ner']\n",
        "    phrases = []\n",
        "\n",
        "    # Default to include all labels if not specified\n",
        "    if allowed_labels is None:\n",
        "        allowed_labels = {\"named dataset\", \"unnamed dataset\", \"vague dataset\"}\n",
        "\n",
        "    for entry in ner_entries:\n",
        "        start, end, label = entry\n",
        "        if label in allowed_labels:\n",
        "            phrase = \" \".join(tokens[start:end+1])\n",
        "            phrases.append(phrase)\n",
        "\n",
        "    return \"|\".join(phrases)\n",
        "\n",
        "\n",
        "def transform_predictions(preds):\n",
        "    \"\"\"\n",
        "    Transforms a list of GLiNER prediction dictionaries into a\n",
        "    pipe-delimited string of the extracted text phrases.\n",
        "\n",
        "    Parameters:\n",
        "        preds (list): A list of dictionaries, where each dictionary\n",
        "                      represents a prediction with keys such as 'start' and 'text'.\n",
        "\n",
        "    Returns:\n",
        "        str: A string with each predicted phrase separated by a '|'.\n",
        "    \"\"\"\n",
        "    # Sort predictions by the 'start' index to maintain order\n",
        "    sorted_preds = sorted(preds, key=lambda x: x['start'])\n",
        "    # Extract the text for each prediction\n",
        "    phrases = [pred['text'] for pred in sorted_preds]\n",
        "    # Join the phrases with a pipe symbol\n",
        "    return \"|\".join(phrases)"
      ],
      "metadata": {
        "id": "-oUeuUiNw603"
      },
      "execution_count": null,
      "outputs": []
    },
    {
      "cell_type": "code",
      "source": [
        "test_predictions_dt = [transform_predictions(ep) for ep in test_preds_dt]\n",
        "test_actual_dt = [transform_ground_truth(td) for td in test_data]"
      ],
      "metadata": {
        "id": "mcsNCdAFw0zi"
      },
      "execution_count": null,
      "outputs": []
    },
    {
      "cell_type": "markdown",
      "source": [
        "### Metrics (fBeta Score Calculation)"
      ],
      "metadata": {
        "id": "w1uDb2IyxG_O"
      }
    },
    {
      "cell_type": "code",
      "source": [
        "def get_precision_recall(tp, fp, fn):\n",
        "    precision = tp / (tp+fp)\n",
        "    recall = tp / (tp + fn)\n",
        "    return precision, recall\n",
        "\n",
        "def fbeta_score(precision, recall, beta):\n",
        "    fbeta = (1+(beta*beta))*((precision*recall)/( (beta*beta*precision) + recall))\n",
        "    return fbeta\n",
        "\n",
        "def jaccard(str1, str2):\n",
        "    a = set(str1.lower().split())\n",
        "    b = set(str2.lower().split())\n",
        "    c = a.intersection(b)\n",
        "    return float(len(c)) / (len(a) + len(b) - len(c))\n",
        "\n",
        "def coleridge_initiative_jaccard(ground_truth, prediction, verbose=True):\n",
        "    gts = ground_truth.split('|')\n",
        "    pds = sorted(prediction.split('|'))\n",
        "    if verbose:\n",
        "        print(\"Ground truth : \" , gts)\n",
        "        print(\"Prediction : \", pds)\n",
        "\n",
        "    js_scores = []\n",
        "    cf_matrix = []\n",
        "\n",
        "    #### Counting True Positives (TP) and False Positives (FP)\n",
        "\n",
        "    for pd in pds:\n",
        "        score = -1\n",
        "        for gt in gts:\n",
        "            js = jaccard(pd, gt)\n",
        "            if js > score:\n",
        "                score = js\n",
        "        if score >= 0.5:\n",
        "            js_scores.append(score)\n",
        "            cf_matrix.append(\"TP\")\n",
        "        else:\n",
        "            js_scores.append(score)\n",
        "            cf_matrix.append(\"FP\")\n",
        "\n",
        "\n",
        "    #### Counting False Negatives (FN)\n",
        "\n",
        "    for gt in gts:\n",
        "        score = -1\n",
        "        for pd in pds:\n",
        "            js = jaccard(gt, pd)\n",
        "            if js > score:\n",
        "                score = js\n",
        "        if score == 0:\n",
        "            js_scores.append(score)\n",
        "            cf_matrix.append(\"FN\")\n",
        "\n",
        "    return js_scores, \" \".join(cf_matrix)\n",
        "def evaluate_metrics(ground_truth, predictions):\n",
        "  # Calculate overall counts for TP, FP, and FN across all samples\n",
        "  overall_tp = 0\n",
        "  overall_fp = 0\n",
        "  overall_fn = 0\n",
        "\n",
        "  # You can also optionally collect sample level metrics if needed\n",
        "  for gt, pred in zip(ground_truth, predictions):\n",
        "      js_scores, cf_matrix_str = coleridge_initiative_jaccard(gt, pred, verbose=False)\n",
        "      cf_list = cf_matrix_str.split()\n",
        "      tp = cf_list.count(\"TP\")\n",
        "      fp = cf_list.count(\"FP\")\n",
        "      fn = cf_list.count(\"FN\")\n",
        "      overall_tp += tp\n",
        "      overall_fp += fp\n",
        "      overall_fn += fn\n",
        "      # You can print or log individual sample metrics here if desired\n",
        "      # print(\"Sample TP:\", tp, \"FP:\", fp, \"FN:\", fn)\n",
        "\n",
        "  # Now, calculate overall precision, recall, and F1 score\n",
        "  precision, recall = get_precision_recall(overall_tp, overall_fp, overall_fn)\n",
        "  f1_score = fbeta_score(precision, recall, beta=1)\n",
        "\n",
        "  return {\n",
        "      \"tp\": overall_tp,\n",
        "      \"fp\": overall_fp,\n",
        "      \"fn\": overall_fn,\n",
        "      \"precision\": precision,\n",
        "      \"recall\": recall,\n",
        "      \"f1_score\": f1_score\n",
        "  }"
      ],
      "metadata": {
        "id": "lmRVneArxL4j"
      },
      "execution_count": null,
      "outputs": []
    },
    {
      "cell_type": "code",
      "source": [
        "evaluate_metrics(test_actual_dt, test_predictions_dt)"
      ],
      "metadata": {
        "colab": {
          "base_uri": "https://localhost:8080/"
        },
        "id": "7TdUAUCgv85a",
        "outputId": "376cb856-670b-4975-9766-f94a2ed5d62b"
      },
      "execution_count": null,
      "outputs": [
        {
          "output_type": "execute_result",
          "data": {
            "text/plain": [
              "{'tp': 121,\n",
              " 'fp': 17,\n",
              " 'fn': 52,\n",
              " 'precision': 0.8768115942028986,\n",
              " 'recall': 0.6994219653179191,\n",
              " 'f1_score': 0.7781350482315113}"
            ]
          },
          "metadata": {},
          "execution_count": 28
        }
      ]
    },
    {
      "cell_type": "markdown",
      "source": [
        "# Pre-fine tuning using synthetic data"
      ],
      "metadata": {
        "id": "NEVLO-kVxUKC"
      }
    },
    {
      "cell_type": "code",
      "source": [
        "def load_json_data(file_path):\n",
        "    if not os.path.exists(file_path):\n",
        "        raise FileNotFoundError(f\"The specified file does not exist: {file_path}\")\n",
        "    with open(file_path, 'r') as file:\n",
        "        data = json.load(file)\n",
        "    return data"
      ],
      "metadata": {
        "trusted": true,
        "id": "IuFcpJUTtoRG"
      },
      "outputs": [],
      "execution_count": null
    },
    {
      "cell_type": "code",
      "source": [
        "# use it for better performance, it mimics original implementation but it's less memory efficient\n",
        "data_collator = DataCollator(model.config, data_processor=model.data_processor, prepare_labels=True)\n",
        "import warnings\n",
        "warnings.filterwarnings(\"ignore\")\n",
        "train_dataset = load_json_data(\"assets/train.json\")\n",
        "test_dataset = load_json_data(\"assets/eval.json\")"
      ],
      "metadata": {
        "trusted": true,
        "id": "06hx1qfOtoRG"
      },
      "outputs": [],
      "execution_count": null
    },
    {
      "cell_type": "code",
      "source": [
        "import torch\n",
        "torch.cuda.empty_cache()"
      ],
      "metadata": {
        "trusted": true,
        "id": "Zzpk4RWutoRG"
      },
      "outputs": [],
      "execution_count": null
    },
    {
      "cell_type": "code",
      "source": [
        "# calculate number of epochs\n",
        "num_steps = 500\n",
        "batch_size = 8\n",
        "data_size = len(train_dataset)\n",
        "num_batches = data_size // batch_size\n",
        "num_epochs = max(1, num_steps // num_batches)\n",
        "\n",
        "training_args = TrainingArguments(\n",
        "    output_dir=\"models\",\n",
        "    learning_rate=1e-5,\n",
        "    weight_decay=0.01,\n",
        "    others_lr=1e-5,\n",
        "    others_weight_decay=0.01,\n",
        "    lr_scheduler_type=\"cosine\", #for prefinetuning\n",
        "    warmup_ratio=0.1,\n",
        "    per_device_train_batch_size=batch_size,\n",
        "    per_device_eval_batch_size=batch_size,\n",
        "    focal_loss_alpha=0.75,\n",
        "    focal_loss_gamma=2,\n",
        "    num_train_epochs=num_epochs,\n",
        "    eval_strategy=\"steps\",\n",
        "    save_steps = 250,\n",
        "    save_total_limit=10,\n",
        "    dataloader_num_workers = 0,\n",
        "    use_cpu = False,\n",
        "    report_to=\"none\",\n",
        "    )\n",
        "\n",
        "trainer = Trainer(\n",
        "    model=model,\n",
        "    args=training_args,\n",
        "    train_dataset=train_dataset,\n",
        "    eval_dataset=test_dataset,\n",
        "    data_collator=data_collator,\n",
        ")\n",
        "\n",
        "trainer.train()"
      ],
      "metadata": {
        "trusted": true,
        "colab": {
          "base_uri": "https://localhost:8080/",
          "height": 142
        },
        "id": "VTSIx7MwtoRG",
        "outputId": "4c24a1a7-3d49-451e-8661-fe28c6827df1"
      },
      "outputs": [
        {
          "output_type": "display_data",
          "data": {
            "text/plain": [
              "<IPython.core.display.HTML object>"
            ],
            "text/html": [
              "\n",
              "    <div>\n",
              "      \n",
              "      <progress value='500' max='500' style='width:300px; height:20px; vertical-align: middle;'></progress>\n",
              "      [500/500 06:01, Epoch 2/2]\n",
              "    </div>\n",
              "    <table border=\"1\" class=\"dataframe\">\n",
              "  <thead>\n",
              " <tr style=\"text-align: left;\">\n",
              "      <th>Step</th>\n",
              "      <th>Training Loss</th>\n",
              "      <th>Validation Loss</th>\n",
              "    </tr>\n",
              "  </thead>\n",
              "  <tbody>\n",
              "    <tr>\n",
              "      <td>500</td>\n",
              "      <td>20.231400</td>\n",
              "      <td>264.913971</td>\n",
              "    </tr>\n",
              "  </tbody>\n",
              "</table><p>"
            ]
          },
          "metadata": {}
        },
        {
          "output_type": "execute_result",
          "data": {
            "text/plain": [
              "TrainOutput(global_step=500, training_loss=20.231400390625, metrics={'train_runtime': 363.8482, 'train_samples_per_second': 10.966, 'train_steps_per_second': 1.374, 'total_flos': 0.0, 'train_loss': 20.231400390625, 'epoch': 2.0})"
            ]
          },
          "metadata": {},
          "execution_count": 32
        }
      ],
      "execution_count": null
    },
    {
      "cell_type": "markdown",
      "source": [
        "## Calculate performance for Pre-finetuning using Synthetic Data"
      ],
      "metadata": {
        "id": "IP_wXlgUzizE"
      }
    },
    {
      "cell_type": "code",
      "source": [
        "labels = list(label_counter.keys())"
      ],
      "metadata": {
        "id": "_qNhkbNKzeGb"
      },
      "execution_count": null,
      "outputs": []
    },
    {
      "cell_type": "code",
      "source": [
        "test_preds_all = []\n",
        "test_preds_dt = []\n",
        "for item in tqdm(test_data, desc=\"Annotated Evaluation\"):\n",
        "  text = \" \".join(item['tokenized_text'])\n",
        "  pred_dt = model.predict_entities(text, ['named dataset', 'unnamed dataset', 'vague dataset'], flat_ner=True, threshold=0.5)\n",
        "  pred_all = model.predict_entities(text, labels, flat_ner=True, threshold=0.5)\n",
        "  test_preds_all.append(pred_all)\n",
        "  test_preds_dt.append(pred_dt)\n",
        "test_predictions_all = [transform_predictions(ep) for ep in test_preds_all]\n",
        "test_predictions_dt = [transform_predictions(ep) for ep in test_preds_dt]"
      ],
      "metadata": {
        "trusted": true,
        "colab": {
          "base_uri": "https://localhost:8080/",
          "height": 49,
          "referenced_widgets": [
            "3e974e3bb9624cc18f948758ba702912",
            "07a2498a4fb946a095ca23783c616773",
            "c1a4d0206a3649738b0a5525523a8ef6",
            "b8f0cd7b162b4ce5bcc11e36cd90f358",
            "a30d58648e1a43d1abd78d428399f71d",
            "86debc0874c744e895dd33d2952a3da0",
            "8ce86297aad249fd9b835d324b03d80a",
            "c1094bb55fd845c9a732f1c3cde11b51",
            "b1dfdb560f6b4873961251ef1e6ad0a8",
            "8085674b45ba41fdacf0c495c4ee26ba",
            "0fa42f57df1a484db5ade42f28be20c4"
          ]
        },
        "id": "1l0Y_6SitoRH",
        "outputId": "e98d9418-26b5-4ee8-bfb0-b6a31ae9ee9c"
      },
      "outputs": [
        {
          "output_type": "display_data",
          "data": {
            "text/plain": [
              "Annotated Evaluation:   0%|          | 0/77 [00:00<?, ?it/s]"
            ],
            "application/vnd.jupyter.widget-view+json": {
              "version_major": 2,
              "version_minor": 0,
              "model_id": "3e974e3bb9624cc18f948758ba702912"
            }
          },
          "metadata": {}
        }
      ],
      "execution_count": null
    },
    {
      "cell_type": "code",
      "source": [
        "test_actual_all = [transform_ground_truth(td, labels) for td in test_data]\n",
        "test_actual_dt = [transform_ground_truth(td) for td in test_data]"
      ],
      "metadata": {
        "trusted": true,
        "id": "u3SmjPTltoRH"
      },
      "outputs": [],
      "execution_count": null
    },
    {
      "cell_type": "code",
      "source": [
        "test_actual_all[:5]"
      ],
      "metadata": {
        "trusted": true,
        "colab": {
          "base_uri": "https://localhost:8080/"
        },
        "id": "OGVcSTbUtoRH",
        "outputId": "6f0b3fa3-0acc-48f0-dccc-a0fdec3f4a7d"
      },
      "outputs": [
        {
          "output_type": "execute_result",
          "data": {
            "text/plain": [
              "['HEIS|HEIS|HEIS',\n",
              " 'Household , Income and Labour Dynamics in Australia ( HILDA )',\n",
              " 'humanitarian profile data|IOM ’ s DTM',\n",
              " 'Economic Freedom of the World ( EFW )|Polity IV dataset|Freedom House|Database of Political Institutions ( DPI )|JuriGlobe',\n",
              " 'phone survey|Washington Group Short Set on Disability']"
            ]
          },
          "metadata": {},
          "execution_count": 36
        }
      ],
      "execution_count": null
    },
    {
      "cell_type": "code",
      "source": [
        "test_predictions_all[:5]"
      ],
      "metadata": {
        "trusted": true,
        "colab": {
          "base_uri": "https://localhost:8080/"
        },
        "id": "wg0gKcrvtoRH",
        "outputId": "d159c7b4-7708-4169-c7b7-d2f7f6b70073"
      },
      "outputs": [
        {
          "output_type": "execute_result",
          "data": {
            "text/plain": [
              "['HEIS|HEIS|HEIS',\n",
              " 'Household , Income and Labour Dynamics in Australia ( HILDA ) survey',\n",
              " 'humanitarian profile data|IOM ’ s DTM',\n",
              " 'Economic Freedom of the World ( EFW ) index|Polity IV dataset|Freedom House|Database of Political Institutions ( DPI )|JuriGlobe',\n",
              " 'implementing organization ’ s data|phone survey|Washington Group Short Set on Disability']"
            ]
          },
          "metadata": {},
          "execution_count": 37
        }
      ],
      "execution_count": null
    },
    {
      "cell_type": "code",
      "source": [
        "evaluate_metrics(test_actual_all, test_predictions_all)"
      ],
      "metadata": {
        "trusted": true,
        "colab": {
          "base_uri": "https://localhost:8080/"
        },
        "id": "tIpEt_zctoRH",
        "outputId": "77c4f6f4-e7da-4675-e7c1-09bcb66e3551"
      },
      "outputs": [
        {
          "output_type": "execute_result",
          "data": {
            "text/plain": [
              "{'tp': 176,\n",
              " 'fp': 35,\n",
              " 'fn': 23,\n",
              " 'precision': 0.8341232227488151,\n",
              " 'recall': 0.8844221105527639,\n",
              " 'f1_score': 0.8585365853658536}"
            ]
          },
          "metadata": {},
          "execution_count": 38
        }
      ],
      "execution_count": null
    },
    {
      "cell_type": "code",
      "source": [
        "evaluate_metrics(test_actual_dt, test_predictions_dt)"
      ],
      "metadata": {
        "trusted": true,
        "colab": {
          "base_uri": "https://localhost:8080/"
        },
        "id": "s0CQpz5RtoRH",
        "outputId": "f6c6e119-29cd-40f1-a8ef-ef935d1102be"
      },
      "outputs": [
        {
          "output_type": "execute_result",
          "data": {
            "text/plain": [
              "{'tp': 175,\n",
              " 'fp': 32,\n",
              " 'fn': 22,\n",
              " 'precision': 0.8454106280193237,\n",
              " 'recall': 0.8883248730964467,\n",
              " 'f1_score': 0.8663366336633662}"
            ]
          },
          "metadata": {},
          "execution_count": 39
        }
      ],
      "execution_count": null
    },
    {
      "cell_type": "code",
      "source": [
        "n_data = []\n",
        "for x in test_actual_dt:\n",
        "    n_data.append(len(set(x.split(\"|\"))))"
      ],
      "metadata": {
        "trusted": true,
        "id": "1BFWhMl5toRH"
      },
      "outputs": [],
      "execution_count": null
    },
    {
      "cell_type": "code",
      "source": [
        "sum(n_data)"
      ],
      "metadata": {
        "trusted": true,
        "colab": {
          "base_uri": "https://localhost:8080/"
        },
        "id": "ew2YdoMLtoRH",
        "outputId": "ac614a33-31f5-4133-a0dc-562dfebae13c"
      },
      "outputs": [
        {
          "output_type": "execute_result",
          "data": {
            "text/plain": [
              "161"
            ]
          },
          "metadata": {},
          "execution_count": 41
        }
      ],
      "execution_count": null
    },
    {
      "cell_type": "code",
      "source": [
        "model_prefinetuned = \"/content/drive/MyDrive/colab-artifacts/refugee_gliner_models/gliner_multitask_prefinetuned\"\n",
        "\n",
        "model.save_pretrained(model_prefinetuned)"
      ],
      "metadata": {
        "trusted": true,
        "id": "i8dr1RfjtoRH"
      },
      "outputs": [],
      "execution_count": null
    },
    {
      "cell_type": "code",
      "source": [
        "from huggingface_hub import login\n",
        "from google.colab import userdata\n",
        "HF_TOKEN = userdata.get('HF_TOKEN')\n",
        "login(token=HF_TOKEN)"
      ],
      "metadata": {
        "id": "xzfEN_dnO82J"
      },
      "execution_count": null,
      "outputs": []
    },
    {
      "cell_type": "code",
      "source": [
        "model.push_to_hub(\"rafmacalaba/gliner_multitask_prefinetuned_refugee-v1\")"
      ],
      "metadata": {
        "colab": {
          "base_uri": "https://localhost:8080/",
          "height": 184,
          "referenced_widgets": [
            "cf05e71f60b34663ac654c368bc88174",
            "243987d1d9e043f8996e8321fd828583",
            "ede5df6b4e8c4ded97dd446e77e23aa7",
            "cfef2a30d4e64c31b93eca81654ba3ee",
            "0d69ffdc0a964a69851fecd70b26e2ad",
            "03bee455bc394c1a9c2ba8edbfbdd8ae",
            "5b4a010ac4cf49e58156b33953b3ca42",
            "31acc1d107904f278faa2f6f18385124",
            "bc8f0509eaf84b5c85934c5c0784533e",
            "febd65a3d4374b148faf4b8a33896660",
            "9d488fa1a1d6413bba00968592b2a2d1",
            "0526d3a438984e699b70a5bbbaa97a06",
            "cdfed0c4c612480e994993f0e3f70be7",
            "d4862890309b40a0b71e286dcf8176dd",
            "de568fcbd067490298fd9ab2e1d5af7f",
            "9ab7db887d5d44ffaa0658c972b09f95",
            "d89cb0596cdf40cb80a2f0623dad2db7",
            "aeb5fe14b976408e9bdc761951213011",
            "1b266e2ca7b54274a59bf7958080acdf",
            "6e21558b38314d74b2ea2438a9e9cd41",
            "7808dd1052724d81a20ce3a8bf9d65aa",
            "bedd3e42710e4fd298785c070236f61f",
            "3d01664f235c41dd94e2e03b97439d24",
            "e876c0f1be544914bd10998e70f28c78",
            "1f43d803cba147e3987c4218bec4f0e5",
            "20aaf9ee62914ea3a7ff0781dd7ca2f6",
            "9199e3db13f14db09fe81673314d54ee",
            "cde403d95a6f4e288695af429421805a",
            "2092d3b325c74227a70765fa923d1c1b",
            "88d4e1269e5f467a8300630272fd349f",
            "266980dcdede43e4b14f785d3a5f39bc",
            "59b0327f928c4078a5013166b256beb7",
            "0d529e314d0044e1a2dba708271522c0"
          ]
        },
        "id": "XgG8JbNPQnno",
        "outputId": "1229ed47-7906-4374-acf4-9333eab71aa7"
      },
      "execution_count": null,
      "outputs": [
        {
          "output_type": "display_data",
          "data": {
            "text/plain": [
              "spm.model:   0%|          | 0.00/2.45M [00:00<?, ?B/s]"
            ],
            "application/vnd.jupyter.widget-view+json": {
              "version_major": 2,
              "version_minor": 0,
              "model_id": "cf05e71f60b34663ac654c368bc88174"
            }
          },
          "metadata": {}
        },
        {
          "output_type": "display_data",
          "data": {
            "text/plain": [
              "pytorch_model.bin:   0%|          | 0.00/3.64G [00:00<?, ?B/s]"
            ],
            "application/vnd.jupyter.widget-view+json": {
              "version_major": 2,
              "version_minor": 0,
              "model_id": "0526d3a438984e699b70a5bbbaa97a06"
            }
          },
          "metadata": {}
        },
        {
          "output_type": "display_data",
          "data": {
            "text/plain": [
              "Upload 2 LFS files:   0%|          | 0/2 [00:00<?, ?it/s]"
            ],
            "application/vnd.jupyter.widget-view+json": {
              "version_major": 2,
              "version_minor": 0,
              "model_id": "3d01664f235c41dd94e2e03b97439d24"
            }
          },
          "metadata": {}
        },
        {
          "output_type": "execute_result",
          "data": {
            "text/plain": [
              "CommitInfo(commit_url='https://huggingface.co/rafmacalaba/gliner_multitask_prefinetuned_refugee-v1/commit/c92cfa94214e48d89da5a8e5a6b6acd1c7565d12', commit_message='Push model using huggingface_hub.', commit_description='', oid='c92cfa94214e48d89da5a8e5a6b6acd1c7565d12', pr_url=None, repo_url=RepoUrl('https://huggingface.co/rafmacalaba/gliner_multitask_prefinetuned_refugee-v1', endpoint='https://huggingface.co', repo_type='model', repo_id='rafmacalaba/gliner_multitask_prefinetuned_refugee-v1'), pr_revision=None, pr_num=None)"
            ],
            "application/vnd.google.colaboratory.intrinsic+json": {
              "type": "string"
            }
          },
          "metadata": {},
          "execution_count": 44
        }
      ]
    },
    {
      "cell_type": "code",
      "source": [
        "del model"
      ],
      "metadata": {
        "trusted": true,
        "id": "DERqmzKGtoRH"
      },
      "outputs": [],
      "execution_count": null
    },
    {
      "cell_type": "code",
      "source": [
        "model = GLiNER.from_pretrained(model_prefinetuned, load_tokenizer=True, local_files_only=True)"
      ],
      "metadata": {
        "trusted": true,
        "colab": {
          "base_uri": "https://localhost:8080/"
        },
        "id": "8GsfS-0htoRH",
        "outputId": "20fab813-17ad-4760-93b1-8c5dfdbcc0a3"
      },
      "outputs": [
        {
          "output_type": "stream",
          "name": "stderr",
          "text": [
            "config.json not found in /content/drive/MyDrive/colab-artifacts/refugee_gliner_models/gliner_multitask_prefinetuned\n",
            "WARNING:huggingface_hub.hub_mixin:config.json not found in /content/drive/MyDrive/colab-artifacts/refugee_gliner_models/gliner_multitask_prefinetuned\n"
          ]
        }
      ],
      "execution_count": null
    },
    {
      "cell_type": "code",
      "source": [
        "device = torch.device('cuda:0') if torch.cuda.is_available() else torch.device('cpu')"
      ],
      "metadata": {
        "trusted": true,
        "id": "eCmzbfnltoRI"
      },
      "outputs": [],
      "execution_count": null
    },
    {
      "cell_type": "code",
      "source": [
        "# !rm -r /content/drive/MyDrive/colab-artifacts/refugee_gliner/models"
      ],
      "metadata": {
        "trusted": true,
        "id": "Y-JG3YaBtoRI"
      },
      "outputs": [],
      "execution_count": null
    },
    {
      "cell_type": "markdown",
      "source": [
        "# Fine Tune on Manually Annotated Rich Dataset"
      ],
      "metadata": {
        "id": "myOpTFQ_2HK5"
      }
    },
    {
      "cell_type": "code",
      "source": [
        "import json\n",
        "ANNOTATED_DATA_TRAIN_PATH = f\"{base_fpath}/REFUGEE_DATA_TRAIN.json\"\n",
        "\n",
        "with open(ANNOTATED_DATA_TRAIN_PATH, \"r\") as f:\n",
        "    train_data = json.load(f)"
      ],
      "metadata": {
        "trusted": true,
        "id": "Lv_IJMmxtoRI"
      },
      "outputs": [],
      "execution_count": null
    },
    {
      "cell_type": "code",
      "source": [
        "train_data = pd.DataFrame(train_data)"
      ],
      "metadata": {
        "trusted": true,
        "id": "8_4j7-PRtoRI"
      },
      "outputs": [],
      "execution_count": null
    },
    {
      "cell_type": "code",
      "source": [
        "len(train_data)"
      ],
      "metadata": {
        "trusted": true,
        "colab": {
          "base_uri": "https://localhost:8080/"
        },
        "id": "qhdd_6hJtoRI",
        "outputId": "78ca4cac-1f9a-4c60-c564-b0a3e020ceee"
      },
      "outputs": [
        {
          "output_type": "execute_result",
          "data": {
            "text/plain": [
              "783"
            ]
          },
          "metadata": {},
          "execution_count": 51
        }
      ],
      "execution_count": null
    },
    {
      "cell_type": "code",
      "source": [
        "from collections import Counter\n",
        "\n",
        "label_counter = Counter()\n",
        "\n",
        "for item in train_data.to_dict(orient='records'):\n",
        "    for ner in item.get('ner', []):\n",
        "        label_counter[ner[2]] += 1\n",
        "\n",
        "# Print sorted by frequency\n",
        "for label, count in label_counter.most_common():\n",
        "    print(f\"{label}: {count}\")"
      ],
      "metadata": {
        "trusted": true,
        "colab": {
          "base_uri": "https://localhost:8080/"
        },
        "id": "22cbNtbrtoRI",
        "outputId": "6b6f1f9d-7ef8-47b5-f5db-ddc41950dd9e"
      },
      "outputs": [
        {
          "output_type": "stream",
          "name": "stdout",
          "text": [
            "named dataset: 1497\n",
            "unnamed dataset: 240\n",
            "vague dataset: 72\n",
            "citation data source: 25\n",
            "document data source: 19\n"
          ]
        }
      ],
      "execution_count": null
    },
    {
      "cell_type": "code",
      "source": [
        "train_data = train_data.to_dict(orient='records')"
      ],
      "metadata": {
        "trusted": true,
        "id": "sza7sNrVtoRI"
      },
      "outputs": [],
      "execution_count": null
    },
    {
      "cell_type": "code",
      "source": [
        "# Convert and split the data into training, validation, and testing datasets\n",
        "training_data = convert(train_data, project_path='', train_split=0.9, eval_split=0.1, test_split=0.0,\n",
        "                        train_file='train_annot.json', eval_file='eval_annot.json', test_file='test.json', overwrite=True)\n",
        "import pandas as pd\n",
        "pd.read_json(\"assets/eval_annot.json\")[:5]\n",
        "device = torch.device('cuda:0') if torch.cuda.is_available() else torch.device('cpu')"
      ],
      "metadata": {
        "trusted": true,
        "colab": {
          "base_uri": "https://localhost:8080/"
        },
        "id": "7YNqGP2CtoRI",
        "outputId": "0197fc7b-9bab-4036-f8d2-310724f8558d"
      },
      "outputs": [
        {
          "output_type": "stream",
          "name": "stdout",
          "text": [
            "Data saved to assets/train_annot.json\n",
            "Data saved to assets/eval_annot.json\n"
          ]
        }
      ],
      "execution_count": null
    },
    {
      "cell_type": "code",
      "source": [
        "# use it for better performance, it mimics original implementation but it's less memory efficient\n",
        "data_collator = DataCollator(model.config, data_processor=model.data_processor, prepare_labels=True)\n",
        "import warnings\n",
        "warnings.filterwarnings(\"ignore\")\n",
        "train_dataset = load_json_data(\"assets/train_annot.json\")\n",
        "test_dataset = load_json_data(\"assets/eval_annot.json\")"
      ],
      "metadata": {
        "trusted": true,
        "id": "TxLu4aLJtoRI"
      },
      "outputs": [],
      "execution_count": null
    },
    {
      "cell_type": "code",
      "source": [
        "import torch\n",
        "torch.cuda.empty_cache()"
      ],
      "metadata": {
        "id": "v3sBtCCP2VH6"
      },
      "execution_count": null,
      "outputs": []
    },
    {
      "cell_type": "code",
      "source": [
        "# calculate number of epochs\n",
        "num_steps = 500\n",
        "batch_size = 4\n",
        "data_size = len(train_dataset)\n",
        "num_batches = data_size // batch_size\n",
        "num_epochs = max(1, num_steps // num_batches)\n",
        "#num_epochs = 4\n",
        "training_args = TrainingArguments(\n",
        "    output_dir=\"models\",\n",
        "    learning_rate=5e-6,\n",
        "    weight_decay=0.01,\n",
        "    others_lr=1e-5,\n",
        "    others_weight_decay=0.01,\n",
        "    lr_scheduler_type=\"linear\", #fine tuning\n",
        "    warmup_ratio=0.1,\n",
        "    per_device_train_batch_size=batch_size,\n",
        "    per_device_eval_batch_size=batch_size,\n",
        "    focal_loss_alpha=0.75,\n",
        "    focal_loss_gamma=2,\n",
        "    num_train_epochs=num_epochs,\n",
        "    eval_strategy=\"steps\",\n",
        "    save_steps = 250,\n",
        "    save_total_limit=10,\n",
        "    dataloader_num_workers = 0,\n",
        "    use_cpu = False,\n",
        "    report_to=\"none\",\n",
        "    )\n",
        "\n",
        "trainer = Trainer(\n",
        "    model=model,\n",
        "    args=training_args,\n",
        "    train_dataset=train_dataset,\n",
        "    eval_dataset=test_dataset,\n",
        "    data_collator=data_collator,\n",
        ")\n",
        "\n",
        "trainer.train()"
      ],
      "metadata": {
        "trusted": true,
        "colab": {
          "base_uri": "https://localhost:8080/",
          "height": 129
        },
        "id": "v03_yqCVtoRI",
        "outputId": "d7e58e77-c8ed-49b6-bf43-e38dbb05e45c"
      },
      "outputs": [
        {
          "output_type": "stream",
          "name": "stderr",
          "text": [
            "Asking to truncate to max_length but no maximum length is provided and the model has no predefined maximum length. Default to no truncation.\n"
          ]
        },
        {
          "output_type": "display_data",
          "data": {
            "text/plain": [
              "<IPython.core.display.HTML object>"
            ],
            "text/html": [
              "\n",
              "    <div>\n",
              "      \n",
              "      <progress value='352' max='352' style='width:300px; height:20px; vertical-align: middle;'></progress>\n",
              "      [352/352 03:36, Epoch 2/2]\n",
              "    </div>\n",
              "    <table border=\"1\" class=\"dataframe\">\n",
              "  <thead>\n",
              " <tr style=\"text-align: left;\">\n",
              "      <th>Step</th>\n",
              "      <th>Training Loss</th>\n",
              "      <th>Validation Loss</th>\n",
              "    </tr>\n",
              "  </thead>\n",
              "  <tbody>\n",
              "  </tbody>\n",
              "</table><p>"
            ]
          },
          "metadata": {}
        },
        {
          "output_type": "execute_result",
          "data": {
            "text/plain": [
              "TrainOutput(global_step=352, training_loss=5.714207042347301, metrics={'train_runtime': 216.7043, 'train_samples_per_second': 6.497, 'train_steps_per_second': 1.624, 'total_flos': 0.0, 'train_loss': 5.714207042347301, 'epoch': 2.0})"
            ]
          },
          "metadata": {},
          "execution_count": 57
        }
      ],
      "execution_count": null
    },
    {
      "cell_type": "code",
      "source": [
        "test_preds_all = []\n",
        "test_preds_dt = []\n",
        "for item in tqdm(test_data, desc=\"Annotated Evaluation\"):\n",
        "  text = \" \".join(item['tokenized_text'])\n",
        "  pred_dt = model.predict_entities(text, ['named dataset', 'unnamed dataset', 'vague dataset'], flat_ner=True, threshold=0.5)\n",
        "  pred_all = model.predict_entities(text, labels, flat_ner=True, threshold=0.5)\n",
        "  test_preds_all.append(pred_all)\n",
        "  test_preds_dt.append(pred_dt)\n",
        "test_predictions_all = [transform_predictions(ep) for ep in test_preds_all]\n",
        "test_predictions_dt = [transform_predictions(ep) for ep in test_preds_dt]"
      ],
      "metadata": {
        "trusted": true,
        "colab": {
          "base_uri": "https://localhost:8080/",
          "height": 49,
          "referenced_widgets": [
            "21b847a04a984b5e8b5634e0afe00f49",
            "1f7412cf06a8402c85188d7abdfbf01f",
            "4a340632e8a045d9a12e0120e74ca1f1",
            "dc5e5e5409544813b6143d9e9c75b2b8",
            "67a84a3c9aad434b9cb20f8b69b8844d",
            "3ded30afa03c476c885bee050cd6d5ff",
            "2462484c000b489ba4d4aa3017ddb678",
            "6c9b082852b141f6ad6138167b8273f0",
            "3ffb9fc95056438eae8250c200f2288c",
            "1f241c5b6a2e45fb88e1ff4f4c177daf",
            "4503b6a93220431caa27963c4ba94323"
          ]
        },
        "id": "ol481HIttoRJ",
        "outputId": "864a8a49-d361-4e33-bd33-da4b321a5f93"
      },
      "outputs": [
        {
          "output_type": "display_data",
          "data": {
            "text/plain": [
              "Annotated Evaluation:   0%|          | 0/77 [00:00<?, ?it/s]"
            ],
            "application/vnd.jupyter.widget-view+json": {
              "version_major": 2,
              "version_minor": 0,
              "model_id": "21b847a04a984b5e8b5634e0afe00f49"
            }
          },
          "metadata": {}
        }
      ],
      "execution_count": null
    },
    {
      "cell_type": "code",
      "source": [
        "evaluate_metrics(test_actual_all, test_predictions_all)"
      ],
      "metadata": {
        "trusted": true,
        "colab": {
          "base_uri": "https://localhost:8080/"
        },
        "id": "CCXuG0VgtoRJ",
        "outputId": "043a4b71-b4d3-47b3-c2b7-11c79fcafa61"
      },
      "outputs": [
        {
          "output_type": "execute_result",
          "data": {
            "text/plain": [
              "{'tp': 182,\n",
              " 'fp': 41,\n",
              " 'fn': 7,\n",
              " 'precision': 0.8161434977578476,\n",
              " 'recall': 0.9629629629629629,\n",
              " 'f1_score': 0.883495145631068}"
            ]
          },
          "metadata": {},
          "execution_count": 59
        }
      ],
      "execution_count": null
    },
    {
      "cell_type": "code",
      "source": [
        "evaluate_metrics(test_actual_dt, test_predictions_dt)"
      ],
      "metadata": {
        "trusted": true,
        "colab": {
          "base_uri": "https://localhost:8080/"
        },
        "id": "Zip1RyBHtoRJ",
        "outputId": "fa6a1e7a-c5af-44b1-8073-61313059a6d0"
      },
      "outputs": [
        {
          "output_type": "execute_result",
          "data": {
            "text/plain": [
              "{'tp': 176,\n",
              " 'fp': 23,\n",
              " 'fn': 10,\n",
              " 'precision': 0.8844221105527639,\n",
              " 'recall': 0.946236559139785,\n",
              " 'f1_score': 0.9142857142857144}"
            ]
          },
          "metadata": {},
          "execution_count": 60
        }
      ],
      "execution_count": null
    },
    {
      "cell_type": "code",
      "source": [
        "model.push_to_hub(\"rafmacalaba/gliner_multitask_finetuned_refugee-v1\")"
      ],
      "metadata": {
        "colab": {
          "base_uri": "https://localhost:8080/",
          "height": 184,
          "referenced_widgets": [
            "799628ca3b424d6fb16a288780dd5c95",
            "c9ba166ae8da4936af57442fce0c09b9",
            "791a31637a5e473ca8c3492c135a1362",
            "c690a2ecee174408bba2900cacb1b46f",
            "58fba2d5ba7b48f1bd5e9dff582cffc3",
            "7b777754230a49f5b108f10d76aaa2b6",
            "6670e1ff0d034bff9c716c8324446cf4",
            "ddf40763db884bcc9bde525486513fd5",
            "9662aaa1afdf4c0ab358b577d32ba0e3",
            "dfe673000e5b4792910586d82f023fa0",
            "d59c89060e1c4371b20829b645f66915",
            "7923bc53d12043c99f918eb1a56a4279",
            "085b20edb4bc4910a12e0aec08283d11",
            "7dd87684c8ee4e5198857de1e18ea031",
            "f7495096201540368c8e65176ffa5aca",
            "4d82c2ff37da474fb2b4d1fe80d38498",
            "51dad48e552945e1a1bd572a78c3bd89",
            "4d2b61c37f2a4f9da478b4187d074331",
            "3884c9a2bb1948bbb68a15ed14ae7689",
            "01928a42f6bc45289cd1ebf7106c7e7f",
            "627866633fa24a6fb8e9619819d4bd56",
            "432a14ad82974c3c8e21d589e54d608d",
            "465f646d27df453db535684969b45e8f",
            "6a22db97067f4c09a3e263ea5194741a",
            "f794dfde46964d1d97f4cbba8a9f8f4d",
            "77deaaa3c5114c20ae1e614fe48b3f31",
            "353ec813dcf0446fbf71983a7e4c9323",
            "b45fb6ffe59b4784905f6cb96bf53e34",
            "33389fd2098148d8acf61150321a50fb",
            "69de2dd94bca42fda39a56216a8524d6",
            "b7195f74686f4d2d94363ca20110ef81",
            "6c2e17414e424e939c64d6e414393ecc",
            "50457ec5897245f58df41fe4dde7ff28"
          ]
        },
        "id": "OVDd5Y3eVOID",
        "outputId": "8d219381-4951-4062-b730-b3efcd95389e"
      },
      "execution_count": null,
      "outputs": [
        {
          "output_type": "display_data",
          "data": {
            "text/plain": [
              "spm.model:   0%|          | 0.00/2.45M [00:00<?, ?B/s]"
            ],
            "application/vnd.jupyter.widget-view+json": {
              "version_major": 2,
              "version_minor": 0,
              "model_id": "799628ca3b424d6fb16a288780dd5c95"
            }
          },
          "metadata": {}
        },
        {
          "output_type": "display_data",
          "data": {
            "text/plain": [
              "pytorch_model.bin:   0%|          | 0.00/3.64G [00:00<?, ?B/s]"
            ],
            "application/vnd.jupyter.widget-view+json": {
              "version_major": 2,
              "version_minor": 0,
              "model_id": "7923bc53d12043c99f918eb1a56a4279"
            }
          },
          "metadata": {}
        },
        {
          "output_type": "display_data",
          "data": {
            "text/plain": [
              "Upload 2 LFS files:   0%|          | 0/2 [00:00<?, ?it/s]"
            ],
            "application/vnd.jupyter.widget-view+json": {
              "version_major": 2,
              "version_minor": 0,
              "model_id": "465f646d27df453db535684969b45e8f"
            }
          },
          "metadata": {}
        },
        {
          "output_type": "execute_result",
          "data": {
            "text/plain": [
              "CommitInfo(commit_url='https://huggingface.co/rafmacalaba/gliner_multitask_finetuned_refugee-v1/commit/860be6b70998b9ea9cb29b4fbfd0cbd79b359be2', commit_message='Push model using huggingface_hub.', commit_description='', oid='860be6b70998b9ea9cb29b4fbfd0cbd79b359be2', pr_url=None, repo_url=RepoUrl('https://huggingface.co/rafmacalaba/gliner_multitask_finetuned_refugee-v1', endpoint='https://huggingface.co', repo_type='model', repo_id='rafmacalaba/gliner_multitask_finetuned_refugee-v1'), pr_revision=None, pr_num=None)"
            ],
            "application/vnd.google.colaboratory.intrinsic+json": {
              "type": "string"
            }
          },
          "metadata": {},
          "execution_count": 61
        }
      ]
    },
    {
      "cell_type": "code",
      "source": [
        "test_actual_dt[:5]"
      ],
      "metadata": {
        "trusted": true,
        "colab": {
          "base_uri": "https://localhost:8080/"
        },
        "id": "SuAlxHUitoRJ",
        "outputId": "4814c88c-fc21-4b39-a029-08d92586c405"
      },
      "outputs": [
        {
          "output_type": "execute_result",
          "data": {
            "text/plain": [
              "['HEIS|HEIS|HEIS',\n",
              " 'Household , Income and Labour Dynamics in Australia ( HILDA )',\n",
              " 'humanitarian profile data|IOM ’ s DTM',\n",
              " 'Economic Freedom of the World ( EFW )|Polity IV dataset|Freedom House|Database of Political Institutions ( DPI )|JuriGlobe',\n",
              " 'phone survey|Washington Group Short Set on Disability']"
            ]
          },
          "metadata": {},
          "execution_count": 62
        }
      ],
      "execution_count": null
    },
    {
      "cell_type": "code",
      "source": [
        "test_predictions_dt[:5]"
      ],
      "metadata": {
        "trusted": true,
        "colab": {
          "base_uri": "https://localhost:8080/"
        },
        "id": "MfQM1sSStoRJ",
        "outputId": "5d46ce5c-8ac8-40a0-88c8-9147b2f78be2"
      },
      "outputs": [
        {
          "output_type": "execute_result",
          "data": {
            "text/plain": [
              "['HEIS|HEIS|HEIS',\n",
              " 'Household , Income and Labour Dynamics in Australia ( HILDA ) survey',\n",
              " 'humanitarian profile data|IOM ’ s DTM',\n",
              " 'Economic Freedom of the World ( EFW ) index|Polity IV dataset|Freedom House|Database of Political Institutions ( DPI )|JuriGlobe',\n",
              " 'phone survey|Washington Group Short Set on Disability']"
            ]
          },
          "metadata": {},
          "execution_count": 63
        }
      ],
      "execution_count": null
    },
    {
      "cell_type": "code",
      "source": [
        "test_actual_all[:5]"
      ],
      "metadata": {
        "trusted": true,
        "colab": {
          "base_uri": "https://localhost:8080/"
        },
        "id": "F2datywqtoRJ",
        "outputId": "c708127d-4afe-44b3-aa32-a8f9a5dd53d6"
      },
      "outputs": [
        {
          "output_type": "execute_result",
          "data": {
            "text/plain": [
              "['HEIS|HEIS|HEIS',\n",
              " 'Household , Income and Labour Dynamics in Australia ( HILDA )',\n",
              " 'humanitarian profile data|IOM ’ s DTM',\n",
              " 'Economic Freedom of the World ( EFW )|Polity IV dataset|Freedom House|Database of Political Institutions ( DPI )|JuriGlobe',\n",
              " 'phone survey|Washington Group Short Set on Disability']"
            ]
          },
          "metadata": {},
          "execution_count": 64
        }
      ],
      "execution_count": null
    },
    {
      "cell_type": "code",
      "source": [
        "test_predictions_all[:5]"
      ],
      "metadata": {
        "trusted": true,
        "colab": {
          "base_uri": "https://localhost:8080/"
        },
        "id": "zkiJjDdxtoRJ",
        "outputId": "e2917e0f-6593-4db9-82c2-d6c68305af60"
      },
      "outputs": [
        {
          "output_type": "execute_result",
          "data": {
            "text/plain": [
              "['HEIS|HEIS|HEIS',\n",
              " 'Household , Income and Labour Dynamics in Australia ( HILDA ) survey',\n",
              " 'humanitarian profile data|IOM ’ s DTM',\n",
              " 'Economic Freedom of the World ( EFW ) index|Polity IV dataset|Freedom House|Database of Political Institutions ( DPI )|JuriGlobe',\n",
              " 'implementing organization ’ s data|phone survey|Washington Group Short Set on Disability']"
            ]
          },
          "metadata": {},
          "execution_count": 65
        }
      ],
      "execution_count": null
    },
    {
      "cell_type": "code",
      "source": [
        "test_df = pd.DataFrame(test_data)"
      ],
      "metadata": {
        "trusted": true,
        "id": "IQLPvYA1toRJ"
      },
      "outputs": [],
      "execution_count": null
    },
    {
      "cell_type": "code",
      "source": [
        "test_df"
      ],
      "metadata": {
        "trusted": true,
        "colab": {
          "base_uri": "https://localhost:8080/",
          "height": 424
        },
        "id": "gLixa9gRtoRJ",
        "outputId": "42222683-2e97-4f5c-b43d-5b3b0ac8480a"
      },
      "outputs": [
        {
          "output_type": "execute_result",
          "data": {
            "text/plain": [
              "                                       tokenized_text  \\\n",
              "0   [32, Appendix, A, ., Identifying, Afghan, Hous...   \n",
              "1   [8, analysis, with, data, from, the, Household...   \n",
              "2   [,, but, data, are, not, comprehensive, and, n...   \n",
              "3   [7, Figure, 1, ., Economic, Freedom, Score, ,,...   \n",
              "4   [β0, +, β1Ti, +, ϵi, ., Robust, standard, erro...   \n",
              "..                                                ...   \n",
              "72  [version, of, “, are, immigrants, good, or, ba...   \n",
              "73  [regression, estimates, measuring, the, joint,...   \n",
              "74  [8, Finally, ,, we, also, apply, text, mining,...   \n",
              "75  [15, Figure, 7, ., Evolution, in, the, Share, ...   \n",
              "76  [to, equal, status, between, the, newcomers, a...   \n",
              "\n",
              "                                                  ner  validated  \n",
              "0   [[8, 8, named dataset], [8, 8, named dataset],...       True  \n",
              "1                            [[6, 16, named dataset]]       True  \n",
              "2   [[14, 16, unnamed dataset], [37, 40, named dat...       True  \n",
              "3   [[29, 36, named dataset], [44, 46, named datas...       True  \n",
              "4   [[79, 80, vague dataset], [138, 143, named dat...       True  \n",
              "..                                                ...        ...  \n",
              "72  [[33, 39, unnamed dataset], [49, 57, named dat...       True  \n",
              "73  [[78, 81, named dataset], [83, 88, named datas...       True  \n",
              "74  [[111, 115, unnamed dataset], [154, 156, unnam...       True  \n",
              "75                          [[23, 23, named dataset]]       True  \n",
              "76  [[22, 26, unnamed dataset], [42, 46, named dat...       True  \n",
              "\n",
              "[77 rows x 3 columns]"
            ],
            "text/html": [
              "\n",
              "  <div id=\"df-6bfac612-adf1-4dd6-afc2-f8a30631f4d6\" class=\"colab-df-container\">\n",
              "    <div>\n",
              "<style scoped>\n",
              "    .dataframe tbody tr th:only-of-type {\n",
              "        vertical-align: middle;\n",
              "    }\n",
              "\n",
              "    .dataframe tbody tr th {\n",
              "        vertical-align: top;\n",
              "    }\n",
              "\n",
              "    .dataframe thead th {\n",
              "        text-align: right;\n",
              "    }\n",
              "</style>\n",
              "<table border=\"1\" class=\"dataframe\">\n",
              "  <thead>\n",
              "    <tr style=\"text-align: right;\">\n",
              "      <th></th>\n",
              "      <th>tokenized_text</th>\n",
              "      <th>ner</th>\n",
              "      <th>validated</th>\n",
              "    </tr>\n",
              "  </thead>\n",
              "  <tbody>\n",
              "    <tr>\n",
              "      <th>0</th>\n",
              "      <td>[32, Appendix, A, ., Identifying, Afghan, Hous...</td>\n",
              "      <td>[[8, 8, named dataset], [8, 8, named dataset],...</td>\n",
              "      <td>True</td>\n",
              "    </tr>\n",
              "    <tr>\n",
              "      <th>1</th>\n",
              "      <td>[8, analysis, with, data, from, the, Household...</td>\n",
              "      <td>[[6, 16, named dataset]]</td>\n",
              "      <td>True</td>\n",
              "    </tr>\n",
              "    <tr>\n",
              "      <th>2</th>\n",
              "      <td>[,, but, data, are, not, comprehensive, and, n...</td>\n",
              "      <td>[[14, 16, unnamed dataset], [37, 40, named dat...</td>\n",
              "      <td>True</td>\n",
              "    </tr>\n",
              "    <tr>\n",
              "      <th>3</th>\n",
              "      <td>[7, Figure, 1, ., Economic, Freedom, Score, ,,...</td>\n",
              "      <td>[[29, 36, named dataset], [44, 46, named datas...</td>\n",
              "      <td>True</td>\n",
              "    </tr>\n",
              "    <tr>\n",
              "      <th>4</th>\n",
              "      <td>[β0, +, β1Ti, +, ϵi, ., Robust, standard, erro...</td>\n",
              "      <td>[[79, 80, vague dataset], [138, 143, named dat...</td>\n",
              "      <td>True</td>\n",
              "    </tr>\n",
              "    <tr>\n",
              "      <th>...</th>\n",
              "      <td>...</td>\n",
              "      <td>...</td>\n",
              "      <td>...</td>\n",
              "    </tr>\n",
              "    <tr>\n",
              "      <th>72</th>\n",
              "      <td>[version, of, “, are, immigrants, good, or, ba...</td>\n",
              "      <td>[[33, 39, unnamed dataset], [49, 57, named dat...</td>\n",
              "      <td>True</td>\n",
              "    </tr>\n",
              "    <tr>\n",
              "      <th>73</th>\n",
              "      <td>[regression, estimates, measuring, the, joint,...</td>\n",
              "      <td>[[78, 81, named dataset], [83, 88, named datas...</td>\n",
              "      <td>True</td>\n",
              "    </tr>\n",
              "    <tr>\n",
              "      <th>74</th>\n",
              "      <td>[8, Finally, ,, we, also, apply, text, mining,...</td>\n",
              "      <td>[[111, 115, unnamed dataset], [154, 156, unnam...</td>\n",
              "      <td>True</td>\n",
              "    </tr>\n",
              "    <tr>\n",
              "      <th>75</th>\n",
              "      <td>[15, Figure, 7, ., Evolution, in, the, Share, ...</td>\n",
              "      <td>[[23, 23, named dataset]]</td>\n",
              "      <td>True</td>\n",
              "    </tr>\n",
              "    <tr>\n",
              "      <th>76</th>\n",
              "      <td>[to, equal, status, between, the, newcomers, a...</td>\n",
              "      <td>[[22, 26, unnamed dataset], [42, 46, named dat...</td>\n",
              "      <td>True</td>\n",
              "    </tr>\n",
              "  </tbody>\n",
              "</table>\n",
              "<p>77 rows × 3 columns</p>\n",
              "</div>\n",
              "    <div class=\"colab-df-buttons\">\n",
              "\n",
              "  <div class=\"colab-df-container\">\n",
              "    <button class=\"colab-df-convert\" onclick=\"convertToInteractive('df-6bfac612-adf1-4dd6-afc2-f8a30631f4d6')\"\n",
              "            title=\"Convert this dataframe to an interactive table.\"\n",
              "            style=\"display:none;\">\n",
              "\n",
              "  <svg xmlns=\"http://www.w3.org/2000/svg\" height=\"24px\" viewBox=\"0 -960 960 960\">\n",
              "    <path d=\"M120-120v-720h720v720H120Zm60-500h600v-160H180v160Zm220 220h160v-160H400v160Zm0 220h160v-160H400v160ZM180-400h160v-160H180v160Zm440 0h160v-160H620v160ZM180-180h160v-160H180v160Zm440 0h160v-160H620v160Z\"/>\n",
              "  </svg>\n",
              "    </button>\n",
              "\n",
              "  <style>\n",
              "    .colab-df-container {\n",
              "      display:flex;\n",
              "      gap: 12px;\n",
              "    }\n",
              "\n",
              "    .colab-df-convert {\n",
              "      background-color: #E8F0FE;\n",
              "      border: none;\n",
              "      border-radius: 50%;\n",
              "      cursor: pointer;\n",
              "      display: none;\n",
              "      fill: #1967D2;\n",
              "      height: 32px;\n",
              "      padding: 0 0 0 0;\n",
              "      width: 32px;\n",
              "    }\n",
              "\n",
              "    .colab-df-convert:hover {\n",
              "      background-color: #E2EBFA;\n",
              "      box-shadow: 0px 1px 2px rgba(60, 64, 67, 0.3), 0px 1px 3px 1px rgba(60, 64, 67, 0.15);\n",
              "      fill: #174EA6;\n",
              "    }\n",
              "\n",
              "    .colab-df-buttons div {\n",
              "      margin-bottom: 4px;\n",
              "    }\n",
              "\n",
              "    [theme=dark] .colab-df-convert {\n",
              "      background-color: #3B4455;\n",
              "      fill: #D2E3FC;\n",
              "    }\n",
              "\n",
              "    [theme=dark] .colab-df-convert:hover {\n",
              "      background-color: #434B5C;\n",
              "      box-shadow: 0px 1px 3px 1px rgba(0, 0, 0, 0.15);\n",
              "      filter: drop-shadow(0px 1px 2px rgba(0, 0, 0, 0.3));\n",
              "      fill: #FFFFFF;\n",
              "    }\n",
              "  </style>\n",
              "\n",
              "    <script>\n",
              "      const buttonEl =\n",
              "        document.querySelector('#df-6bfac612-adf1-4dd6-afc2-f8a30631f4d6 button.colab-df-convert');\n",
              "      buttonEl.style.display =\n",
              "        google.colab.kernel.accessAllowed ? 'block' : 'none';\n",
              "\n",
              "      async function convertToInteractive(key) {\n",
              "        const element = document.querySelector('#df-6bfac612-adf1-4dd6-afc2-f8a30631f4d6');\n",
              "        const dataTable =\n",
              "          await google.colab.kernel.invokeFunction('convertToInteractive',\n",
              "                                                    [key], {});\n",
              "        if (!dataTable) return;\n",
              "\n",
              "        const docLinkHtml = 'Like what you see? Visit the ' +\n",
              "          '<a target=\"_blank\" href=https://colab.research.google.com/notebooks/data_table.ipynb>data table notebook</a>'\n",
              "          + ' to learn more about interactive tables.';\n",
              "        element.innerHTML = '';\n",
              "        dataTable['output_type'] = 'display_data';\n",
              "        await google.colab.output.renderOutput(dataTable, element);\n",
              "        const docLink = document.createElement('div');\n",
              "        docLink.innerHTML = docLinkHtml;\n",
              "        element.appendChild(docLink);\n",
              "      }\n",
              "    </script>\n",
              "  </div>\n",
              "\n",
              "\n",
              "    <div id=\"df-e53af18a-ccaa-4611-bf56-51907f03f95b\">\n",
              "      <button class=\"colab-df-quickchart\" onclick=\"quickchart('df-e53af18a-ccaa-4611-bf56-51907f03f95b')\"\n",
              "                title=\"Suggest charts\"\n",
              "                style=\"display:none;\">\n",
              "\n",
              "<svg xmlns=\"http://www.w3.org/2000/svg\" height=\"24px\"viewBox=\"0 0 24 24\"\n",
              "     width=\"24px\">\n",
              "    <g>\n",
              "        <path d=\"M19 3H5c-1.1 0-2 .9-2 2v14c0 1.1.9 2 2 2h14c1.1 0 2-.9 2-2V5c0-1.1-.9-2-2-2zM9 17H7v-7h2v7zm4 0h-2V7h2v10zm4 0h-2v-4h2v4z\"/>\n",
              "    </g>\n",
              "</svg>\n",
              "      </button>\n",
              "\n",
              "<style>\n",
              "  .colab-df-quickchart {\n",
              "      --bg-color: #E8F0FE;\n",
              "      --fill-color: #1967D2;\n",
              "      --hover-bg-color: #E2EBFA;\n",
              "      --hover-fill-color: #174EA6;\n",
              "      --disabled-fill-color: #AAA;\n",
              "      --disabled-bg-color: #DDD;\n",
              "  }\n",
              "\n",
              "  [theme=dark] .colab-df-quickchart {\n",
              "      --bg-color: #3B4455;\n",
              "      --fill-color: #D2E3FC;\n",
              "      --hover-bg-color: #434B5C;\n",
              "      --hover-fill-color: #FFFFFF;\n",
              "      --disabled-bg-color: #3B4455;\n",
              "      --disabled-fill-color: #666;\n",
              "  }\n",
              "\n",
              "  .colab-df-quickchart {\n",
              "    background-color: var(--bg-color);\n",
              "    border: none;\n",
              "    border-radius: 50%;\n",
              "    cursor: pointer;\n",
              "    display: none;\n",
              "    fill: var(--fill-color);\n",
              "    height: 32px;\n",
              "    padding: 0;\n",
              "    width: 32px;\n",
              "  }\n",
              "\n",
              "  .colab-df-quickchart:hover {\n",
              "    background-color: var(--hover-bg-color);\n",
              "    box-shadow: 0 1px 2px rgba(60, 64, 67, 0.3), 0 1px 3px 1px rgba(60, 64, 67, 0.15);\n",
              "    fill: var(--button-hover-fill-color);\n",
              "  }\n",
              "\n",
              "  .colab-df-quickchart-complete:disabled,\n",
              "  .colab-df-quickchart-complete:disabled:hover {\n",
              "    background-color: var(--disabled-bg-color);\n",
              "    fill: var(--disabled-fill-color);\n",
              "    box-shadow: none;\n",
              "  }\n",
              "\n",
              "  .colab-df-spinner {\n",
              "    border: 2px solid var(--fill-color);\n",
              "    border-color: transparent;\n",
              "    border-bottom-color: var(--fill-color);\n",
              "    animation:\n",
              "      spin 1s steps(1) infinite;\n",
              "  }\n",
              "\n",
              "  @keyframes spin {\n",
              "    0% {\n",
              "      border-color: transparent;\n",
              "      border-bottom-color: var(--fill-color);\n",
              "      border-left-color: var(--fill-color);\n",
              "    }\n",
              "    20% {\n",
              "      border-color: transparent;\n",
              "      border-left-color: var(--fill-color);\n",
              "      border-top-color: var(--fill-color);\n",
              "    }\n",
              "    30% {\n",
              "      border-color: transparent;\n",
              "      border-left-color: var(--fill-color);\n",
              "      border-top-color: var(--fill-color);\n",
              "      border-right-color: var(--fill-color);\n",
              "    }\n",
              "    40% {\n",
              "      border-color: transparent;\n",
              "      border-right-color: var(--fill-color);\n",
              "      border-top-color: var(--fill-color);\n",
              "    }\n",
              "    60% {\n",
              "      border-color: transparent;\n",
              "      border-right-color: var(--fill-color);\n",
              "    }\n",
              "    80% {\n",
              "      border-color: transparent;\n",
              "      border-right-color: var(--fill-color);\n",
              "      border-bottom-color: var(--fill-color);\n",
              "    }\n",
              "    90% {\n",
              "      border-color: transparent;\n",
              "      border-bottom-color: var(--fill-color);\n",
              "    }\n",
              "  }\n",
              "</style>\n",
              "\n",
              "      <script>\n",
              "        async function quickchart(key) {\n",
              "          const quickchartButtonEl =\n",
              "            document.querySelector('#' + key + ' button');\n",
              "          quickchartButtonEl.disabled = true;  // To prevent multiple clicks.\n",
              "          quickchartButtonEl.classList.add('colab-df-spinner');\n",
              "          try {\n",
              "            const charts = await google.colab.kernel.invokeFunction(\n",
              "                'suggestCharts', [key], {});\n",
              "          } catch (error) {\n",
              "            console.error('Error during call to suggestCharts:', error);\n",
              "          }\n",
              "          quickchartButtonEl.classList.remove('colab-df-spinner');\n",
              "          quickchartButtonEl.classList.add('colab-df-quickchart-complete');\n",
              "        }\n",
              "        (() => {\n",
              "          let quickchartButtonEl =\n",
              "            document.querySelector('#df-e53af18a-ccaa-4611-bf56-51907f03f95b button');\n",
              "          quickchartButtonEl.style.display =\n",
              "            google.colab.kernel.accessAllowed ? 'block' : 'none';\n",
              "        })();\n",
              "      </script>\n",
              "    </div>\n",
              "\n",
              "  <div id=\"id_48ec2fd7-6518-4d0f-822b-b61e14d556d8\">\n",
              "    <style>\n",
              "      .colab-df-generate {\n",
              "        background-color: #E8F0FE;\n",
              "        border: none;\n",
              "        border-radius: 50%;\n",
              "        cursor: pointer;\n",
              "        display: none;\n",
              "        fill: #1967D2;\n",
              "        height: 32px;\n",
              "        padding: 0 0 0 0;\n",
              "        width: 32px;\n",
              "      }\n",
              "\n",
              "      .colab-df-generate:hover {\n",
              "        background-color: #E2EBFA;\n",
              "        box-shadow: 0px 1px 2px rgba(60, 64, 67, 0.3), 0px 1px 3px 1px rgba(60, 64, 67, 0.15);\n",
              "        fill: #174EA6;\n",
              "      }\n",
              "\n",
              "      [theme=dark] .colab-df-generate {\n",
              "        background-color: #3B4455;\n",
              "        fill: #D2E3FC;\n",
              "      }\n",
              "\n",
              "      [theme=dark] .colab-df-generate:hover {\n",
              "        background-color: #434B5C;\n",
              "        box-shadow: 0px 1px 3px 1px rgba(0, 0, 0, 0.15);\n",
              "        filter: drop-shadow(0px 1px 2px rgba(0, 0, 0, 0.3));\n",
              "        fill: #FFFFFF;\n",
              "      }\n",
              "    </style>\n",
              "    <button class=\"colab-df-generate\" onclick=\"generateWithVariable('test_df')\"\n",
              "            title=\"Generate code using this dataframe.\"\n",
              "            style=\"display:none;\">\n",
              "\n",
              "  <svg xmlns=\"http://www.w3.org/2000/svg\" height=\"24px\"viewBox=\"0 0 24 24\"\n",
              "       width=\"24px\">\n",
              "    <path d=\"M7,19H8.4L18.45,9,17,7.55,7,17.6ZM5,21V16.75L18.45,3.32a2,2,0,0,1,2.83,0l1.4,1.43a1.91,1.91,0,0,1,.58,1.4,1.91,1.91,0,0,1-.58,1.4L9.25,21ZM18.45,9,17,7.55Zm-12,3A5.31,5.31,0,0,0,4.9,8.1,5.31,5.31,0,0,0,1,6.5,5.31,5.31,0,0,0,4.9,4.9,5.31,5.31,0,0,0,6.5,1,5.31,5.31,0,0,0,8.1,4.9,5.31,5.31,0,0,0,12,6.5,5.46,5.46,0,0,0,6.5,12Z\"/>\n",
              "  </svg>\n",
              "    </button>\n",
              "    <script>\n",
              "      (() => {\n",
              "      const buttonEl =\n",
              "        document.querySelector('#id_48ec2fd7-6518-4d0f-822b-b61e14d556d8 button.colab-df-generate');\n",
              "      buttonEl.style.display =\n",
              "        google.colab.kernel.accessAllowed ? 'block' : 'none';\n",
              "\n",
              "      buttonEl.onclick = () => {\n",
              "        google.colab.notebook.generateWithVariable('test_df');\n",
              "      }\n",
              "      })();\n",
              "    </script>\n",
              "  </div>\n",
              "\n",
              "    </div>\n",
              "  </div>\n"
            ],
            "application/vnd.google.colaboratory.intrinsic+json": {
              "type": "dataframe",
              "variable_name": "test_df",
              "summary": "{\n  \"name\": \"test_df\",\n  \"rows\": 77,\n  \"fields\": [\n    {\n      \"column\": \"tokenized_text\",\n      \"properties\": {\n        \"dtype\": \"object\",\n        \"semantic_type\": \"\",\n        \"description\": \"\"\n      }\n    },\n    {\n      \"column\": \"ner\",\n      \"properties\": {\n        \"dtype\": \"object\",\n        \"semantic_type\": \"\",\n        \"description\": \"\"\n      }\n    },\n    {\n      \"column\": \"validated\",\n      \"properties\": {\n        \"dtype\": \"boolean\",\n        \"num_unique_values\": 1,\n        \"samples\": [\n          true\n        ],\n        \"semantic_type\": \"\",\n        \"description\": \"\"\n      }\n    }\n  ]\n}"
            }
          },
          "metadata": {},
          "execution_count": 67
        }
      ],
      "execution_count": null
    },
    {
      "cell_type": "code",
      "source": [
        "test_df['validated'] = False\n",
        "test_df['entities'] = test_preds_all"
      ],
      "metadata": {
        "trusted": true,
        "id": "5I5y_21utoRJ"
      },
      "outputs": [],
      "execution_count": null
    },
    {
      "cell_type": "code",
      "source": [
        "test_df.iloc[0]['entities']"
      ],
      "metadata": {
        "trusted": true,
        "colab": {
          "base_uri": "https://localhost:8080/"
        },
        "id": "hehIo7gMtoRJ",
        "outputId": "35664279-1f87-4cfb-f4bb-0a41090e607a"
      },
      "outputs": [
        {
          "output_type": "execute_result",
          "data": {
            "text/plain": [
              "[{'start': 49,\n",
              "  'end': 53,\n",
              "  'text': 'HEIS',\n",
              "  'label': 'named dataset',\n",
              "  'score': 0.7732076048851013},\n",
              " {'start': 88,\n",
              "  'end': 92,\n",
              "  'text': 'HEIS',\n",
              "  'label': 'named dataset',\n",
              "  'score': 0.7744329571723938},\n",
              " {'start': 424,\n",
              "  'end': 428,\n",
              "  'text': 'HEIS',\n",
              "  'label': 'named dataset',\n",
              "  'score': 0.6559640765190125}]"
            ]
          },
          "metadata": {},
          "execution_count": 69
        }
      ],
      "execution_count": null
    },
    {
      "cell_type": "code",
      "source": [
        "test_df"
      ],
      "metadata": {
        "trusted": true,
        "colab": {
          "base_uri": "https://localhost:8080/",
          "height": 424
        },
        "id": "DzZK2WfOtoRJ",
        "outputId": "59585689-fb42-4845-fc32-c81db8c3e297"
      },
      "outputs": [
        {
          "output_type": "execute_result",
          "data": {
            "text/plain": [
              "                                       tokenized_text  \\\n",
              "0   [32, Appendix, A, ., Identifying, Afghan, Hous...   \n",
              "1   [8, analysis, with, data, from, the, Household...   \n",
              "2   [,, but, data, are, not, comprehensive, and, n...   \n",
              "3   [7, Figure, 1, ., Economic, Freedom, Score, ,,...   \n",
              "4   [β0, +, β1Ti, +, ϵi, ., Robust, standard, erro...   \n",
              "..                                                ...   \n",
              "72  [version, of, “, are, immigrants, good, or, ba...   \n",
              "73  [regression, estimates, measuring, the, joint,...   \n",
              "74  [8, Finally, ,, we, also, apply, text, mining,...   \n",
              "75  [15, Figure, 7, ., Evolution, in, the, Share, ...   \n",
              "76  [to, equal, status, between, the, newcomers, a...   \n",
              "\n",
              "                                                  ner  validated  \\\n",
              "0   [[8, 8, named dataset], [8, 8, named dataset],...      False   \n",
              "1                            [[6, 16, named dataset]]      False   \n",
              "2   [[14, 16, unnamed dataset], [37, 40, named dat...      False   \n",
              "3   [[29, 36, named dataset], [44, 46, named datas...      False   \n",
              "4   [[79, 80, vague dataset], [138, 143, named dat...      False   \n",
              "..                                                ...        ...   \n",
              "72  [[33, 39, unnamed dataset], [49, 57, named dat...      False   \n",
              "73  [[78, 81, named dataset], [83, 88, named datas...      False   \n",
              "74  [[111, 115, unnamed dataset], [154, 156, unnam...      False   \n",
              "75                          [[23, 23, named dataset]]      False   \n",
              "76  [[22, 26, unnamed dataset], [42, 46, named dat...      False   \n",
              "\n",
              "                                             entities  \n",
              "0   [{'start': 49, 'end': 53, 'text': 'HEIS', 'lab...  \n",
              "1   [{'start': 30, 'end': 98, 'text': 'Household ,...  \n",
              "2   [{'start': 75, 'end': 100, 'text': 'humanitari...  \n",
              "3   [{'start': 137, 'end': 180, 'text': 'Economic ...  \n",
              "4   [{'start': 247, 'end': 281, 'text': 'implement...  \n",
              "..                                                ...  \n",
              "72  [{'start': 241, 'end': 308, 'text': 'Developin...  \n",
              "73  [{'start': 345, 'end': 373, 'text': '1928 Gree...  \n",
              "74  [{'start': 638, 'end': 677, 'text': 'publicly ...  \n",
              "75  [{'start': 123, 'end': 128, 'text': 'SRHCS', '...  \n",
              "76  [{'start': 94, 'end': 125, 'text': 'Historical...  \n",
              "\n",
              "[77 rows x 4 columns]"
            ],
            "text/html": [
              "\n",
              "  <div id=\"df-17da9121-c916-4414-ac28-ab037e50d121\" class=\"colab-df-container\">\n",
              "    <div>\n",
              "<style scoped>\n",
              "    .dataframe tbody tr th:only-of-type {\n",
              "        vertical-align: middle;\n",
              "    }\n",
              "\n",
              "    .dataframe tbody tr th {\n",
              "        vertical-align: top;\n",
              "    }\n",
              "\n",
              "    .dataframe thead th {\n",
              "        text-align: right;\n",
              "    }\n",
              "</style>\n",
              "<table border=\"1\" class=\"dataframe\">\n",
              "  <thead>\n",
              "    <tr style=\"text-align: right;\">\n",
              "      <th></th>\n",
              "      <th>tokenized_text</th>\n",
              "      <th>ner</th>\n",
              "      <th>validated</th>\n",
              "      <th>entities</th>\n",
              "    </tr>\n",
              "  </thead>\n",
              "  <tbody>\n",
              "    <tr>\n",
              "      <th>0</th>\n",
              "      <td>[32, Appendix, A, ., Identifying, Afghan, Hous...</td>\n",
              "      <td>[[8, 8, named dataset], [8, 8, named dataset],...</td>\n",
              "      <td>False</td>\n",
              "      <td>[{'start': 49, 'end': 53, 'text': 'HEIS', 'lab...</td>\n",
              "    </tr>\n",
              "    <tr>\n",
              "      <th>1</th>\n",
              "      <td>[8, analysis, with, data, from, the, Household...</td>\n",
              "      <td>[[6, 16, named dataset]]</td>\n",
              "      <td>False</td>\n",
              "      <td>[{'start': 30, 'end': 98, 'text': 'Household ,...</td>\n",
              "    </tr>\n",
              "    <tr>\n",
              "      <th>2</th>\n",
              "      <td>[,, but, data, are, not, comprehensive, and, n...</td>\n",
              "      <td>[[14, 16, unnamed dataset], [37, 40, named dat...</td>\n",
              "      <td>False</td>\n",
              "      <td>[{'start': 75, 'end': 100, 'text': 'humanitari...</td>\n",
              "    </tr>\n",
              "    <tr>\n",
              "      <th>3</th>\n",
              "      <td>[7, Figure, 1, ., Economic, Freedom, Score, ,,...</td>\n",
              "      <td>[[29, 36, named dataset], [44, 46, named datas...</td>\n",
              "      <td>False</td>\n",
              "      <td>[{'start': 137, 'end': 180, 'text': 'Economic ...</td>\n",
              "    </tr>\n",
              "    <tr>\n",
              "      <th>4</th>\n",
              "      <td>[β0, +, β1Ti, +, ϵi, ., Robust, standard, erro...</td>\n",
              "      <td>[[79, 80, vague dataset], [138, 143, named dat...</td>\n",
              "      <td>False</td>\n",
              "      <td>[{'start': 247, 'end': 281, 'text': 'implement...</td>\n",
              "    </tr>\n",
              "    <tr>\n",
              "      <th>...</th>\n",
              "      <td>...</td>\n",
              "      <td>...</td>\n",
              "      <td>...</td>\n",
              "      <td>...</td>\n",
              "    </tr>\n",
              "    <tr>\n",
              "      <th>72</th>\n",
              "      <td>[version, of, “, are, immigrants, good, or, ba...</td>\n",
              "      <td>[[33, 39, unnamed dataset], [49, 57, named dat...</td>\n",
              "      <td>False</td>\n",
              "      <td>[{'start': 241, 'end': 308, 'text': 'Developin...</td>\n",
              "    </tr>\n",
              "    <tr>\n",
              "      <th>73</th>\n",
              "      <td>[regression, estimates, measuring, the, joint,...</td>\n",
              "      <td>[[78, 81, named dataset], [83, 88, named datas...</td>\n",
              "      <td>False</td>\n",
              "      <td>[{'start': 345, 'end': 373, 'text': '1928 Gree...</td>\n",
              "    </tr>\n",
              "    <tr>\n",
              "      <th>74</th>\n",
              "      <td>[8, Finally, ,, we, also, apply, text, mining,...</td>\n",
              "      <td>[[111, 115, unnamed dataset], [154, 156, unnam...</td>\n",
              "      <td>False</td>\n",
              "      <td>[{'start': 638, 'end': 677, 'text': 'publicly ...</td>\n",
              "    </tr>\n",
              "    <tr>\n",
              "      <th>75</th>\n",
              "      <td>[15, Figure, 7, ., Evolution, in, the, Share, ...</td>\n",
              "      <td>[[23, 23, named dataset]]</td>\n",
              "      <td>False</td>\n",
              "      <td>[{'start': 123, 'end': 128, 'text': 'SRHCS', '...</td>\n",
              "    </tr>\n",
              "    <tr>\n",
              "      <th>76</th>\n",
              "      <td>[to, equal, status, between, the, newcomers, a...</td>\n",
              "      <td>[[22, 26, unnamed dataset], [42, 46, named dat...</td>\n",
              "      <td>False</td>\n",
              "      <td>[{'start': 94, 'end': 125, 'text': 'Historical...</td>\n",
              "    </tr>\n",
              "  </tbody>\n",
              "</table>\n",
              "<p>77 rows × 4 columns</p>\n",
              "</div>\n",
              "    <div class=\"colab-df-buttons\">\n",
              "\n",
              "  <div class=\"colab-df-container\">\n",
              "    <button class=\"colab-df-convert\" onclick=\"convertToInteractive('df-17da9121-c916-4414-ac28-ab037e50d121')\"\n",
              "            title=\"Convert this dataframe to an interactive table.\"\n",
              "            style=\"display:none;\">\n",
              "\n",
              "  <svg xmlns=\"http://www.w3.org/2000/svg\" height=\"24px\" viewBox=\"0 -960 960 960\">\n",
              "    <path d=\"M120-120v-720h720v720H120Zm60-500h600v-160H180v160Zm220 220h160v-160H400v160Zm0 220h160v-160H400v160ZM180-400h160v-160H180v160Zm440 0h160v-160H620v160ZM180-180h160v-160H180v160Zm440 0h160v-160H620v160Z\"/>\n",
              "  </svg>\n",
              "    </button>\n",
              "\n",
              "  <style>\n",
              "    .colab-df-container {\n",
              "      display:flex;\n",
              "      gap: 12px;\n",
              "    }\n",
              "\n",
              "    .colab-df-convert {\n",
              "      background-color: #E8F0FE;\n",
              "      border: none;\n",
              "      border-radius: 50%;\n",
              "      cursor: pointer;\n",
              "      display: none;\n",
              "      fill: #1967D2;\n",
              "      height: 32px;\n",
              "      padding: 0 0 0 0;\n",
              "      width: 32px;\n",
              "    }\n",
              "\n",
              "    .colab-df-convert:hover {\n",
              "      background-color: #E2EBFA;\n",
              "      box-shadow: 0px 1px 2px rgba(60, 64, 67, 0.3), 0px 1px 3px 1px rgba(60, 64, 67, 0.15);\n",
              "      fill: #174EA6;\n",
              "    }\n",
              "\n",
              "    .colab-df-buttons div {\n",
              "      margin-bottom: 4px;\n",
              "    }\n",
              "\n",
              "    [theme=dark] .colab-df-convert {\n",
              "      background-color: #3B4455;\n",
              "      fill: #D2E3FC;\n",
              "    }\n",
              "\n",
              "    [theme=dark] .colab-df-convert:hover {\n",
              "      background-color: #434B5C;\n",
              "      box-shadow: 0px 1px 3px 1px rgba(0, 0, 0, 0.15);\n",
              "      filter: drop-shadow(0px 1px 2px rgba(0, 0, 0, 0.3));\n",
              "      fill: #FFFFFF;\n",
              "    }\n",
              "  </style>\n",
              "\n",
              "    <script>\n",
              "      const buttonEl =\n",
              "        document.querySelector('#df-17da9121-c916-4414-ac28-ab037e50d121 button.colab-df-convert');\n",
              "      buttonEl.style.display =\n",
              "        google.colab.kernel.accessAllowed ? 'block' : 'none';\n",
              "\n",
              "      async function convertToInteractive(key) {\n",
              "        const element = document.querySelector('#df-17da9121-c916-4414-ac28-ab037e50d121');\n",
              "        const dataTable =\n",
              "          await google.colab.kernel.invokeFunction('convertToInteractive',\n",
              "                                                    [key], {});\n",
              "        if (!dataTable) return;\n",
              "\n",
              "        const docLinkHtml = 'Like what you see? Visit the ' +\n",
              "          '<a target=\"_blank\" href=https://colab.research.google.com/notebooks/data_table.ipynb>data table notebook</a>'\n",
              "          + ' to learn more about interactive tables.';\n",
              "        element.innerHTML = '';\n",
              "        dataTable['output_type'] = 'display_data';\n",
              "        await google.colab.output.renderOutput(dataTable, element);\n",
              "        const docLink = document.createElement('div');\n",
              "        docLink.innerHTML = docLinkHtml;\n",
              "        element.appendChild(docLink);\n",
              "      }\n",
              "    </script>\n",
              "  </div>\n",
              "\n",
              "\n",
              "    <div id=\"df-fb8324cb-470a-4725-98be-e37ca19734b4\">\n",
              "      <button class=\"colab-df-quickchart\" onclick=\"quickchart('df-fb8324cb-470a-4725-98be-e37ca19734b4')\"\n",
              "                title=\"Suggest charts\"\n",
              "                style=\"display:none;\">\n",
              "\n",
              "<svg xmlns=\"http://www.w3.org/2000/svg\" height=\"24px\"viewBox=\"0 0 24 24\"\n",
              "     width=\"24px\">\n",
              "    <g>\n",
              "        <path d=\"M19 3H5c-1.1 0-2 .9-2 2v14c0 1.1.9 2 2 2h14c1.1 0 2-.9 2-2V5c0-1.1-.9-2-2-2zM9 17H7v-7h2v7zm4 0h-2V7h2v10zm4 0h-2v-4h2v4z\"/>\n",
              "    </g>\n",
              "</svg>\n",
              "      </button>\n",
              "\n",
              "<style>\n",
              "  .colab-df-quickchart {\n",
              "      --bg-color: #E8F0FE;\n",
              "      --fill-color: #1967D2;\n",
              "      --hover-bg-color: #E2EBFA;\n",
              "      --hover-fill-color: #174EA6;\n",
              "      --disabled-fill-color: #AAA;\n",
              "      --disabled-bg-color: #DDD;\n",
              "  }\n",
              "\n",
              "  [theme=dark] .colab-df-quickchart {\n",
              "      --bg-color: #3B4455;\n",
              "      --fill-color: #D2E3FC;\n",
              "      --hover-bg-color: #434B5C;\n",
              "      --hover-fill-color: #FFFFFF;\n",
              "      --disabled-bg-color: #3B4455;\n",
              "      --disabled-fill-color: #666;\n",
              "  }\n",
              "\n",
              "  .colab-df-quickchart {\n",
              "    background-color: var(--bg-color);\n",
              "    border: none;\n",
              "    border-radius: 50%;\n",
              "    cursor: pointer;\n",
              "    display: none;\n",
              "    fill: var(--fill-color);\n",
              "    height: 32px;\n",
              "    padding: 0;\n",
              "    width: 32px;\n",
              "  }\n",
              "\n",
              "  .colab-df-quickchart:hover {\n",
              "    background-color: var(--hover-bg-color);\n",
              "    box-shadow: 0 1px 2px rgba(60, 64, 67, 0.3), 0 1px 3px 1px rgba(60, 64, 67, 0.15);\n",
              "    fill: var(--button-hover-fill-color);\n",
              "  }\n",
              "\n",
              "  .colab-df-quickchart-complete:disabled,\n",
              "  .colab-df-quickchart-complete:disabled:hover {\n",
              "    background-color: var(--disabled-bg-color);\n",
              "    fill: var(--disabled-fill-color);\n",
              "    box-shadow: none;\n",
              "  }\n",
              "\n",
              "  .colab-df-spinner {\n",
              "    border: 2px solid var(--fill-color);\n",
              "    border-color: transparent;\n",
              "    border-bottom-color: var(--fill-color);\n",
              "    animation:\n",
              "      spin 1s steps(1) infinite;\n",
              "  }\n",
              "\n",
              "  @keyframes spin {\n",
              "    0% {\n",
              "      border-color: transparent;\n",
              "      border-bottom-color: var(--fill-color);\n",
              "      border-left-color: var(--fill-color);\n",
              "    }\n",
              "    20% {\n",
              "      border-color: transparent;\n",
              "      border-left-color: var(--fill-color);\n",
              "      border-top-color: var(--fill-color);\n",
              "    }\n",
              "    30% {\n",
              "      border-color: transparent;\n",
              "      border-left-color: var(--fill-color);\n",
              "      border-top-color: var(--fill-color);\n",
              "      border-right-color: var(--fill-color);\n",
              "    }\n",
              "    40% {\n",
              "      border-color: transparent;\n",
              "      border-right-color: var(--fill-color);\n",
              "      border-top-color: var(--fill-color);\n",
              "    }\n",
              "    60% {\n",
              "      border-color: transparent;\n",
              "      border-right-color: var(--fill-color);\n",
              "    }\n",
              "    80% {\n",
              "      border-color: transparent;\n",
              "      border-right-color: var(--fill-color);\n",
              "      border-bottom-color: var(--fill-color);\n",
              "    }\n",
              "    90% {\n",
              "      border-color: transparent;\n",
              "      border-bottom-color: var(--fill-color);\n",
              "    }\n",
              "  }\n",
              "</style>\n",
              "\n",
              "      <script>\n",
              "        async function quickchart(key) {\n",
              "          const quickchartButtonEl =\n",
              "            document.querySelector('#' + key + ' button');\n",
              "          quickchartButtonEl.disabled = true;  // To prevent multiple clicks.\n",
              "          quickchartButtonEl.classList.add('colab-df-spinner');\n",
              "          try {\n",
              "            const charts = await google.colab.kernel.invokeFunction(\n",
              "                'suggestCharts', [key], {});\n",
              "          } catch (error) {\n",
              "            console.error('Error during call to suggestCharts:', error);\n",
              "          }\n",
              "          quickchartButtonEl.classList.remove('colab-df-spinner');\n",
              "          quickchartButtonEl.classList.add('colab-df-quickchart-complete');\n",
              "        }\n",
              "        (() => {\n",
              "          let quickchartButtonEl =\n",
              "            document.querySelector('#df-fb8324cb-470a-4725-98be-e37ca19734b4 button');\n",
              "          quickchartButtonEl.style.display =\n",
              "            google.colab.kernel.accessAllowed ? 'block' : 'none';\n",
              "        })();\n",
              "      </script>\n",
              "    </div>\n",
              "\n",
              "  <div id=\"id_dcf257c0-bbc6-4260-8433-2d803253e832\">\n",
              "    <style>\n",
              "      .colab-df-generate {\n",
              "        background-color: #E8F0FE;\n",
              "        border: none;\n",
              "        border-radius: 50%;\n",
              "        cursor: pointer;\n",
              "        display: none;\n",
              "        fill: #1967D2;\n",
              "        height: 32px;\n",
              "        padding: 0 0 0 0;\n",
              "        width: 32px;\n",
              "      }\n",
              "\n",
              "      .colab-df-generate:hover {\n",
              "        background-color: #E2EBFA;\n",
              "        box-shadow: 0px 1px 2px rgba(60, 64, 67, 0.3), 0px 1px 3px 1px rgba(60, 64, 67, 0.15);\n",
              "        fill: #174EA6;\n",
              "      }\n",
              "\n",
              "      [theme=dark] .colab-df-generate {\n",
              "        background-color: #3B4455;\n",
              "        fill: #D2E3FC;\n",
              "      }\n",
              "\n",
              "      [theme=dark] .colab-df-generate:hover {\n",
              "        background-color: #434B5C;\n",
              "        box-shadow: 0px 1px 3px 1px rgba(0, 0, 0, 0.15);\n",
              "        filter: drop-shadow(0px 1px 2px rgba(0, 0, 0, 0.3));\n",
              "        fill: #FFFFFF;\n",
              "      }\n",
              "    </style>\n",
              "    <button class=\"colab-df-generate\" onclick=\"generateWithVariable('test_df')\"\n",
              "            title=\"Generate code using this dataframe.\"\n",
              "            style=\"display:none;\">\n",
              "\n",
              "  <svg xmlns=\"http://www.w3.org/2000/svg\" height=\"24px\"viewBox=\"0 0 24 24\"\n",
              "       width=\"24px\">\n",
              "    <path d=\"M7,19H8.4L18.45,9,17,7.55,7,17.6ZM5,21V16.75L18.45,3.32a2,2,0,0,1,2.83,0l1.4,1.43a1.91,1.91,0,0,1,.58,1.4,1.91,1.91,0,0,1-.58,1.4L9.25,21ZM18.45,9,17,7.55Zm-12,3A5.31,5.31,0,0,0,4.9,8.1,5.31,5.31,0,0,0,1,6.5,5.31,5.31,0,0,0,4.9,4.9,5.31,5.31,0,0,0,6.5,1,5.31,5.31,0,0,0,8.1,4.9,5.31,5.31,0,0,0,12,6.5,5.46,5.46,0,0,0,6.5,12Z\"/>\n",
              "  </svg>\n",
              "    </button>\n",
              "    <script>\n",
              "      (() => {\n",
              "      const buttonEl =\n",
              "        document.querySelector('#id_dcf257c0-bbc6-4260-8433-2d803253e832 button.colab-df-generate');\n",
              "      buttonEl.style.display =\n",
              "        google.colab.kernel.accessAllowed ? 'block' : 'none';\n",
              "\n",
              "      buttonEl.onclick = () => {\n",
              "        google.colab.notebook.generateWithVariable('test_df');\n",
              "      }\n",
              "      })();\n",
              "    </script>\n",
              "  </div>\n",
              "\n",
              "    </div>\n",
              "  </div>\n"
            ],
            "application/vnd.google.colaboratory.intrinsic+json": {
              "type": "dataframe",
              "variable_name": "test_df",
              "summary": "{\n  \"name\": \"test_df\",\n  \"rows\": 77,\n  \"fields\": [\n    {\n      \"column\": \"tokenized_text\",\n      \"properties\": {\n        \"dtype\": \"object\",\n        \"semantic_type\": \"\",\n        \"description\": \"\"\n      }\n    },\n    {\n      \"column\": \"ner\",\n      \"properties\": {\n        \"dtype\": \"object\",\n        \"semantic_type\": \"\",\n        \"description\": \"\"\n      }\n    },\n    {\n      \"column\": \"validated\",\n      \"properties\": {\n        \"dtype\": \"boolean\",\n        \"num_unique_values\": 1,\n        \"samples\": [\n          false\n        ],\n        \"semantic_type\": \"\",\n        \"description\": \"\"\n      }\n    },\n    {\n      \"column\": \"entities\",\n      \"properties\": {\n        \"dtype\": \"object\",\n        \"semantic_type\": \"\",\n        \"description\": \"\"\n      }\n    }\n  ]\n}"
            }
          },
          "metadata": {},
          "execution_count": 70
        }
      ],
      "execution_count": null
    },
    {
      "cell_type": "code",
      "source": [
        "test_df.to_csv(f\"{base_fpath}/PREDICTIONS_REFUGEE_TEST_HOLDOUT.csv\", index=False)"
      ],
      "metadata": {
        "trusted": true,
        "id": "SFU7EejitoRJ"
      },
      "outputs": [],
      "execution_count": null
    },
    {
      "cell_type": "code",
      "source": [],
      "metadata": {
        "id": "2AS-rVAw_m9O"
      },
      "execution_count": null,
      "outputs": []
    }
  ]
}